{
 "cells": [
  {
   "cell_type": "markdown",
   "metadata": {},
   "source": [
    "# Tech Blues Capstone\n",
    "## First Draft Notebook"
   ]
  },
  {
   "cell_type": "code",
   "execution_count": 1,
   "metadata": {},
   "outputs": [],
   "source": [
    "# imports\n",
    "import numpy as np\n",
    "import pandas as pd\n",
    "import matplotlib.pyplot as plt\n",
    "import seaborn as sns\n",
    "from sklearn.model_selection import train_test_split\n",
    "from scipy import stats\n",
    "import wrangle\n",
    "import tyler_explore"
   ]
  },
  {
   "cell_type": "markdown",
   "metadata": {},
   "source": [
    "## Project Overview"
   ]
  },
  {
   "cell_type": "code",
   "execution_count": null,
   "metadata": {},
   "outputs": [],
   "source": []
  },
  {
   "cell_type": "markdown",
   "metadata": {},
   "source": [
    "## Project Planning"
   ]
  },
  {
   "cell_type": "code",
   "execution_count": null,
   "metadata": {},
   "outputs": [],
   "source": []
  },
  {
   "cell_type": "markdown",
   "metadata": {},
   "source": [
    "## Data Acquisition"
   ]
  },
  {
   "cell_type": "code",
   "execution_count": 2,
   "metadata": {},
   "outputs": [],
   "source": [
    "# use our 'get_survey_data' function to bring in the data\n",
    "df = wrangle.get_survey_data('survey.csv')"
   ]
  },
  {
   "cell_type": "code",
   "execution_count": 3,
   "metadata": {},
   "outputs": [
    {
     "name": "stdout",
     "output_type": "stream",
     "text": [
      "----------------------------------------------------\n",
      "DataFrame Head\n",
      "   Unnamed: 0            Timestamp  Age  Gender        Country state  \\\n",
      "0           0  2014-08-27 11:29:31   37  Female  United States    IL   \n",
      "1           1  2014-08-27 11:29:37   44       M  United States    IN   \n",
      "2           2  2014-08-27 11:29:44   32    Male         Canada   NaN   \n",
      "\n",
      "  self_employed family_history treatment work_interfere  ...  \\\n",
      "0           NaN             No       Yes          Often  ...   \n",
      "1           NaN             No        No         Rarely  ...   \n",
      "2           NaN             No        No         Rarely  ...   \n",
      "\n",
      "                leave mental_health_consequence phys_health_consequence  \\\n",
      "0       Somewhat easy                        No                      No   \n",
      "1          Don't know                     Maybe                      No   \n",
      "2  Somewhat difficult                        No                      No   \n",
      "\n",
      "      coworkers supervisor mental_health_interview phys_health_interview  \\\n",
      "0  Some of them        Yes                      No                 Maybe   \n",
      "1            No         No                      No                    No   \n",
      "2           Yes        Yes                     Yes                   Yes   \n",
      "\n",
      "  mental_vs_physical obs_consequence comments  \n",
      "0                Yes              No      NaN  \n",
      "1         Don't know              No      NaN  \n",
      "2                 No              No      NaN  \n",
      "\n",
      "[3 rows x 28 columns]\n",
      "----------------------------------------------------\n",
      "DataFrame Info\n",
      "<class 'pandas.core.frame.DataFrame'>\n",
      "RangeIndex: 1259 entries, 0 to 1258\n",
      "Data columns (total 28 columns):\n",
      " #   Column                     Non-Null Count  Dtype \n",
      "---  ------                     --------------  ----- \n",
      " 0   Unnamed: 0                 1259 non-null   int64 \n",
      " 1   Timestamp                  1259 non-null   object\n",
      " 2   Age                        1259 non-null   int64 \n",
      " 3   Gender                     1259 non-null   object\n",
      " 4   Country                    1259 non-null   object\n",
      " 5   state                      744 non-null    object\n",
      " 6   self_employed              1241 non-null   object\n",
      " 7   family_history             1259 non-null   object\n",
      " 8   treatment                  1259 non-null   object\n",
      " 9   work_interfere             995 non-null    object\n",
      " 10  no_employees               1259 non-null   object\n",
      " 11  remote_work                1259 non-null   object\n",
      " 12  tech_company               1259 non-null   object\n",
      " 13  benefits                   1259 non-null   object\n",
      " 14  care_options               1259 non-null   object\n",
      " 15  wellness_program           1259 non-null   object\n",
      " 16  seek_help                  1259 non-null   object\n",
      " 17  anonymity                  1259 non-null   object\n",
      " 18  leave                      1259 non-null   object\n",
      " 19  mental_health_consequence  1259 non-null   object\n",
      " 20  phys_health_consequence    1259 non-null   object\n",
      " 21  coworkers                  1259 non-null   object\n",
      " 22  supervisor                 1259 non-null   object\n",
      " 23  mental_health_interview    1259 non-null   object\n",
      " 24  phys_health_interview      1259 non-null   object\n",
      " 25  mental_vs_physical         1259 non-null   object\n",
      " 26  obs_consequence            1259 non-null   object\n",
      " 27  comments                   164 non-null    object\n",
      "dtypes: int64(2), object(26)\n",
      "memory usage: 275.5+ KB\n",
      "None\n",
      "----------------------------------------------------\n",
      "DataFrame Description\n",
      "        Unnamed: 0           Age\n",
      "count  1259.000000  1.259000e+03\n",
      "mean    629.000000  7.942815e+07\n",
      "std     363.586303  2.818299e+09\n",
      "min       0.000000 -1.726000e+03\n",
      "25%     314.500000  2.700000e+01\n",
      "50%     629.000000  3.100000e+01\n",
      "75%     943.500000  3.600000e+01\n",
      "max    1258.000000  1.000000e+11\n",
      "----------------------------------------------------\n",
      "DataFrame Value Counts: \n",
      "(-1.259, 125.8]     126\n",
      "(125.8, 251.6]      126\n",
      "(251.6, 377.4]      126\n",
      "(377.4, 503.2]      126\n",
      "(503.2, 629.0]      126\n",
      "(629.0, 754.8]      125\n",
      "(754.8, 880.6]      126\n",
      "(880.6, 1006.4]     126\n",
      "(1006.4, 1132.2]    126\n",
      "(1132.2, 1258.0]    126\n",
      "Name: Unnamed: 0, dtype: int64\n",
      "2014-08-27 12:31:41    2\n",
      "2014-08-27 12:43:28    2\n",
      "2014-08-27 15:24:47    2\n",
      "2014-08-27 15:23:51    2\n",
      "2014-08-27 12:44:51    2\n",
      "                      ..\n",
      "2014-08-28 14:15:02    1\n",
      "2014-08-28 10:04:34    1\n",
      "2015-02-21 09:22:23    1\n",
      "2014-08-27 14:51:29    1\n",
      "2014-08-29 09:29:37    1\n",
      "Name: Timestamp, Length: 1246, dtype: int64\n",
      "(-100001727.726, 9999998446.5]    1258\n",
      "(9999998446.5, 19999998619.0]        0\n",
      "(19999998619.0, 29999998791.5]       0\n",
      "(29999998791.5, 39999998964.0]       0\n",
      "(39999998964.0, 49999999136.5]       0\n",
      "(49999999136.5, 59999999309.0]       0\n",
      "(59999999309.0, 69999999481.5]       0\n",
      "(69999999481.5, 79999999654.0]       0\n",
      "(79999999654.0, 89999999826.5]       0\n",
      "(89999999826.5, 99999999999.0]       1\n",
      "Name: Age, dtype: int64\n",
      "Male                                              615\n",
      "male                                              206\n",
      "Female                                            121\n",
      "M                                                 116\n",
      "female                                             62\n",
      "F                                                  38\n",
      "m                                                  34\n",
      "f                                                  15\n",
      "Make                                                4\n",
      "Male                                                3\n",
      "Woman                                               3\n",
      "Man                                                 2\n",
      "Female (trans)                                      2\n",
      "Cis Male                                            2\n",
      "Female                                              2\n",
      "Agender                                             1\n",
      "Male-ish                                            1\n",
      "Male (CIS)                                          1\n",
      "queer                                               1\n",
      "Malr                                                1\n",
      "Trans-female                                        1\n",
      "male leaning androgynous                            1\n",
      "Female (cis)                                        1\n",
      "queer/she/they                                      1\n",
      "maile                                               1\n",
      "All                                                 1\n",
      "A little about you                                  1\n",
      "ostensibly male, unsure what that really means      1\n",
      "Trans woman                                         1\n",
      "Enby                                                1\n",
      "non-binary                                          1\n",
      "Cis Female                                          1\n",
      "Cis Man                                             1\n",
      "fluid                                               1\n",
      "Mal                                                 1\n",
      "femail                                              1\n",
      "Mail                                                1\n",
      "Guy (-ish) ^_^                                      1\n",
      "Genderqueer                                         1\n",
      "Neuter                                              1\n",
      "p                                                   1\n",
      "cis-female/femme                                    1\n",
      "cis male                                            1\n",
      "Nah                                                 1\n",
      "Androgyne                                           1\n",
      "something kinda male?                               1\n",
      "Femake                                              1\n",
      "msle                                                1\n",
      "woman                                               1\n",
      "Name: Gender, dtype: int64\n",
      "United States             751\n",
      "United Kingdom            185\n",
      "Canada                     72\n",
      "Germany                    45\n",
      "Ireland                    27\n",
      "Netherlands                27\n",
      "Australia                  21\n",
      "France                     13\n",
      "India                      10\n",
      "New Zealand                 8\n",
      "Sweden                      7\n",
      "Switzerland                 7\n",
      "Italy                       7\n",
      "Poland                      7\n",
      "Belgium                     6\n",
      "Brazil                      6\n",
      "South Africa                6\n",
      "Israel                      5\n",
      "Singapore                   4\n",
      "Bulgaria                    4\n",
      "Russia                      3\n",
      "Austria                     3\n",
      "Finland                     3\n",
      "Mexico                      3\n",
      "Portugal                    2\n",
      "Greece                      2\n",
      "Croatia                     2\n",
      "Colombia                    2\n",
      "Denmark                     2\n",
      "Romania                     1\n",
      "Hungary                     1\n",
      "Latvia                      1\n",
      "Japan                       1\n",
      "Thailand                    1\n",
      "Moldova                     1\n",
      "Georgia                     1\n",
      "Nigeria                     1\n",
      "Slovenia                    1\n",
      "Costa Rica                  1\n",
      "Zimbabwe                    1\n",
      "China                       1\n",
      "Spain                       1\n",
      "Czech Republic              1\n",
      "Bosnia and Herzegovina      1\n",
      "Philippines                 1\n",
      "Uruguay                     1\n",
      "Norway                      1\n",
      "Bahamas, The                1\n",
      "Name: Country, dtype: int64\n",
      "CA    138\n",
      "WA     70\n",
      "NY     57\n",
      "TN     45\n",
      "TX     44\n",
      "OH     30\n",
      "OR     29\n",
      "IL     29\n",
      "PA     29\n",
      "IN     27\n",
      "MI     22\n",
      "MN     21\n",
      "MA     20\n",
      "FL     15\n",
      "VA     14\n",
      "NC     14\n",
      "GA     12\n",
      "MO     12\n",
      "WI     12\n",
      "UT     11\n",
      "CO      9\n",
      "MD      8\n",
      "AL      8\n",
      "AZ      7\n",
      "OK      6\n",
      "NJ      6\n",
      "KY      5\n",
      "SC      5\n",
      "DC      4\n",
      "IA      4\n",
      "CT      4\n",
      "VT      3\n",
      "SD      3\n",
      "NH      3\n",
      "KS      3\n",
      "NV      3\n",
      "NE      2\n",
      "WY      2\n",
      "NM      2\n",
      "ID      1\n",
      "MS      1\n",
      "LA      1\n",
      "WV      1\n",
      "ME      1\n",
      "RI      1\n",
      "Name: state, dtype: int64\n",
      "No     1095\n",
      "Yes     146\n",
      "Name: self_employed, dtype: int64\n",
      "No     767\n",
      "Yes    492\n",
      "Name: family_history, dtype: int64\n",
      "Yes    637\n",
      "No     622\n",
      "Name: treatment, dtype: int64\n",
      "Sometimes    465\n",
      "Never        213\n",
      "Rarely       173\n",
      "Often        144\n",
      "Name: work_interfere, dtype: int64\n",
      "6-25              290\n",
      "26-100            289\n",
      "More than 1000    282\n",
      "100-500           176\n",
      "1-5               162\n",
      "500-1000           60\n",
      "Name: no_employees, dtype: int64\n",
      "No     883\n",
      "Yes    376\n",
      "Name: remote_work, dtype: int64\n",
      "Yes    1031\n",
      "No      228\n",
      "Name: tech_company, dtype: int64\n",
      "Yes           477\n",
      "Don't know    408\n",
      "No            374\n",
      "Name: benefits, dtype: int64\n",
      "No          501\n",
      "Yes         444\n",
      "Not sure    314\n",
      "Name: care_options, dtype: int64\n",
      "No            842\n",
      "Yes           229\n",
      "Don't know    188\n",
      "Name: wellness_program, dtype: int64\n",
      "No            646\n",
      "Don't know    363\n",
      "Yes           250\n",
      "Name: seek_help, dtype: int64\n",
      "Don't know    819\n",
      "Yes           375\n",
      "No             65\n",
      "Name: anonymity, dtype: int64\n",
      "Don't know            563\n",
      "Somewhat easy         266\n",
      "Very easy             206\n",
      "Somewhat difficult    126\n",
      "Very difficult         98\n",
      "Name: leave, dtype: int64\n",
      "No       490\n",
      "Maybe    477\n",
      "Yes      292\n",
      "Name: mental_health_consequence, dtype: int64\n",
      "No       925\n",
      "Maybe    273\n",
      "Yes       61\n",
      "Name: phys_health_consequence, dtype: int64\n",
      "Some of them    774\n",
      "No              260\n",
      "Yes             225\n",
      "Name: coworkers, dtype: int64\n",
      "Yes             516\n",
      "No              393\n",
      "Some of them    350\n",
      "Name: supervisor, dtype: int64\n",
      "No       1008\n",
      "Maybe     207\n",
      "Yes        44\n",
      "Name: mental_health_interview, dtype: int64\n",
      "Maybe    557\n",
      "No       500\n",
      "Yes      202\n",
      "Name: phys_health_interview, dtype: int64\n",
      "Don't know    576\n",
      "Yes           343\n",
      "No            340\n",
      "Name: mental_vs_physical, dtype: int64\n",
      "No     1075\n",
      "Yes     184\n",
      "Name: obs_consequence, dtype: int64\n",
      "* Small family business - YMMV.                                                                                                                                                                                                                                                                                                                             5\n",
      "YOU MAY WANT TO THROW OUT MY ENTRY.I answered all of these questions with the assumption that Attention Deficit Disorder is considered a mental illness and with ADD in mind.                                                                                                                                                                               1\n",
      "Most employers / coworkers and even immediate family is not all the time supportive to discuss depression and other problems. ie. My wife thinks she should be able to make sure that I am not depressed  which is funny because sometimes depression state has nothing to do with her.                                                                     1\n",
      "While I have not seen any direct retaliation against people with known mental illness many people do freely use insults commonly associated with mental illness (r****d for example) and criticize people behind their back for taking extra leave for doctor appointments (Oh I bet they are just hung over or other comments about how lazy they are.)    1\n",
      "My company does provide healthcare but not to me as I'm on a fixed-term contract. The mental healthcare I use is provided entirely outside of my work.                                                                                                                                                                                                      1\n",
      "                                                                                                                                                                                                                                                                                                                                                           ..\n",
      "We don't fucking talk about it ever.                                                                                                                                                                                                                                                                                                                        1\n",
      "In Germany your employer doesn't really provide mental health benefits. There's a standard and I get that but I would get the same at any other company in Germany.                                                                                                                                                                                         1\n",
      "Hi Ed it's Paul Dragoonis. I have Aspergers/High Functioning Autism :-)                                                                                                                                                                                                                                                                                     1\n",
      "Would you bring up a mental health issue with a potential employer in an interview?Poignant.                                                                                                                                                                                                                                                                1\n",
      "Thank you this is very important.                                                                                                                                                                                                                                                                                                                           1\n",
      "Name: comments, Length: 160, dtype: int64\n",
      "----------------------------------------------------\n",
      "Nulls in DataFrame by Column: \n",
      "                           num_rows_missing  percent_rows_missing\n",
      "Unnamed: 0                                0              0.000000\n",
      "Timestamp                                 0              0.000000\n",
      "Age                                       0              0.000000\n",
      "Gender                                    0              0.000000\n",
      "Country                                   0              0.000000\n",
      "state                                   515             40.905481\n",
      "self_employed                            18              1.429706\n",
      "family_history                            0              0.000000\n",
      "treatment                                 0              0.000000\n",
      "work_interfere                          264             20.969023\n",
      "no_employees                              0              0.000000\n",
      "remote_work                               0              0.000000\n",
      "tech_company                              0              0.000000\n",
      "benefits                                  0              0.000000\n",
      "care_options                              0              0.000000\n",
      "wellness_program                          0              0.000000\n",
      "seek_help                                 0              0.000000\n",
      "anonymity                                 0              0.000000\n",
      "leave                                     0              0.000000\n",
      "mental_health_consequence                 0              0.000000\n",
      "phys_health_consequence                   0              0.000000\n",
      "coworkers                                 0              0.000000\n",
      "supervisor                                0              0.000000\n",
      "mental_health_interview                   0              0.000000\n",
      "phys_health_interview                     0              0.000000\n",
      "mental_vs_physical                        0              0.000000\n",
      "obs_consequence                           0              0.000000\n",
      "comments                               1095             86.973789\n",
      "----------------------------------------------------\n",
      "Nulls in DataFrame by Rows: \n",
      "  num_cols_missing percent_cols_missing  num_rows\n",
      "0                0                  0.0        86\n",
      "1                1    3.571428571428571       577\n",
      "2                2    7.142857142857142       473\n",
      "3                3   10.714285714285714       123\n",
      "----------------------------------------------------\n"
     ]
    },
    {
     "data": {
      "image/png": "[encoded data removed]",
      "text/plain": [
       "<Figure size 432x288 with 2 Axes>"
      ]
     },
     "metadata": {
      "needs_background": "light"
     },
     "output_type": "display_data"
    }
   ],
   "source": [
    "# Using summarize function to see head of dataframe, datatypes, amount of null values, stats, and value_counts\n",
    "wrangle.summarize(df)"
   ]
  },
  {
   "cell_type": "markdown",
   "metadata": {},
   "source": [
    "------"
   ]
  },
  {
   "cell_type": "markdown",
   "metadata": {},
   "source": [
    "# Acquire Key Findings, Takeaways, and Next Steps:\n",
    "- Good amount of nulls to drop or fill in \n",
    "- Choose to change some of the object datatypes to numeric datatype, decide what to drop, or decide what to use in modeling\n",
    "- columns to encode to numeric datatype: gender, Country, self_employed, family history, treatment, work_interfere, no_employees, remote_work, tech_company, benefits, care_options, wellness_program, seek_help, anonymity, leave, mental_health_consequence, phys-health_consequence, coworkers, supervisor, mental_health_interview, phys_health_interview, mental_vs_physical, obs_consequence\n",
    "- drop unnecassary columns: state and comments\n",
    "\n",
    "\n"
   ]
  },
  {
   "cell_type": "markdown",
   "metadata": {},
   "source": [
    "------"
   ]
  },
  {
   "cell_type": "markdown",
   "metadata": {},
   "source": [
    "## Data Preparation"
   ]
  },
  {
   "cell_type": "code",
   "execution_count": 4,
   "metadata": {},
   "outputs": [],
   "source": [
    "# Make copy of dataframe to have encoded columns in a separate dataframe\n",
    "encoded_df= df.copy()"
   ]
  },
  {
   "cell_type": "code",
   "execution_count": 5,
   "metadata": {},
   "outputs": [
    {
     "data": {
      "text/html": [
       "<div>\n",
       "<style scoped>\n",
       "    .dataframe tbody tr th:only-of-type {\n",
       "        vertical-align: middle;\n",
       "    }\n",
       "\n",
       "    .dataframe tbody tr th {\n",
       "        vertical-align: top;\n",
       "    }\n",
       "\n",
       "    .dataframe thead th {\n",
       "        text-align: right;\n",
       "    }\n",
       "</style>\n",
       "<table border=\"1\" class=\"dataframe\">\n",
       "  <thead>\n",
       "    <tr style=\"text-align: right;\">\n",
       "      <th></th>\n",
       "      <th>Unnamed: 0</th>\n",
       "      <th>Timestamp</th>\n",
       "      <th>Age</th>\n",
       "      <th>Gender</th>\n",
       "      <th>Country</th>\n",
       "      <th>state</th>\n",
       "      <th>self_employed</th>\n",
       "      <th>family_history</th>\n",
       "      <th>treatment</th>\n",
       "      <th>work_interfere</th>\n",
       "      <th>...</th>\n",
       "      <th>leave</th>\n",
       "      <th>mental_health_consequence</th>\n",
       "      <th>phys_health_consequence</th>\n",
       "      <th>coworkers</th>\n",
       "      <th>supervisor</th>\n",
       "      <th>mental_health_interview</th>\n",
       "      <th>phys_health_interview</th>\n",
       "      <th>mental_vs_physical</th>\n",
       "      <th>obs_consequence</th>\n",
       "      <th>comments</th>\n",
       "    </tr>\n",
       "  </thead>\n",
       "  <tbody>\n",
       "    <tr>\n",
       "      <th>0</th>\n",
       "      <td>0</td>\n",
       "      <td>2014-08-27 11:29:31</td>\n",
       "      <td>37</td>\n",
       "      <td>Female</td>\n",
       "      <td>United States</td>\n",
       "      <td>IL</td>\n",
       "      <td>NaN</td>\n",
       "      <td>No</td>\n",
       "      <td>Yes</td>\n",
       "      <td>Often</td>\n",
       "      <td>...</td>\n",
       "      <td>Somewhat easy</td>\n",
       "      <td>No</td>\n",
       "      <td>No</td>\n",
       "      <td>Some of them</td>\n",
       "      <td>Yes</td>\n",
       "      <td>No</td>\n",
       "      <td>Maybe</td>\n",
       "      <td>Yes</td>\n",
       "      <td>No</td>\n",
       "      <td>NaN</td>\n",
       "    </tr>\n",
       "    <tr>\n",
       "      <th>1</th>\n",
       "      <td>1</td>\n",
       "      <td>2014-08-27 11:29:37</td>\n",
       "      <td>44</td>\n",
       "      <td>M</td>\n",
       "      <td>United States</td>\n",
       "      <td>IN</td>\n",
       "      <td>NaN</td>\n",
       "      <td>No</td>\n",
       "      <td>No</td>\n",
       "      <td>Rarely</td>\n",
       "      <td>...</td>\n",
       "      <td>Don't know</td>\n",
       "      <td>Maybe</td>\n",
       "      <td>No</td>\n",
       "      <td>No</td>\n",
       "      <td>No</td>\n",
       "      <td>No</td>\n",
       "      <td>No</td>\n",
       "      <td>Don't know</td>\n",
       "      <td>No</td>\n",
       "      <td>NaN</td>\n",
       "    </tr>\n",
       "    <tr>\n",
       "      <th>2</th>\n",
       "      <td>2</td>\n",
       "      <td>2014-08-27 11:29:44</td>\n",
       "      <td>32</td>\n",
       "      <td>Male</td>\n",
       "      <td>Canada</td>\n",
       "      <td>NaN</td>\n",
       "      <td>NaN</td>\n",
       "      <td>No</td>\n",
       "      <td>No</td>\n",
       "      <td>Rarely</td>\n",
       "      <td>...</td>\n",
       "      <td>Somewhat difficult</td>\n",
       "      <td>No</td>\n",
       "      <td>No</td>\n",
       "      <td>Yes</td>\n",
       "      <td>Yes</td>\n",
       "      <td>Yes</td>\n",
       "      <td>Yes</td>\n",
       "      <td>No</td>\n",
       "      <td>No</td>\n",
       "      <td>NaN</td>\n",
       "    </tr>\n",
       "    <tr>\n",
       "      <th>3</th>\n",
       "      <td>3</td>\n",
       "      <td>2014-08-27 11:29:46</td>\n",
       "      <td>31</td>\n",
       "      <td>Male</td>\n",
       "      <td>United Kingdom</td>\n",
       "      <td>NaN</td>\n",
       "      <td>NaN</td>\n",
       "      <td>Yes</td>\n",
       "      <td>Yes</td>\n",
       "      <td>Often</td>\n",
       "      <td>...</td>\n",
       "      <td>Somewhat difficult</td>\n",
       "      <td>Yes</td>\n",
       "      <td>Yes</td>\n",
       "      <td>Some of them</td>\n",
       "      <td>No</td>\n",
       "      <td>Maybe</td>\n",
       "      <td>Maybe</td>\n",
       "      <td>No</td>\n",
       "      <td>Yes</td>\n",
       "      <td>NaN</td>\n",
       "    </tr>\n",
       "    <tr>\n",
       "      <th>4</th>\n",
       "      <td>4</td>\n",
       "      <td>2014-08-27 11:30:22</td>\n",
       "      <td>31</td>\n",
       "      <td>Male</td>\n",
       "      <td>United States</td>\n",
       "      <td>TX</td>\n",
       "      <td>NaN</td>\n",
       "      <td>No</td>\n",
       "      <td>No</td>\n",
       "      <td>Never</td>\n",
       "      <td>...</td>\n",
       "      <td>Don't know</td>\n",
       "      <td>No</td>\n",
       "      <td>No</td>\n",
       "      <td>Some of them</td>\n",
       "      <td>Yes</td>\n",
       "      <td>Yes</td>\n",
       "      <td>Yes</td>\n",
       "      <td>Don't know</td>\n",
       "      <td>No</td>\n",
       "      <td>NaN</td>\n",
       "    </tr>\n",
       "  </tbody>\n",
       "</table>\n",
       "<p>5 rows × 28 columns</p>\n",
       "</div>"
      ],
      "text/plain": [
       "   Unnamed: 0            Timestamp  Age  Gender         Country state  \\\n",
       "0           0  2014-08-27 11:29:31   37  Female   United States    IL   \n",
       "1           1  2014-08-27 11:29:37   44       M   United States    IN   \n",
       "2           2  2014-08-27 11:29:44   32    Male          Canada   NaN   \n",
       "3           3  2014-08-27 11:29:46   31    Male  United Kingdom   NaN   \n",
       "4           4  2014-08-27 11:30:22   31    Male   United States    TX   \n",
       "\n",
       "  self_employed family_history treatment work_interfere  ...  \\\n",
       "0           NaN             No       Yes          Often  ...   \n",
       "1           NaN             No        No         Rarely  ...   \n",
       "2           NaN             No        No         Rarely  ...   \n",
       "3           NaN            Yes       Yes          Often  ...   \n",
       "4           NaN             No        No          Never  ...   \n",
       "\n",
       "                leave mental_health_consequence phys_health_consequence  \\\n",
       "0       Somewhat easy                        No                      No   \n",
       "1          Don't know                     Maybe                      No   \n",
       "2  Somewhat difficult                        No                      No   \n",
       "3  Somewhat difficult                       Yes                     Yes   \n",
       "4          Don't know                        No                      No   \n",
       "\n",
       "      coworkers supervisor mental_health_interview phys_health_interview  \\\n",
       "0  Some of them        Yes                      No                 Maybe   \n",
       "1            No         No                      No                    No   \n",
       "2           Yes        Yes                     Yes                   Yes   \n",
       "3  Some of them         No                   Maybe                 Maybe   \n",
       "4  Some of them        Yes                     Yes                   Yes   \n",
       "\n",
       "  mental_vs_physical obs_consequence comments  \n",
       "0                Yes              No      NaN  \n",
       "1         Don't know              No      NaN  \n",
       "2                 No              No      NaN  \n",
       "3                 No             Yes      NaN  \n",
       "4         Don't know              No      NaN  \n",
       "\n",
       "[5 rows x 28 columns]"
      ]
     },
     "execution_count": 5,
     "metadata": {},
     "output_type": "execute_result"
    }
   ],
   "source": [
    "encoded_df.head()"
   ]
  },
  {
   "cell_type": "code",
   "execution_count": 6,
   "metadata": {},
   "outputs": [],
   "source": [
    "#dropping Unnamed column (unncessary column)\n",
    "encoded_df= encoded_df.drop(columns='Unnamed: 0')"
   ]
  },
  {
   "cell_type": "code",
   "execution_count": 7,
   "metadata": {},
   "outputs": [],
   "source": [
    "#Using prep strings function\n",
    "encoded_df= wrangle.prep_the_strings(encoded_df)"
   ]
  },
  {
   "cell_type": "code",
   "execution_count": 8,
   "metadata": {},
   "outputs": [
    {
     "name": "stdout",
     "output_type": "stream",
     "text": [
      "<class 'pandas.core.frame.DataFrame'>\n",
      "Int64Index: 957 entries, 0 to 1258\n",
      "Data columns (total 25 columns):\n",
      " #   Column                     Non-Null Count  Dtype         \n",
      "---  ------                     --------------  -----         \n",
      " 0   timestamp                  957 non-null    datetime64[ns]\n",
      " 1   age                        957 non-null    int64         \n",
      " 2   gender                     957 non-null    object        \n",
      " 3   country                    957 non-null    object        \n",
      " 4   self_employed              957 non-null    object        \n",
      " 5   family_history             957 non-null    object        \n",
      " 6   treatment                  957 non-null    object        \n",
      " 7   work_interfere             957 non-null    object        \n",
      " 8   no_employees               957 non-null    object        \n",
      " 9   remote_work                957 non-null    object        \n",
      " 10  tech_company               957 non-null    object        \n",
      " 11  benefits                   957 non-null    object        \n",
      " 12  care_options               957 non-null    object        \n",
      " 13  wellness_program           957 non-null    object        \n",
      " 14  seek_help                  957 non-null    object        \n",
      " 15  anonymity                  957 non-null    object        \n",
      " 16  leave                      957 non-null    object        \n",
      " 17  mental_health_consequence  957 non-null    object        \n",
      " 18  phys_health_consequence    957 non-null    object        \n",
      " 19  coworkers                  957 non-null    object        \n",
      " 20  supervisor                 957 non-null    object        \n",
      " 21  mental_health_interview    957 non-null    object        \n",
      " 22  phys_health_interview      957 non-null    object        \n",
      " 23  mental_vs_physical         957 non-null    object        \n",
      " 24  obs_consequence            957 non-null    object        \n",
      "dtypes: datetime64[ns](1), int64(1), object(23)\n",
      "memory usage: 194.4+ KB\n"
     ]
    }
   ],
   "source": [
    "#Verify nulls were filled in \n",
    "encoded_df.info()"
   ]
  },
  {
   "cell_type": "code",
   "execution_count": 9,
   "metadata": {},
   "outputs": [],
   "source": [
    "#using prep encode function\n",
    "encoded_df= wrangle.prep_encode(encoded_df)"
   ]
  },
  {
   "cell_type": "code",
   "execution_count": 10,
   "metadata": {},
   "outputs": [
    {
     "data": {
      "text/html": [
       "<div>\n",
       "<style scoped>\n",
       "    .dataframe tbody tr th:only-of-type {\n",
       "        vertical-align: middle;\n",
       "    }\n",
       "\n",
       "    .dataframe tbody tr th {\n",
       "        vertical-align: top;\n",
       "    }\n",
       "\n",
       "    .dataframe thead th {\n",
       "        text-align: right;\n",
       "    }\n",
       "</style>\n",
       "<table border=\"1\" class=\"dataframe\">\n",
       "  <thead>\n",
       "    <tr style=\"text-align: right;\">\n",
       "      <th></th>\n",
       "      <th>timestamp</th>\n",
       "      <th>age</th>\n",
       "      <th>gender</th>\n",
       "      <th>country</th>\n",
       "      <th>self_employed</th>\n",
       "      <th>family_history</th>\n",
       "      <th>treatment</th>\n",
       "      <th>work_interfere</th>\n",
       "      <th>company_size</th>\n",
       "      <th>remote_work</th>\n",
       "      <th>...</th>\n",
       "      <th>anonymity</th>\n",
       "      <th>leave</th>\n",
       "      <th>mental_health_consequence</th>\n",
       "      <th>phys_health_consequence</th>\n",
       "      <th>coworkers</th>\n",
       "      <th>supervisor</th>\n",
       "      <th>mental_health_interview</th>\n",
       "      <th>phys_health_interview</th>\n",
       "      <th>mental_vs_physical</th>\n",
       "      <th>obs_consequence</th>\n",
       "    </tr>\n",
       "  </thead>\n",
       "  <tbody>\n",
       "    <tr>\n",
       "      <th>0</th>\n",
       "      <td>2014-08-27 11:29:31</td>\n",
       "      <td>37</td>\n",
       "      <td>1</td>\n",
       "      <td>United States</td>\n",
       "      <td>0</td>\n",
       "      <td>0</td>\n",
       "      <td>1</td>\n",
       "      <td>1</td>\n",
       "      <td>1</td>\n",
       "      <td>0</td>\n",
       "      <td>...</td>\n",
       "      <td>1</td>\n",
       "      <td>3</td>\n",
       "      <td>0</td>\n",
       "      <td>0</td>\n",
       "      <td>2</td>\n",
       "      <td>1</td>\n",
       "      <td>0</td>\n",
       "      <td>2</td>\n",
       "      <td>1</td>\n",
       "      <td>0</td>\n",
       "    </tr>\n",
       "    <tr>\n",
       "      <th>1</th>\n",
       "      <td>2014-08-27 11:29:37</td>\n",
       "      <td>44</td>\n",
       "      <td>0</td>\n",
       "      <td>United States</td>\n",
       "      <td>0</td>\n",
       "      <td>0</td>\n",
       "      <td>0</td>\n",
       "      <td>1</td>\n",
       "      <td>5</td>\n",
       "      <td>0</td>\n",
       "      <td>...</td>\n",
       "      <td>2</td>\n",
       "      <td>2</td>\n",
       "      <td>2</td>\n",
       "      <td>0</td>\n",
       "      <td>0</td>\n",
       "      <td>0</td>\n",
       "      <td>0</td>\n",
       "      <td>0</td>\n",
       "      <td>2</td>\n",
       "      <td>0</td>\n",
       "    </tr>\n",
       "    <tr>\n",
       "      <th>2</th>\n",
       "      <td>2014-08-27 11:29:44</td>\n",
       "      <td>32</td>\n",
       "      <td>0</td>\n",
       "      <td>Canada</td>\n",
       "      <td>0</td>\n",
       "      <td>0</td>\n",
       "      <td>0</td>\n",
       "      <td>1</td>\n",
       "      <td>1</td>\n",
       "      <td>0</td>\n",
       "      <td>...</td>\n",
       "      <td>2</td>\n",
       "      <td>1</td>\n",
       "      <td>0</td>\n",
       "      <td>0</td>\n",
       "      <td>1</td>\n",
       "      <td>1</td>\n",
       "      <td>1</td>\n",
       "      <td>1</td>\n",
       "      <td>0</td>\n",
       "      <td>0</td>\n",
       "    </tr>\n",
       "    <tr>\n",
       "      <th>4</th>\n",
       "      <td>2014-08-27 11:30:22</td>\n",
       "      <td>31</td>\n",
       "      <td>0</td>\n",
       "      <td>United States</td>\n",
       "      <td>0</td>\n",
       "      <td>0</td>\n",
       "      <td>0</td>\n",
       "      <td>0</td>\n",
       "      <td>3</td>\n",
       "      <td>1</td>\n",
       "      <td>...</td>\n",
       "      <td>2</td>\n",
       "      <td>2</td>\n",
       "      <td>0</td>\n",
       "      <td>0</td>\n",
       "      <td>2</td>\n",
       "      <td>1</td>\n",
       "      <td>1</td>\n",
       "      <td>1</td>\n",
       "      <td>2</td>\n",
       "      <td>0</td>\n",
       "    </tr>\n",
       "    <tr>\n",
       "      <th>5</th>\n",
       "      <td>2014-08-27 11:31:22</td>\n",
       "      <td>33</td>\n",
       "      <td>0</td>\n",
       "      <td>United States</td>\n",
       "      <td>0</td>\n",
       "      <td>1</td>\n",
       "      <td>0</td>\n",
       "      <td>1</td>\n",
       "      <td>1</td>\n",
       "      <td>0</td>\n",
       "      <td>...</td>\n",
       "      <td>2</td>\n",
       "      <td>2</td>\n",
       "      <td>0</td>\n",
       "      <td>0</td>\n",
       "      <td>1</td>\n",
       "      <td>1</td>\n",
       "      <td>0</td>\n",
       "      <td>2</td>\n",
       "      <td>2</td>\n",
       "      <td>0</td>\n",
       "    </tr>\n",
       "  </tbody>\n",
       "</table>\n",
       "<p>5 rows × 25 columns</p>\n",
       "</div>"
      ],
      "text/plain": [
       "            timestamp  age  gender        country  self_employed  \\\n",
       "0 2014-08-27 11:29:31   37       1  United States              0   \n",
       "1 2014-08-27 11:29:37   44       0  United States              0   \n",
       "2 2014-08-27 11:29:44   32       0         Canada              0   \n",
       "4 2014-08-27 11:30:22   31       0  United States              0   \n",
       "5 2014-08-27 11:31:22   33       0  United States              0   \n",
       "\n",
       "   family_history  treatment  work_interfere  company_size  remote_work  ...  \\\n",
       "0               0          1               1             1            0  ...   \n",
       "1               0          0               1             5            0  ...   \n",
       "2               0          0               1             1            0  ...   \n",
       "4               0          0               0             3            1  ...   \n",
       "5               1          0               1             1            0  ...   \n",
       "\n",
       "   anonymity  leave  mental_health_consequence  phys_health_consequence  \\\n",
       "0          1      3                          0                        0   \n",
       "1          2      2                          2                        0   \n",
       "2          2      1                          0                        0   \n",
       "4          2      2                          0                        0   \n",
       "5          2      2                          0                        0   \n",
       "\n",
       "   coworkers  supervisor  mental_health_interview  phys_health_interview  \\\n",
       "0          2           1                        0                      2   \n",
       "1          0           0                        0                      0   \n",
       "2          1           1                        1                      1   \n",
       "4          2           1                        1                      1   \n",
       "5          1           1                        0                      2   \n",
       "\n",
       "   mental_vs_physical  obs_consequence  \n",
       "0                   1                0  \n",
       "1                   2                0  \n",
       "2                   0                0  \n",
       "4                   2                0  \n",
       "5                   2                0  \n",
       "\n",
       "[5 rows x 25 columns]"
      ]
     },
     "execution_count": 10,
     "metadata": {},
     "output_type": "execute_result"
    }
   ],
   "source": [
    "#Looking at dataframe after prep functions\n",
    "encoded_df.head()"
   ]
  },
  {
   "cell_type": "code",
   "execution_count": 11,
   "metadata": {},
   "outputs": [
    {
     "name": "stdout",
     "output_type": "stream",
     "text": [
      "<class 'pandas.core.frame.DataFrame'>\n",
      "Int64Index: 957 entries, 0 to 1258\n",
      "Data columns (total 25 columns):\n",
      " #   Column                     Non-Null Count  Dtype         \n",
      "---  ------                     --------------  -----         \n",
      " 0   timestamp                  957 non-null    datetime64[ns]\n",
      " 1   age                        957 non-null    int64         \n",
      " 2   gender                     957 non-null    int64         \n",
      " 3   country                    957 non-null    object        \n",
      " 4   self_employed              957 non-null    int64         \n",
      " 5   family_history             957 non-null    int64         \n",
      " 6   treatment                  957 non-null    int64         \n",
      " 7   work_interfere             957 non-null    int64         \n",
      " 8   company_size               957 non-null    int64         \n",
      " 9   remote_work                957 non-null    int64         \n",
      " 10  tech_company               957 non-null    int64         \n",
      " 11  benefits                   957 non-null    int64         \n",
      " 12  care_options               957 non-null    int64         \n",
      " 13  wellness_program           957 non-null    int64         \n",
      " 14  seek_help                  957 non-null    int64         \n",
      " 15  anonymity                  957 non-null    int64         \n",
      " 16  leave                      957 non-null    int64         \n",
      " 17  mental_health_consequence  957 non-null    int64         \n",
      " 18  phys_health_consequence    957 non-null    int64         \n",
      " 19  coworkers                  957 non-null    int64         \n",
      " 20  supervisor                 957 non-null    int64         \n",
      " 21  mental_health_interview    957 non-null    int64         \n",
      " 22  phys_health_interview      957 non-null    int64         \n",
      " 23  mental_vs_physical         957 non-null    int64         \n",
      " 24  obs_consequence            957 non-null    int64         \n",
      "dtypes: datetime64[ns](1), int64(23), object(1)\n",
      "memory usage: 194.4+ KB\n"
     ]
    }
   ],
   "source": [
    "#Looking at datatypes to verify it was changed\n",
    "encoded_df.info()"
   ]
  },
  {
   "cell_type": "markdown",
   "metadata": {},
   "source": [
    "**To prep this data before exploration, the following was done:**\n",
    "\n",
    "|   Feature      | Description    | Encoding |\n",
    "| :------------- | ----------- | -----------: |\n",
    "| timestamp\t|  Time survey was submitted | - |\n",
    "| age\t| Respondent age  | - |\n",
    "| gender\t| Respondent gender | male:0, female:1, other:2 |\n",
    "| country\t |  Respondent survey  | Only kept N America and Europe |\n",
    "| self_employed\t | Whether or not they were self employed | No:0, Yes:1 |\n",
    "| family_history\t| Whether or not they have a family history of mental illness | No:0, Yes:1 |\n",
    "| treatment\t |  Whether or not they have sought treatment  | No:0, Yes:1 |\n",
    "|  work_interfere\t  |  If the person felt that the mental condition interfered with work | Never:0, Rarely:1, Sometimes:2, Often:3, NA:4 |\n",
    "| no_employees\t| The number of employees in the company or organization  | <5:0, 6-25:1, 26-100:2, 101-500:3, 501-1000:4, >1000:5 |\n",
    "| remote_work\t | Having remote work (outside of an office) at least 50% of the time | No:0, Yes:1 |\n",
    "| tech_company\t| The employer is primarily a tech company/organization | No:0, Yes:1 |\n",
    "| benefits  |\tProviding mental health benefits by the employer | No:0, Yes:1, Don't know:2 |\n",
    "| care_options |\tProviding options for mental health care by the employer | No:0, Yes:1, Not sure:2 |\n",
    "| wellness_program\t| Discussion about mental health as part of an employee wellness program by the employees | No:0, Yes:1, Don't know:2 |\n",
    "| seek_help\t| Provided resources by the employer to learn more about mental health issues and how to seek help | No:0, Yes:1, Don't know:2 |\n",
    "| anonymity |\tProtecting anonymity if you choose to take advantage of mental health or substance abuse treatment resources | No:0, Yes:1, Don't know:2 |\n",
    "| leave  |\tHow easy is it for you to take medical leave for a mental health condition? | Very difficult:0, Somewhat difficult:1, Don't know:2, Somewhat easy:3, Very easy:4 |\n",
    "| mental-health_consequence |\tHaving negative consequences caused by discussing a mental health issue with your employer | No:0, Yes:1, Maybe:2 |\n",
    "| phys-health_consequence\t | Having negative consequences caused by discussing a physical health issue with your employer  | No:0, Yes:1, Maybe:2 |\n",
    "| coworkers |\tWould you be willing to discuss a mental health issue with your coworkers? | No:0, Yes:1, Some of them:2 |\n",
    "| supervisor\t| Would you be willing to discuss a mental health issue with your direct supervisor(s)? | No:0, Yes:1, Some of them:2 |\n",
    "| mental_health_interview  |\tWould you bring up a mental health issue with a potential employer in an interview?  | No:0, Yes:1, Maybe:2 |\n",
    "| phys_health_interview |\tWould you bring up a physical health issue with a potential employer in an interview?  | No:0, Yes:1, Maybe:2 |\n",
    "| mental_vs_physical |\tDo you feel that your employer takes mental health as seriously as physical health? | No:0, Yes:1, Don't know:2 |\n",
    "|  obs_consequence  |  Have you heard of or observed negative consequences for coworkers with mental health conditions in your workplace?  | No:0, Yes:1 |"
   ]
  },
  {
   "cell_type": "markdown",
   "metadata": {},
   "source": [
    "------"
   ]
  },
  {
   "cell_type": "markdown",
   "metadata": {},
   "source": [
    "### Data Preparation Key Findings, Takeaways, and Next Steps:\n",
    "\n",
    "- Chose to only include North America and Europe in our dataset: The economic status in these two countries are similar and this will give us more controlled variables with less bias in the data.\n",
    "- The cleaning process had a moderate amount of nulls that needed to filled in or dropped \n",
    "- Deciding on what to fill nulls for each column was dependent on the column we were dealing with as you can see in the cell above.\n",
    "- Initially decided to not one hot encode: will decide which columns to one hot encode once we find what features are drivers and what features are not."
   ]
  },
  {
   "cell_type": "markdown",
   "metadata": {},
   "source": [
    "------"
   ]
  },
  {
   "cell_type": "markdown",
   "metadata": {},
   "source": [
    "## Data Exploration"
   ]
  },
  {
   "cell_type": "markdown",
   "metadata": {},
   "source": [
    "### Univariate"
   ]
  },
  {
   "cell_type": "code",
   "execution_count": null,
   "metadata": {},
   "outputs": [],
   "source": []
  },
  {
   "cell_type": "markdown",
   "metadata": {},
   "source": [
    "#### Univariate - Key Findings, Takeaways, and Next Steps:"
   ]
  },
  {
   "cell_type": "code",
   "execution_count": null,
   "metadata": {},
   "outputs": [],
   "source": []
  },
  {
   "cell_type": "markdown",
   "metadata": {},
   "source": [
    "### Bivariate"
   ]
  },
  {
   "cell_type": "code",
   "execution_count": null,
   "metadata": {},
   "outputs": [],
   "source": []
  },
  {
   "cell_type": "markdown",
   "metadata": {},
   "source": [
    "#### Bivariate - Key Findings, Takeaways, and Next Steps:"
   ]
  },
  {
   "cell_type": "code",
   "execution_count": null,
   "metadata": {},
   "outputs": [],
   "source": []
  },
  {
   "cell_type": "markdown",
   "metadata": {},
   "source": [
    "### Multivariate"
   ]
  },
  {
   "cell_type": "code",
   "execution_count": null,
   "metadata": {},
   "outputs": [],
   "source": []
  },
  {
   "cell_type": "markdown",
   "metadata": {},
   "source": [
    "#### Multivariate - Key Findings, Takeaways, and Next Steps:"
   ]
  },
  {
   "cell_type": "code",
   "execution_count": null,
   "metadata": {},
   "outputs": [],
   "source": []
  },
  {
   "cell_type": "markdown",
   "metadata": {},
   "source": [
    "### Hypothesis Testing\n",
    "#### Target Variable: 'work_interfere'"
   ]
  },
  {
   "cell_type": "markdown",
   "metadata": {},
   "source": [
    "#### Hypothesis 1: [insert hypothesis here]\n",
    "- alpha : 0.05\n",
    "- ${H_0}$: [insert null hypothesis here]\n",
    "- ${H_a}$: [insert alternative hypothesis here]"
   ]
  },
  {
   "cell_type": "code",
   "execution_count": null,
   "metadata": {},
   "outputs": [],
   "source": [
    "# Here is the work for hypothesis 1"
   ]
  },
  {
   "cell_type": "markdown",
   "metadata": {},
   "source": [
    "#### Hypothesis 1 - Key Findings, Takeaways, and Next Steps:\n",
    "- [insert hypothesis here]\n",
    "- [reject or fail to reject the null]"
   ]
  },
  {
   "cell_type": "markdown",
   "metadata": {},
   "source": [
    "#### Hypothesis 2: [insert hypothesis here]\n",
    "- alpha : 0.05\n",
    "- ${H_0}$: [insert null hypothesis here]\n",
    "- ${H_a}$: [insert alternative hypothesis here]"
   ]
  },
  {
   "cell_type": "code",
   "execution_count": 5,
   "metadata": {},
   "outputs": [],
   "source": [
    "# Here is the work for hypothesis 2"
   ]
  },
  {
   "cell_type": "markdown",
   "metadata": {},
   "source": [
    "#### Hypothesis 2 - Key Findings, Takeaways, and Next Steps:\n",
    "- [insert hypothesis here]\n",
    "- [reject or fail to reject the null]"
   ]
  },
  {
   "cell_type": "markdown",
   "metadata": {},
   "source": [
    "#### Hypothesis 3: [insert hypothesis here]\n",
    "- alpha : 0.05\n",
    "- ${H_0}$: [insert null hypothesis here]\n",
    "- ${H_a}$: [insert alternative hypothesis here]"
   ]
  },
  {
   "cell_type": "code",
   "execution_count": 6,
   "metadata": {},
   "outputs": [],
   "source": [
    "# Here is the work for hypothesis 3"
   ]
  },
  {
   "cell_type": "markdown",
   "metadata": {},
   "source": [
    "#### Hypothesis 3 - Key Findings, Takeaways, and Next Steps:\n",
    "- [insert hypothesis here]\n",
    "- [reject or fail to reject the null]"
   ]
  },
  {
   "cell_type": "markdown",
   "metadata": {},
   "source": [
    "#### Hypothesis 4: [insert hypothesis here]\n",
    "- alpha : 0.05\n",
    "- ${H_0}$: [insert null hypothesis here]\n",
    "- ${H_a}$: [insert alternative hypothesis here]"
   ]
  },
  {
   "cell_type": "code",
   "execution_count": null,
   "metadata": {},
   "outputs": [],
   "source": []
  },
  {
   "cell_type": "code",
   "execution_count": null,
   "metadata": {},
   "outputs": [],
   "source": []
  },
  {
   "cell_type": "markdown",
   "metadata": {},
   "source": [
    "#### Hypothesis 5: [insert hypothesis here]\n",
    "- alpha : 0.05\n",
    "- ${H_0}$: [insert null hypothesis here]\n",
    "- ${H_a}$: [insert alternative hypothesis here]"
   ]
  },
  {
   "cell_type": "code",
   "execution_count": null,
   "metadata": {},
   "outputs": [],
   "source": []
  },
  {
   "cell_type": "code",
   "execution_count": null,
   "metadata": {},
   "outputs": [],
   "source": []
  },
  {
   "cell_type": "markdown",
   "metadata": {},
   "source": [
    "#### Hypothesis 6: [insert hypothesis here]\n",
    "- alpha : 0.05\n",
    "- ${H_0}$: [insert null hypothesis here]\n",
    "- ${H_a}$: [insert alternative hypothesis here]"
   ]
  },
  {
   "cell_type": "code",
   "execution_count": null,
   "metadata": {},
   "outputs": [],
   "source": []
  },
  {
   "cell_type": "code",
   "execution_count": null,
   "metadata": {},
   "outputs": [],
   "source": []
  },
  {
   "cell_type": "markdown",
   "metadata": {},
   "source": [
    "#### Hypothesis 7: [insert hypothesis here]\n",
    "- alpha : 0.05\n",
    "- ${H_0}$: [insert null hypothesis here]\n",
    "- ${H_a}$: [insert alternative hypothesis here]"
   ]
  },
  {
   "cell_type": "code",
   "execution_count": null,
   "metadata": {},
   "outputs": [],
   "source": []
  },
  {
   "cell_type": "code",
   "execution_count": null,
   "metadata": {},
   "outputs": [],
   "source": []
  },
  {
   "cell_type": "markdown",
   "metadata": {},
   "source": [
    "#### Hypothesis 8: [insert hypothesis here]\n",
    "- alpha : 0.05\n",
    "- ${H_0}$: [insert null hypothesis here]\n",
    "- ${H_a}$: [insert alternative hypothesis here]"
   ]
  },
  {
   "cell_type": "code",
   "execution_count": null,
   "metadata": {},
   "outputs": [],
   "source": []
  },
  {
   "cell_type": "code",
   "execution_count": null,
   "metadata": {},
   "outputs": [],
   "source": []
  },
  {
   "cell_type": "markdown",
   "metadata": {},
   "source": [
    "#### Hypothesis 9: [insert hypothesis here]\n",
    "- alpha : 0.05\n",
    "- ${H_0}$: [insert null hypothesis here]\n",
    "- ${H_a}$: [insert alternative hypothesis here]"
   ]
  },
  {
   "cell_type": "code",
   "execution_count": null,
   "metadata": {},
   "outputs": [],
   "source": []
  },
  {
   "cell_type": "code",
   "execution_count": null,
   "metadata": {},
   "outputs": [],
   "source": []
  },
  {
   "cell_type": "markdown",
   "metadata": {},
   "source": [
    "#### Hypothesis 10: [insert hypothesis here]\n",
    "- alpha : 0.05\n",
    "- ${H_0}$: [insert null hypothesis here]\n",
    "- ${H_a}$: [insert alternative hypothesis here]"
   ]
  },
  {
   "cell_type": "code",
   "execution_count": null,
   "metadata": {},
   "outputs": [],
   "source": []
  },
  {
   "cell_type": "code",
   "execution_count": null,
   "metadata": {},
   "outputs": [],
   "source": []
  },
  {
   "cell_type": "markdown",
   "metadata": {},
   "source": [
    "------"
   ]
  },
  {
   "cell_type": "markdown",
   "metadata": {},
   "source": [
    "### Explore Key Findings, Takeaways, and Next Steps:"
   ]
  },
  {
   "cell_type": "markdown",
   "metadata": {},
   "source": [
    "------"
   ]
  },
  {
   "cell_type": "code",
   "execution_count": null,
   "metadata": {},
   "outputs": [],
   "source": []
  },
  {
   "cell_type": "markdown",
   "metadata": {},
   "source": [
    "## Modeling"
   ]
  },
  {
   "cell_type": "markdown",
   "metadata": {},
   "source": [
    "### Initital Setup"
   ]
  },
  {
   "cell_type": "code",
   "execution_count": null,
   "metadata": {},
   "outputs": [],
   "source": []
  },
  {
   "cell_type": "markdown",
   "metadata": {},
   "source": [
    "### Model 1: [insert model name here]"
   ]
  },
  {
   "cell_type": "code",
   "execution_count": null,
   "metadata": {},
   "outputs": [],
   "source": []
  },
  {
   "cell_type": "markdown",
   "metadata": {},
   "source": [
    "#### Model 1: [insert model name here] - Key Findings, Takeaways, and Next Steps:"
   ]
  },
  {
   "cell_type": "code",
   "execution_count": null,
   "metadata": {},
   "outputs": [],
   "source": []
  },
  {
   "cell_type": "markdown",
   "metadata": {},
   "source": [
    "### Model 2: [insert model name here]"
   ]
  },
  {
   "cell_type": "code",
   "execution_count": null,
   "metadata": {},
   "outputs": [],
   "source": []
  },
  {
   "cell_type": "markdown",
   "metadata": {},
   "source": [
    "#### Model 2: [insert model name here] - Key Findings, Takeaways, and Next Steps:"
   ]
  },
  {
   "cell_type": "code",
   "execution_count": null,
   "metadata": {},
   "outputs": [],
   "source": []
  },
  {
   "cell_type": "markdown",
   "metadata": {},
   "source": [
    "### Model 3: [insert model name here]"
   ]
  },
  {
   "cell_type": "code",
   "execution_count": null,
   "metadata": {},
   "outputs": [],
   "source": []
  },
  {
   "cell_type": "markdown",
   "metadata": {},
   "source": [
    "#### Model 3: [insert model name here] - Key Findings, Takeaways, and Next Steps:"
   ]
  },
  {
   "cell_type": "code",
   "execution_count": null,
   "metadata": {},
   "outputs": [],
   "source": []
  },
  {
   "cell_type": "markdown",
   "metadata": {},
   "source": [
    "### Model 4: [insert model name here]"
   ]
  },
  {
   "cell_type": "code",
   "execution_count": null,
   "metadata": {},
   "outputs": [],
   "source": []
  },
  {
   "cell_type": "markdown",
   "metadata": {},
   "source": [
    "#### Model 4: [insert model name here] - Key Findings, Takeaways, and Next Steps:"
   ]
  },
  {
   "cell_type": "markdown",
   "metadata": {},
   "source": [
    "------"
   ]
  },
  {
   "cell_type": "markdown",
   "metadata": {},
   "source": [
    "### Modeling Key Findings, Takeaways, and Next Steps:"
   ]
  },
  {
   "cell_type": "markdown",
   "metadata": {},
   "source": [
    "------"
   ]
  },
  {
   "cell_type": "markdown",
   "metadata": {},
   "source": [
    "### Summary - Key Findings, Takeaways, and Next Steps:"
   ]
  },
  {
   "cell_type": "markdown",
   "metadata": {},
   "source": [
    "------"
   ]
  },
  {
   "cell_type": "code",
   "execution_count": null,
   "metadata": {},
   "outputs": [],
   "source": []
  }
 ],
 "metadata": {
  "kernelspec": {
   "display_name": "Python 3.8.5 64-bit ('base': conda)",
   "language": "python",
   "name": "python385jvsc74a57bd0b64057e63add2b45b1ffc7eab9b09c8889b419c878e2fdf0d08f837f0fc857a7"
  },
  "language_info": {
   "codemirror_mode": {
    "name": "ipython",
    "version": 3
   },
   "file_extension": ".py",
   "mimetype": "text/x-python",
   "name": "python",
   "nbconvert_exporter": "python",
   "pygments_lexer": "ipython3",
   "version": "3.8.5"
  }
 },
 "nbformat": 4,
 "nbformat_minor": 4
}
