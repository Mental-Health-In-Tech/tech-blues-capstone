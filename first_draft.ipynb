{
 "cells": [
  {
   "cell_type": "markdown",
   "metadata": {},
   "source": [
    "# Tech Blues Capstone\n",
    "## First Draft Notebook"
   ]
  },
  {
   "cell_type": "code",
   "execution_count": null,
   "metadata": {},
   "outputs": [],
   "source": [
    "# imports\n",
    "import numpy as np\n",
    "import pandas as pd\n",
    "import matplotlib.pyplot as plt\n",
    "import seaborn as sns\n",
    "from sklearn.model_selection import train_test_split\n",
    "from scipy import stats\n",
    "import wrangle\n",
    "import explore"
   ]
  },
  {
   "cell_type": "markdown",
   "metadata": {},
   "source": [
    "## Project Overview"
   ]
  },
  {
   "cell_type": "code",
   "execution_count": null,
   "metadata": {},
   "outputs": [],
   "source": []
  },
  {
   "cell_type": "markdown",
   "metadata": {},
   "source": [
    "## Project Planning"
   ]
  },
  {
   "cell_type": "code",
   "execution_count": null,
   "metadata": {},
   "outputs": [],
   "source": []
  },
  {
   "cell_type": "markdown",
   "metadata": {},
   "source": [
    "## Data Acquisition"
   ]
  },
  {
   "cell_type": "code",
   "execution_count": null,
   "metadata": {},
   "outputs": [],
   "source": [
    "# use our 'get_survey_data' function to bring in the data\n",
    "df = wrangle.get_survey_data('survey.csv')"
   ]
  },
  {
   "cell_type": "code",
   "execution_count": null,
   "metadata": {},
   "outputs": [],
   "source": [
    "# Using summarize function to see head of dataframe, datatypes, amount of null values, stats, and value_counts\n",
    "wrangle.summarize(df)"
   ]
  },
  {
   "cell_type": "markdown",
   "metadata": {},
   "source": [
    "------"
   ]
  },
  {
   "cell_type": "code",
   "execution_count": null,
   "metadata": {},
   "outputs": [],
   "source": [
    "# checking to see if there are any duplicate rows\n",
    "test_df = df.duplicated()\n",
    "test_df.value_counts()"
   ]
  },
  {
   "cell_type": "markdown",
   "metadata": {},
   "source": [
    "# Acquire Key Findings, Takeaways, and Next Steps:\n",
    "- Good amount of nulls to drop or fill in \n",
    "- Choose to change some of the object datatypes to numeric datatype, decide what to drop, or decide what to use in modeling\n",
    "- columns to encode to numeric datatype: gender, Country, self_employed, family history, treatment, work_interfere, no_employees, remote_work, tech_company, benefits, care_options, wellness_program, seek_help, anonymity, leave, mental_health_consequence, phys-health_consequence, coworkers, supervisor, mental_health_interview, phys_health_interview, mental_vs_physical, obs_consequence\n",
    "- drop unnecassary columns: state and comments\n",
    "- Since there are not unique identifiers for each observation, we cannot definitively say that each observation is a different person\n",
    "- We can, however, say that there are no duplicate entries in this data set"
   ]
  },
  {
   "cell_type": "markdown",
   "metadata": {},
   "source": [
    "------"
   ]
  },
  {
   "cell_type": "markdown",
   "metadata": {},
   "source": [
    "## Data Preparation"
   ]
  },
  {
   "cell_type": "code",
   "execution_count": null,
   "metadata": {},
   "outputs": [],
   "source": [
    "# initial prep for object data\n",
    "strings_df = wrangle.prep_the_strings(df)\n",
    "strings_df.info()"
   ]
  },
  {
   "cell_type": "code",
   "execution_count": null,
   "metadata": {},
   "outputs": [],
   "source": [
    "# initial prep for encoding objects into integers\n",
    "encoded_df = wrangle.prep_encode(strings_df)\n",
    "encoded_df.info()"
   ]
  },
  {
   "cell_type": "markdown",
   "metadata": {},
   "source": [
    "**To prep this data before exploration, the following was done:**\n",
    "\n",
    "|   Feature      | Description    | Encoding |\n",
    "| :------------- | ----------- | -----------: |\n",
    "| timestamp\t|  Time survey was submitted | - |\n",
    "| age\t| Respondent age  | - |\n",
    "| gender\t| Respondent gender | male:0, female:1, other:2 |\n",
    "| country\t |  Respondent survey  | Only kept N America and Europe |\n",
    "| self_employed\t | Whether or not they were self employed | No:0, Yes:1 |\n",
    "| family_history\t| Whether or not they have a family history of mental illness | No:0, Yes:1 |\n",
    "| treatment\t |  Whether or not they have sought treatment  | No:0, Yes:1 |\n",
    "|  work_interfere\t  |  If the person felt that the mental condition interfered with work | Never:0, Rarely:1, Sometimes:2, Often:3, NA:4 |\n",
    "| no_employees\t| The number of employees in the company or organization  | <5:0, 6-25:1, 26-100:2, 101-500:3, 501-1000:4, >1000:5 |\n",
    "| remote_work\t | Having remote work (outside of an office) at least 50% of the time | No:0, Yes:1 |\n",
    "| tech_company\t| The employer is primarily a tech company/organization | No:0, Yes:1 |\n",
    "| benefits  |\tProviding mental health benefits by the employer | No:0, Yes:1, Don't know:2 |\n",
    "| care_options |\tProviding options for mental health care by the employer | No:0, Yes:1, Not sure:2 |\n",
    "| wellness_program\t| Discussion about mental health as part of an employee wellness program by the employees | No:0, Yes:1, Don't know:2 |\n",
    "| seek_help\t| Provided resources by the employer to learn more about mental health issues and how to seek help | No:0, Yes:1, Don't know:2 |\n",
    "| anonymity |\tProtecting anonymity if you choose to take advantage of mental health or substance abuse treatment resources | No:0, Yes:1, Don't know:2 |\n",
    "| leave  |\tHow easy is it for you to take medical leave for a mental health condition? | Very difficult:0, Somewhat difficult:1, Don't know:2, Somewhat easy:3, Very easy:4 |\n",
    "| mental-health_consequence |\tHaving negative consequences caused by discussing a mental health issue with your employer | No:0, Yes:1, Maybe:2 |\n",
    "| phys-health_consequence\t | Having negative consequences caused by discussing a physical health issue with your employer  | No:0, Yes:1, Maybe:2 |\n",
    "| coworkers |\tWould you be willing to discuss a mental health issue with your coworkers? | No:0, Yes:1, Some of them:2 |\n",
    "| supervisor\t| Would you be willing to discuss a mental health issue with your direct supervisor(s)? | No:0, Yes:1, Some of them:2 |\n",
    "| mental_health_interview  |\tWould you bring up a mental health issue with a potential employer in an interview?  | No:0, Yes:1, Maybe:2 |\n",
    "| phys_health_interview |\tWould you bring up a physical health issue with a potential employer in an interview?  | No:0, Yes:1, Maybe:2 |\n",
    "| mental_vs_physical |\tDo you feel that your employer takes mental health as seriously as physical health? | No:0, Yes:1, Don't know:2 |\n",
    "|  obs_consequence  |  Have you heard of or observed negative consequences for coworkers with mental health conditions in your workplace?  | No:0, Yes:1 |"
   ]
  },
  {
   "cell_type": "markdown",
   "metadata": {},
   "source": [
    "------"
   ]
  },
  {
   "cell_type": "markdown",
   "metadata": {},
   "source": [
    "### Data Preparation Key Findings, Takeaways, and Next Steps:\n",
    "\n",
    "- Chose to only include North America and Europe in our dataset: The economic status in these two countries are similar and this will give us more controlled variables with less bias in the data.\n",
    "- The cleaning process had a moderate amount of nulls that needed to filled in or dropped \n",
    "- Deciding on what to fill nulls for each column was dependent on the column we were dealing with as you can see in the cell above.\n",
    "- Initially decided to not one hot encode: will decide which columns to one hot encode once we find what features are drivers and what features are not."
   ]
  },
  {
   "cell_type": "markdown",
   "metadata": {},
   "source": [
    "------"
   ]
  },
  {
   "cell_type": "markdown",
   "metadata": {},
   "source": [
    "## Data Exploration\n",
    "### 1st Iteration\n",
    "The first iteration will be performed on encoded data, before deciding which variables to one-hot encode before the second iteration of data exploration."
   ]
  },
  {
   "cell_type": "markdown",
   "metadata": {},
   "source": [
    "### Univariate"
   ]
  },
  {
   "cell_type": "code",
   "execution_count": null,
   "metadata": {},
   "outputs": [],
   "source": [
    "# first let's split the data...\n",
    "\n",
    "# encoded data\n",
    "encoded_train, encoded_validate, encoded_test = explore.three_split(encoded_df, 'work_interfere')"
   ]
  },
  {
   "cell_type": "code",
   "execution_count": null,
   "metadata": {},
   "outputs": [],
   "source": [
    "# countplots of categorical variables\n",
    "# histograms and bosplots of continuous variables\n",
    "explore.mental_health_univariate(encoded_df)"
   ]
  },
  {
   "cell_type": "markdown",
   "metadata": {},
   "source": [
    "#### `Univariate 1st Iteration - Key Findings, Takeaways, and Next Steps`:"
   ]
  },
  {
   "cell_type": "markdown",
   "metadata": {},
   "source": [
    "### Bivariate"
   ]
  },
  {
   "cell_type": "code",
   "execution_count": null,
   "metadata": {},
   "outputs": [],
   "source": [
    "encoded_bi_metrics = explore.mental_health_bivariate(encoded_train, 'work_interfere')"
   ]
  },
  {
   "cell_type": "markdown",
   "metadata": {},
   "source": [
    "#### Bivariate 1st Iteration - Key Findings, Takeaways, and Next Steps:"
   ]
  },
  {
   "cell_type": "markdown",
   "metadata": {},
   "source": [
    "**Possible Strong Drivers (p-value <= 0.05, chi2 >)** \n",
    "- gender, family history, treatment, benefits, care options, wellness program, leave, mental health consequence, phys health consequence, supervisor, mental health interview, mental vs physical, obs consequence\n",
    "- These variables all show \n",
    "\n",
    "**Other Observations**\n",
    "- Some of the values have a \"don't know\" column and they all are much less than yes or no. My theory is this is because people who need to access help or resources to get help probably looked into it because it was impacting work performance. \n",
    "        - companies larger than 1000 employees seem to have the least amount of impacts to work compared to the other sized companies\n",
    "        - people who feel like their employer does not consider mental health to be similar to physical health report higher rates of impact to work. \n",
    "        - Feeling comfortable talking to a supervisor also reduces the impact to work performance\n",
    "        - perceiving that one would be punished for mental health also had a higher rate of impact to work performance\n",
    "        - observing negative consequences to others in the company hurts work performance\n",
    "        - the easier it is to get leave the less impact to work performance there is\n",
    "\n",
    "**Worth Exploring Further**\n",
    "- company size"
   ]
  },
  {
   "cell_type": "markdown",
   "metadata": {},
   "source": [
    "### 2nd Iteration\n",
    "The second iteration will be performed on the one-hot encoded data, before deciding what other feature engineering we would like to perform before the third iteration of data exploration."
   ]
  },
  {
   "cell_type": "code",
   "execution_count": null,
   "metadata": {},
   "outputs": [],
   "source": [
    "# one-hot encode the data\n",
    "hot_df = explore.one_hot(encoded_df)"
   ]
  },
  {
   "cell_type": "code",
   "execution_count": null,
   "metadata": {},
   "outputs": [],
   "source": [
    "# split the one-hot encoded data\n",
    "hot_train, hot_validate, hot_test = explore.three_split(hot_df, 'work_interfere')"
   ]
  },
  {
   "cell_type": "code",
   "execution_count": null,
   "metadata": {
    "tags": []
   },
   "outputs": [],
   "source": [
    "# univariate exploration on one-hot encoded data\n",
    "\n",
    "explore.mental_health_univariate(hot_df)"
   ]
  },
  {
   "cell_type": "markdown",
   "metadata": {},
   "source": [
    "#### Univariate 2nd Iteration - Key Findings, Takeaways, and Next Steps:\n",
    "**Observations**\n",
    "- age has outliers: Will need to decide if we keep age and drop outliers, keep age and do not drop outliers, or decide not use age column.\n",
    "- Respondents who do not know how easy is it for them to take medical leave for a mental health condition account for at least half the respondents in the leave column.\n",
    "- Respondents who are not provided resources by the employer to learn more about mental health issues and how to seek help account for at least half the respondents in the seek_help column.\n",
    "- Respondents who can talk to some of their co-workers account for at least half of the respondents in the co_workers column.\n",
    "- Respondents who are unsure about they feel their employer takes mental health vs physical health account for at least half the respondents in the mental_vs_physical column."
   ]
  },
  {
   "cell_type": "markdown",
   "metadata": {},
   "source": [
    "### Bivariate"
   ]
  },
  {
   "cell_type": "code",
   "execution_count": null,
   "metadata": {
    "tags": []
   },
   "outputs": [],
   "source": [
    "hot_bi_metrics = explore.mental_health_bivariate(hot_train, 'work_interfere')"
   ]
  },
  {
   "cell_type": "markdown",
   "metadata": {},
   "source": [
    "#### Bivariate 2nd Iteration - Key Findings, Takeaways, and Next Steps:"
   ]
  },
  {
   "cell_type": "markdown",
   "metadata": {},
   "source": [
    "**Possible Strong Drivers (p-value <= 0.05, chi2 >)** \n",
    "- Top 5: \n",
    "    - Respondents who would either maybe or not bring up mental health issues with an employed in an interview.\n",
    "    - Respondents who know about their care options for mental health care\n",
    "    - Respondents who are feel comfortable speaking to their supervisor\n",
    "    - Respondents who are provided with mental health\n",
    "    - Respondents who think that discussing a mental health issue with your employer would have negative consequences."
   ]
  },
  {
   "cell_type": "markdown",
   "metadata": {},
   "source": [
    "### Multivariate"
   ]
  },
  {
   "cell_type": "markdown",
   "metadata": {},
   "source": [
    "#### Multivariate - Key Findings, Takeaways, and Next Steps:"
   ]
  },
  {
   "cell_type": "code",
   "execution_count": null,
   "metadata": {},
   "outputs": [],
   "source": []
  },
  {
   "cell_type": "markdown",
   "metadata": {},
   "source": [
    "### Hypothesis Testing\n",
    "#### Target Variable: 'work_interfere'"
   ]
  },
  {
   "cell_type": "markdown",
   "metadata": {},
   "source": [
    "#### Hypothesis 1: 'Supervisor'\n",
    "- alpha : 0.05\n",
    "- ${H_0}$: The mean workplace interference is the same for those who feel comfortable speaking with their supervisor about mental health issues, and those who do not feel comfortable.\n",
    "- ${H_a}$: The mean workplace interference is different for those who feel comfortable speaking with their supervisor about mental health issues than those who do not feel comfortable communicating those issues with their supervisor."
   ]
  },
  {
   "cell_type": "code",
   "execution_count": null,
   "metadata": {},
   "outputs": [],
   "source": [
    "# Here is the work for hypothesis 1\n",
    "explore.ty_chi(encoded_train, 'work_interfere', 'supervisor')"
   ]
  },
  {
   "cell_type": "markdown",
   "metadata": {},
   "source": [
    "#### Hypothesis 1 - Key Findings, Takeaways, and Next Steps:\n",
    "- 'Supervisor'\n",
    "- Since the p-value is less than alpha, we can reject the null hypothesis. There is evidence to suggest a relationship between an employee feeling comfortable speaking with a supervisor about personal mental health issues and work interference."
   ]
  },
  {
   "cell_type": "markdown",
   "metadata": {},
   "source": [
    "#### Hypothesis 2: [insert hypothesis here]\n",
    "- alpha : 0.05\n",
    "- ${H_0}$: [insert null hypothesis here]\n",
    "- ${H_a}$: [insert alternative hypothesis here]"
   ]
  },
  {
   "cell_type": "code",
   "execution_count": null,
   "metadata": {},
   "outputs": [],
   "source": [
    "# Here is the work for hypothesis 2"
   ]
  },
  {
   "cell_type": "markdown",
   "metadata": {},
   "source": [
    "#### Hypothesis 2 - Key Findings, Takeaways, and Next Steps:\n",
    "- [insert hypothesis here]\n",
    "- [reject or fail to reject the null]"
   ]
  },
  {
   "cell_type": "markdown",
   "metadata": {},
   "source": [
    "#### Hypothesis 3: [insert hypothesis here]\n",
    "- alpha : 0.05\n",
    "- ${H_0}$: [insert null hypothesis here]\n",
    "- ${H_a}$: [insert alternative hypothesis here]"
   ]
  },
  {
   "cell_type": "code",
   "execution_count": null,
   "metadata": {},
   "outputs": [],
   "source": [
    "# Here is the work for hypothesis 3"
   ]
  },
  {
   "cell_type": "markdown",
   "metadata": {},
   "source": [
    "#### Hypothesis 3 - Key Findings, Takeaways, and Next Steps:\n",
    "- [insert hypothesis here]\n",
    "- [reject or fail to reject the null]"
   ]
  },
  {
   "cell_type": "markdown",
   "metadata": {},
   "source": [
    "#### Hypothesis 4: [insert hypothesis here]\n",
    "- alpha : 0.05\n",
    "- ${H_0}$: [insert null hypothesis here]\n",
    "- ${H_a}$: [insert alternative hypothesis here]"
   ]
  },
  {
   "cell_type": "code",
   "execution_count": null,
   "metadata": {},
   "outputs": [],
   "source": []
  },
  {
   "cell_type": "code",
   "execution_count": null,
   "metadata": {},
   "outputs": [],
   "source": []
  },
  {
   "cell_type": "markdown",
   "metadata": {},
   "source": [
    "#### Hypothesis 5: [insert hypothesis here]\n",
    "- alpha : 0.05\n",
    "- ${H_0}$: [insert null hypothesis here]\n",
    "- ${H_a}$: [insert alternative hypothesis here]"
   ]
  },
  {
   "cell_type": "code",
   "execution_count": null,
   "metadata": {},
   "outputs": [],
   "source": []
  },
  {
   "cell_type": "code",
   "execution_count": null,
   "metadata": {},
   "outputs": [],
   "source": []
  },
  {
   "cell_type": "markdown",
   "metadata": {},
   "source": [
    "#### Hypothesis 6: [insert hypothesis here]\n",
    "- alpha : 0.05\n",
    "- ${H_0}$: [insert null hypothesis here]\n",
    "- ${H_a}$: [insert alternative hypothesis here]"
   ]
  },
  {
   "cell_type": "code",
   "execution_count": null,
   "metadata": {},
   "outputs": [],
   "source": []
  },
  {
   "cell_type": "code",
   "execution_count": null,
   "metadata": {},
   "outputs": [],
   "source": []
  },
  {
   "cell_type": "markdown",
   "metadata": {},
   "source": [
    "#### Hypothesis 7: [insert hypothesis here]\n",
    "- alpha : 0.05\n",
    "- ${H_0}$: [insert null hypothesis here]\n",
    "- ${H_a}$: [insert alternative hypothesis here]"
   ]
  },
  {
   "cell_type": "code",
   "execution_count": null,
   "metadata": {},
   "outputs": [],
   "source": []
  },
  {
   "cell_type": "code",
   "execution_count": null,
   "metadata": {},
   "outputs": [],
   "source": []
  },
  {
   "cell_type": "markdown",
   "metadata": {},
   "source": [
    "#### Hypothesis 8: [insert hypothesis here]\n",
    "- alpha : 0.05\n",
    "- ${H_0}$: [insert null hypothesis here]\n",
    "- ${H_a}$: [insert alternative hypothesis here]"
   ]
  },
  {
   "cell_type": "code",
   "execution_count": null,
   "metadata": {},
   "outputs": [],
   "source": []
  },
  {
   "cell_type": "code",
   "execution_count": null,
   "metadata": {},
   "outputs": [],
   "source": []
  },
  {
   "cell_type": "markdown",
   "metadata": {},
   "source": [
    "#### Hypothesis 9: [insert hypothesis here]\n",
    "- alpha : 0.05\n",
    "- ${H_0}$: [insert null hypothesis here]\n",
    "- ${H_a}$: [insert alternative hypothesis here]"
   ]
  },
  {
   "cell_type": "code",
   "execution_count": null,
   "metadata": {},
   "outputs": [],
   "source": []
  },
  {
   "cell_type": "code",
   "execution_count": null,
   "metadata": {},
   "outputs": [],
   "source": []
  },
  {
   "cell_type": "markdown",
   "metadata": {},
   "source": [
    "#### Hypothesis 10: [insert hypothesis here]\n",
    "- alpha : 0.05\n",
    "- ${H_0}$: [insert null hypothesis here]\n",
    "- ${H_a}$: [insert alternative hypothesis here]"
   ]
  },
  {
   "cell_type": "code",
   "execution_count": null,
   "metadata": {},
   "outputs": [],
   "source": []
  },
  {
   "cell_type": "code",
   "execution_count": null,
   "metadata": {},
   "outputs": [],
   "source": []
  },
  {
   "cell_type": "markdown",
   "metadata": {},
   "source": [
    "------"
   ]
  },
  {
   "cell_type": "markdown",
   "metadata": {},
   "source": [
    "### Explore Key Findings, Takeaways, and Next Steps:"
   ]
  },
  {
   "cell_type": "markdown",
   "metadata": {},
   "source": [
    "------"
   ]
  },
  {
   "cell_type": "code",
   "execution_count": null,
   "metadata": {},
   "outputs": [],
   "source": []
  },
  {
   "cell_type": "markdown",
   "metadata": {},
   "source": [
    "## Modeling"
   ]
  },
  {
   "cell_type": "markdown",
   "metadata": {},
   "source": [
    "### Initital Setup"
   ]
  },
  {
   "cell_type": "code",
   "execution_count": null,
   "metadata": {},
   "outputs": [],
   "source": [
    "# calculate baseline model using mean\n",
    "encoded_df['baseline'] = 1\n",
    "baseline_accuracy = (encoded_df.baseline == encoded_df.work_interfere).mean()\n",
    "print(f'Baseline accuracy is {baseline_accuracy:.2%}')"
   ]
  },
  {
   "cell_type": "code",
   "execution_count": null,
   "metadata": {},
   "outputs": [],
   "source": [
    "# encode the top 9 variables as decided by p value with chi2 with degrees of freedom >1\n",
    "dum_df = pd.get_dummies(data = encoded_df, columns = ['mental_health_interview','care_options','supervisor',\n",
    "                                'mental_health_consequence','leave', 'benefits','gender'], drop_first = True)"
   ]
  },
  {
   "cell_type": "code",
   "execution_count": null,
   "metadata": {},
   "outputs": [],
   "source": [
    "# drop the unecessary columns\n",
    "dum_df = dum_df.drop(columns = ['age', 'self_employed', 'company_size', 'remote_work', \n",
    "                               'tech_company', 'wellness_program','seek_help', \n",
    "                               'anonymity', 'phys_health_consequence', 'coworkers',\n",
    "                               'phys_health_interview', 'mental_vs_physical', 'obs_consequence', \n",
    "                               'baseline', 'timestamp', 'country'])"
   ]
  },
  {
   "cell_type": "code",
   "execution_count": null,
   "metadata": {},
   "outputs": [],
   "source": [
    "from imblearn import over_sampling\n",
    "from sklearn.ensemble import RandomForestClassifier\n",
    "from sklearn.tree import DecisionTreeClassifier\n",
    "import explore, evaluate\n",
    "from sklearn.model_selection import GridSearchCV\n",
    "import xgboost as xgb\n",
    "from sklearn.neural_network import MLPClassifier"
   ]
  },
  {
   "cell_type": "code",
   "execution_count": null,
   "metadata": {},
   "outputs": [],
   "source": [
    "# set up the random over sampler for class imbalance\n",
    "ros = over_sampling.RandomOverSampler(random_state = 123)"
   ]
  },
  {
   "cell_type": "code",
   "execution_count": null,
   "metadata": {},
   "outputs": [],
   "source": [
    "# do the splits\n",
    "X_train, y_train, X_validate, y_validate, X_test, y_test = explore.full_split(dum_df, 'work_interfere')"
   ]
  },
  {
   "cell_type": "code",
   "execution_count": null,
   "metadata": {},
   "outputs": [],
   "source": [
    "# create resampled data for training set\n",
    "X_res, y_res = ros.fit_resample(X_train, y_train)"
   ]
  },
  {
   "cell_type": "code",
   "execution_count": null,
   "metadata": {},
   "outputs": [],
   "source": [
    "X_res.columns"
   ]
  },
  {
   "cell_type": "markdown",
   "metadata": {},
   "source": [
    "### Model 1: Decision Tree"
   ]
  },
  {
   "cell_type": "code",
   "execution_count": null,
   "metadata": {},
   "outputs": [],
   "source": [
    "tree = DecisionTreeClassifier(max_depth=3, min_samples_leaf=3, min_samples_split=3).fit(X_res,y_res)"
   ]
  },
  {
   "cell_type": "code",
   "execution_count": null,
   "metadata": {},
   "outputs": [],
   "source": [
    "evaluate.run_metrics(X_res, y_res, tree, 'Train')"
   ]
  },
  {
   "cell_type": "code",
   "execution_count": null,
   "metadata": {},
   "outputs": [],
   "source": [
    "evaluate.run_metrics(X_validate, y_validate, tree, 'Validation')"
   ]
  },
  {
   "cell_type": "markdown",
   "metadata": {},
   "source": [
    "#### Model 1: Decision Tree - Key Findings, Takeaways, and Next Steps:\n",
    " - Key Findings:\n",
    "     - Model performed well, beating our baseline of 63% by 19 percentage points\n",
    "     - Model is mildly overfit\n",
    "     - Model is able to predict cases of work interference three quarters of the time\n",
    "     - Focusing on f-score, the model performs better at predicting cases of work interference\n",
    " - Next Steps:\n",
    "     - Random forest classifier could help generalize more and not be as overfit. The randomness intrinsic to the ensemble model would be more robust in handling out of sample data"
   ]
  },
  {
   "cell_type": "markdown",
   "metadata": {},
   "source": [
    "### Model 2: Random Forest Classifier"
   ]
  },
  {
   "cell_type": "code",
   "execution_count": null,
   "metadata": {},
   "outputs": [],
   "source": [
    "rfc = RandomForestClassifier(max_depth=8, min_samples_leaf=3, min_samples_split=10,\n",
    "                       random_state=123).fit(X_res, y_res)"
   ]
  },
  {
   "cell_type": "code",
   "execution_count": null,
   "metadata": {},
   "outputs": [],
   "source": [
    "evaluate.run_metrics(X_res, y_res, rfc, 'Train')"
   ]
  },
  {
   "cell_type": "code",
   "execution_count": null,
   "metadata": {},
   "outputs": [],
   "source": [
    "evaluate.run_metrics(X_validate, y_validate, rfc, 'Validate')"
   ]
  },
  {
   "cell_type": "markdown",
   "metadata": {},
   "source": [
    "#### Model 2: Random Forest Classifier - Key Findings, Takeaways, and Next Steps:"
   ]
  },
  {
   "cell_type": "markdown",
   "metadata": {},
   "source": [
    "- Key Findings:\n",
    "     - Model performed well, beating our baseline of 63% by 20 percentage points\n",
    "     - Model is mildly overfit\n",
    "     - Model is able to predict cases of work interference 77% of the time\n",
    "     - Focusing on f-score, the model performs better at predicting cases of work interference compared to the decision tree. \n",
    " - Next Steps:\n",
    "     - A boosted tree-based model could be even more powerful, but overfitting is more of an issue. We will use XGBoost as a model next"
   ]
  },
  {
   "cell_type": "markdown",
   "metadata": {},
   "source": [
    "### Model 3: XGBoost"
   ]
  },
  {
   "cell_type": "code",
   "execution_count": null,
   "metadata": {},
   "outputs": [],
   "source": [
    "xgbc = xgb.XGBClassifier(base_score=0.5, booster='gbtree', colsample_bylevel=1,\n",
    "              colsample_bynode=1, colsample_bytree=0.4, eta=0.25, gamma=0.1,\n",
    "              gpu_id=-1, importance_type='gain', interaction_constraints='',\n",
    "              learning_rate=0.25, max_delta_step=0, max_depth=6,\n",
    "              min_child_weight=1, missing=None, monotone_constraints='()',\n",
    "              n_estimators=100, n_jobs=8, num_parallel_tree=1, random_state=0,\n",
    "              reg_alpha=0, reg_lambda=1, scale_pos_weight=1, subsample=1,\n",
    "              tree_method='exact', validate_parameters=1, verbosity=None).fit(X_res, y_res)"
   ]
  },
  {
   "cell_type": "code",
   "execution_count": null,
   "metadata": {},
   "outputs": [],
   "source": [
    "evaluate.run_metrics(X_res, y_res, xgbc, 'Train')"
   ]
  },
  {
   "cell_type": "code",
   "execution_count": null,
   "metadata": {},
   "outputs": [],
   "source": [
    "evaluate.run_metrics(X_validate, y_validate, xgbc, 'Validate')"
   ]
  },
  {
   "cell_type": "markdown",
   "metadata": {},
   "source": [
    "#### Model 3: XGBoost - Key Findings, Takeaways, and Next Steps:"
   ]
  },
  {
   "cell_type": "markdown",
   "metadata": {},
   "source": [
    "- Key Findings:\n",
    "    - This model also outperforms the baseline, by 18 percentage points according to accuracy\n",
    "    - It is very overfit despite hyperparameter tuning with grid search\n",
    "    - has the lowest false negative rate compared to the non boosted tree models\n",
    "    - Performs well with the largest class, but seems undertrained on the underrepresented class when using the validate dataset\n",
    "    - Predicts true positives better than the other models\n",
    "- Next Steps: \n",
    "    - Let's try a neural net next, since it utilizes back propogation it will determine feature weight for us. We will just need to use ELI5 to implement a permutation importance analysis to determine drivers. "
   ]
  },
  {
   "cell_type": "markdown",
   "metadata": {},
   "source": [
    "### Model 4: Multi-layer Perceptron Classifier"
   ]
  },
  {
   "cell_type": "code",
   "execution_count": null,
   "metadata": {},
   "outputs": [],
   "source": [
    "mlp = MLPClassifier(random_state=123, max_iter=300).fit(X_res, y_res)"
   ]
  },
  {
   "cell_type": "code",
   "execution_count": null,
   "metadata": {},
   "outputs": [],
   "source": [
    "evaluate.run_metrics(X_res, y_res, mlp, 'train')"
   ]
  },
  {
   "cell_type": "code",
   "execution_count": null,
   "metadata": {},
   "outputs": [],
   "source": [
    "evaluate.run_metrics(X_validate, y_validate, mlp, 'train')"
   ]
  },
  {
   "cell_type": "markdown",
   "metadata": {},
   "source": [
    "#### Model 4: Multi-layer Perceptron - Key Findings, Takeaways, and Next Steps:"
   ]
  },
  {
   "cell_type": "markdown",
   "metadata": {},
   "source": [
    "- Key Findings:\n",
    "    - Model beat the baseline by 18 percentage points\n",
    "    - It is relatively overfit despite hyperparameter tuning with cross validation\n",
    "    - Has the highest true positive rate out of all models\n",
    "    - Has a very strong f1 score for positive cases, but is weak on the underrepresented class\n",
    "- Next Steps: \n",
    "    - Identify the target metric and what would provide the most value for our project goals. \n",
    "    - Fit best model on test set"
   ]
  },
  {
   "cell_type": "markdown",
   "metadata": {},
   "source": [
    "------"
   ]
  },
  {
   "cell_type": "markdown",
   "metadata": {},
   "source": [
    "### Modeling Key Findings, Takeaways, and Next Steps:\n",
    "\n",
    "- Key Findings:\n",
    "    - Best feature performance was with the following features:\n",
    "\n",
    "    ```mental_health_interview, mental_health_consequences, care_options, supervisor, benefits, gender, leave, family_history, treatment```\n",
    "\n",
    "    - Conceptually, we want to build a model that predicts cases of work interference. We want to maximize true positives and minimize false negatives (Type II error). F1 score is a score that weights false negatives higher while not weighting true negatives as much. Since we want a model that predicts work interference to then do a feature analysis on it, people who don't exerience work interference does not provide much value.\n",
    "    - Hyperparameters were determined using a GridSearchCV with 5 k-folds. \n",
    "    - Best model on validate and train using F1 score is the MLPClassifier, but since it is a black box estimator and we are dealing with sensitive data, we may want to use a white box estimator. \n",
    "        - Random Forest is the least overfit out of the models, and performed almost as well as XGBoost. XGBoost was very overfit even with cross validation. \n",
    "- Takeaways:\n",
    "    - We will use the Random Forest Classifier due to it's generalizability, simplicity, and its transparency. \n",
    "        - It had predicted both classes the best according to F1 score and also will be simpler to perform a feature analysis on it\n",
    "        - While the MLPClassifier had the least false negative/positive rates, its nature as a black box estimator and the nature of our data creates problems with transparency. We want to be respectful and concientious about how these features affect people's mental health and performance at work. \n",
    "- Next Steps:\n",
    "    - Use the model on out of sample data"
   ]
  },
  {
   "cell_type": "markdown",
   "metadata": {},
   "source": [
    "------"
   ]
  },
  {
   "cell_type": "markdown",
   "metadata": {},
   "source": [
    "### Model Testing and Feature Analysis"
   ]
  },
  {
   "cell_type": "code",
   "execution_count": null,
   "metadata": {},
   "outputs": [],
   "source": [
    "evaluate.run_metrics(X_test, y_test, rfc, 'Test')"
   ]
  },
  {
   "cell_type": "code",
   "execution_count": null,
   "metadata": {},
   "outputs": [],
   "source": [
    "importances,std = evaluate.get_importances(rfc)"
   ]
  },
  {
   "cell_type": "code",
   "execution_count": null,
   "metadata": {},
   "outputs": [],
   "source": [
    "evaluate.graph_importances(X_res, importances, std)"
   ]
  },
  {
   "cell_type": "code",
   "execution_count": null,
   "metadata": {},
   "outputs": [],
   "source": [
    "list(X_res.columns)"
   ]
  },
  {
   "cell_type": "markdown",
   "metadata": {},
   "source": [
    "### Model Testing and Feature Analysis Key Findings and Takeaways:"
   ]
  },
  {
   "cell_type": "markdown",
   "metadata": {},
   "source": [
    "- Model Testing: \n",
    "    - Key Findings:\n",
    "        - The model performed very well on out of sample data. There is an increase of almost 22 percentage points compared to baseline\n",
    "        - It predicted instances of work interference close to 82% correctly\n",
    "        - More importantly, it only incorrectly classified 18% of positive cases of work interference\n",
    "        - It improved on both f1 scores on the test data compared to the validation data\n",
    "    - Takeaways:\n",
    "        - The model performed better than expected, outperforming the validation data despite the test data having a smaller sample size\n",
    "        - The model generalized very well and could be improved with some more specific data and data collection\n",
    "- Feature Analysis:\n",
    "    - Key Findings:\n",
    "        - Feature analysis was performed using mean decrease in gini impurity.\n",
    "            - Whether or not they had treatment was the strongest feature\n",
    "            - Family history was another strong predictor\n",
    "            - The other factors had a weaker MDI, but they still provide some value\n",
    "    - Takeaways:\n",
    "        - Family history and seeking treatment are things that businesses don't have much control over, but they can provide resources and support to people who request those things. \n",
    "        - Being open to talking with a supervisor about mental health issues is a stronger factor compared to something like ease of getting leave from work. Having that mentorship role and support reduces work interference. \n",
    "        - Observing consequences due to mental health issues is another factor that drives work interference. Observing others get in trouble or have consequences due to mental health would be stressful for someone who is currently struggling. \n",
    "        - Having benefits only weakly impacts the data, but this could be due to how little mental health coverage is actually included in healthcare plans. \n",
    "        - Gender is weak, but this could be due to the extremely small sample size of gender:'other'\n",
    "            "
   ]
  },
  {
   "cell_type": "markdown",
   "metadata": {},
   "source": [
    "------"
   ]
  },
  {
   "cell_type": "markdown",
   "metadata": {},
   "source": [
    "### Summary - Key Findings, Takeaways, and Next Steps:"
   ]
  },
  {
   "cell_type": "markdown",
   "metadata": {},
   "source": [
    "------"
   ]
  },
  {
   "cell_type": "code",
   "execution_count": null,
   "metadata": {},
   "outputs": [],
   "source": []
  }
 ],
 "metadata": {
  "kernelspec": {
   "display_name": "Python 3",
   "language": "python",
   "name": "python3"
  },
  "language_info": {
   "codemirror_mode": {
    "name": "ipython",
    "version": 3
   },
   "file_extension": ".py",
   "mimetype": "text/x-python",
   "name": "python",
   "nbconvert_exporter": "python",
   "pygments_lexer": "ipython3",
   "version": "3.8.5"
  }
 },
 "nbformat": 4,
 "nbformat_minor": 4
}
