{
 "cells": [
  {
   "cell_type": "markdown",
   "metadata": {},
   "source": [
    "# Tyler's Capstone Scratchpad"
   ]
  },
  {
   "cell_type": "code",
   "execution_count": 1,
   "metadata": {},
   "outputs": [],
   "source": [
    "# imports\n",
    "import numpy as np\n",
    "import pandas as pd\n",
    "import matplotlib.pyplot as plt\n",
    "import seaborn as sns\n",
    "from sklearn.model_selection import train_test_split\n",
    "from scipy import stats\n",
    "import acquire\n",
    "import tyler_explore"
   ]
  },
  {
   "cell_type": "code",
   "execution_count": 2,
   "metadata": {},
   "outputs": [],
   "source": [
    "df = acquire.get_survey_data('survey.csv')"
   ]
  },
  {
   "cell_type": "code",
   "execution_count": 3,
   "metadata": {},
   "outputs": [
    {
     "name": "stdout",
     "output_type": "stream",
     "text": [
      "<class 'pandas.core.frame.DataFrame'>\n",
      "Index: 1259 entries, 2014-08-27 11:29:31 to 2016-02-01 23:04:31\n",
      "Data columns (total 26 columns):\n",
      " #   Column                     Non-Null Count  Dtype \n",
      "---  ------                     --------------  ----- \n",
      " 0   Age                        1259 non-null   int64 \n",
      " 1   Gender                     1259 non-null   object\n",
      " 2   Country                    1259 non-null   object\n",
      " 3   state                      744 non-null    object\n",
      " 4   self_employed              1241 non-null   object\n",
      " 5   family_history             1259 non-null   object\n",
      " 6   treatment                  1259 non-null   object\n",
      " 7   work_interfere             995 non-null    object\n",
      " 8   no_employees               1259 non-null   object\n",
      " 9   remote_work                1259 non-null   object\n",
      " 10  tech_company               1259 non-null   object\n",
      " 11  benefits                   1259 non-null   object\n",
      " 12  care_options               1259 non-null   object\n",
      " 13  wellness_program           1259 non-null   object\n",
      " 14  seek_help                  1259 non-null   object\n",
      " 15  anonymity                  1259 non-null   object\n",
      " 16  leave                      1259 non-null   object\n",
      " 17  mental_health_consequence  1259 non-null   object\n",
      " 18  phys_health_consequence    1259 non-null   object\n",
      " 19  coworkers                  1259 non-null   object\n",
      " 20  supervisor                 1259 non-null   object\n",
      " 21  mental_health_interview    1259 non-null   object\n",
      " 22  phys_health_interview      1259 non-null   object\n",
      " 23  mental_vs_physical         1259 non-null   object\n",
      " 24  obs_consequence            1259 non-null   object\n",
      " 25  comments                   164 non-null    object\n",
      "dtypes: int64(1), object(25)\n",
      "memory usage: 265.6+ KB\n"
     ]
    }
   ],
   "source": [
    "df.info()"
   ]
  },
  {
   "cell_type": "code",
   "execution_count": null,
   "metadata": {},
   "outputs": [],
   "source": []
  }
 ],
 "metadata": {
  "kernelspec": {
   "display_name": "Python 3.8.5 64-bit ('base': conda)",
   "language": "python",
   "name": "python385jvsc74a57bd0b64057e63add2b45b1ffc7eab9b09c8889b419c878e2fdf0d08f837f0fc857a7"
  },
  "language_info": {
   "codemirror_mode": {
    "name": "ipython",
    "version": 3
   },
   "file_extension": ".py",
   "mimetype": "text/x-python",
   "name": "python",
   "nbconvert_exporter": "python",
   "pygments_lexer": "ipython3",
   "version": "3.8.5"
  }
 },
 "nbformat": 4,
 "nbformat_minor": 4
}
