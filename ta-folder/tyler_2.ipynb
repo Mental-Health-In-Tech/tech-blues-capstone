{
 "cells": [
  {
   "cell_type": "markdown",
   "metadata": {},
   "source": [
    "# Tech Blues Capstone\n",
    "## First Draft Notebook"
   ]
  },
  {
   "cell_type": "code",
   "execution_count": 1,
   "metadata": {},
   "outputs": [],
   "source": [
    "# imports\n",
    "import numpy as np\n",
    "import pandas as pd\n",
    "import matplotlib.pyplot as plt\n",
    "import seaborn as sns\n",
    "from sklearn.model_selection import train_test_split\n",
    "from scipy import stats\n",
    "import wrangle2\n",
    "import explore2\n",
    "import tyler_explore"
   ]
  },
  {
   "cell_type": "markdown",
   "metadata": {},
   "source": [
    "## Project Overview"
   ]
  },
  {
   "cell_type": "code",
   "execution_count": null,
   "metadata": {},
   "outputs": [],
   "source": []
  },
  {
   "cell_type": "markdown",
   "metadata": {},
   "source": [
    "## Project Planning"
   ]
  },
  {
   "cell_type": "code",
   "execution_count": null,
   "metadata": {},
   "outputs": [],
   "source": []
  },
  {
   "cell_type": "markdown",
   "metadata": {},
   "source": [
    "## Data Acquisition"
   ]
  },
  {
   "cell_type": "code",
   "execution_count": 2,
   "metadata": {},
   "outputs": [],
   "source": [
    "# use our 'get_survey_data' function to bring in the data\n",
    "df = wrangle2.get_survey_data('survey2.csv')"
   ]
  },
  {
   "cell_type": "code",
   "execution_count": 3,
   "metadata": {},
   "outputs": [
    {
     "data": {
      "text/plain": [
       "False    1259\n",
       "dtype: int64"
      ]
     },
     "execution_count": 3,
     "metadata": {},
     "output_type": "execute_result"
    }
   ],
   "source": [
    "# checking to see if there are any duplicate rows\n",
    "test_df = df.duplicated()\n",
    "test_df.value_counts()"
   ]
  },
  {
   "cell_type": "code",
   "execution_count": 4,
   "metadata": {},
   "outputs": [],
   "source": [
    "# Using summarize function to see head of dataframe, datatypes, amount of null values, stats, and value_counts\n",
    "# wrangle2.summarize(df)"
   ]
  },
  {
   "cell_type": "markdown",
   "metadata": {},
   "source": [
    "------"
   ]
  },
  {
   "cell_type": "markdown",
   "metadata": {},
   "source": [
    "# Acquire Key Findings, Takeaways, and Next Steps:\n",
    "- Good amount of nulls to drop or fill in \n",
    "- Choose to change some of the object datatypes to numeric datatype, decide what to drop, or decide what to use in modeling\n",
    "- columns to encode to numeric datatype: gender, Country, self_employed, family history, treatment, work_interfere, no_employees, remote_work, tech_company, benefits, care_options, wellness_program, seek_help, anonymity, leave, mental_health_consequence, phys-health_consequence, coworkers, supervisor, mental_health_interview, phys_health_interview, mental_vs_physical, obs_consequence\n",
    "- drop unnecassary columns: state and comments\n",
    "\n",
    "\n"
   ]
  },
  {
   "cell_type": "markdown",
   "metadata": {},
   "source": [
    "------"
   ]
  },
  {
   "cell_type": "markdown",
   "metadata": {},
   "source": [
    "## Data Preparation"
   ]
  },
  {
   "cell_type": "code",
   "execution_count": 5,
   "metadata": {},
   "outputs": [],
   "source": [
    "# initial prep for object data\n",
    "strings_df = wrangle2.prep_the_strings(df)\n",
    "# strings_df.info()"
   ]
  },
  {
   "cell_type": "code",
   "execution_count": 6,
   "metadata": {},
   "outputs": [],
   "source": [
    "# initial prep for encoding objects into integers\n",
    "encoded_df = wrangle2.prep_encode(strings_df)\n",
    "# encoded_df.info()"
   ]
  },
  {
   "cell_type": "markdown",
   "metadata": {},
   "source": [
    "**To prep this data before exploration, the following was done:**\n",
    "\n",
    "|   Feature      | Description    | Encoding |\n",
    "| :------------- | ----------- | -----------: |\n",
    "| timestamp\t|  Time survey was submitted | - |\n",
    "| age\t| Respondent age  | - |\n",
    "| gender\t| Respondent gender | male:0, female:1, other:2 |\n",
    "| country\t |  Respondent survey  | Only kept N America and Europe |\n",
    "| self_employed\t | Whether or not they were self employed | No:0, Yes:1 |\n",
    "| family_history\t| Whether or not they have a family history of mental illness | No:0, Yes:1 |\n",
    "| treatment\t |  Whether or not they have sought treatment  | No:0, Yes:1 |\n",
    "|  work_interfere\t  |  If the person felt that the mental condition interfered with work | Never:0, Rarely:1, Sometimes:2, Often:3, NA:4 |\n",
    "| no_employees\t| The number of employees in the company or organization  | <5:0, 6-25:1, 26-100:2, 101-500:3, 501-1000:4, >1000:5 |\n",
    "| remote_work\t | Having remote work (outside of an office) at least 50% of the time | No:0, Yes:1 |\n",
    "| tech_company\t| The employer is primarily a tech company/organization | No:0, Yes:1 |\n",
    "| benefits  |\tProviding mental health benefits by the employer | No:0, Yes:1, Don't know:2 |\n",
    "| care_options |\tProviding options for mental health care by the employer | No:0, Yes:1, Not sure:2 |\n",
    "| wellness_program\t| Discussion about mental health as part of an employee wellness program by the employees | No:0, Yes:1, Don't know:2 |\n",
    "| seek_help\t| Provided resources by the employer to learn more about mental health issues and how to seek help | No:0, Yes:1, Don't know:2 |\n",
    "| anonymity |\tProtecting anonymity if you choose to take advantage of mental health or substance abuse treatment resources | No:0, Yes:1, Don't know:2 |\n",
    "| leave  |\tHow easy is it for you to take medical leave for a mental health condition? | Very difficult:0, Somewhat difficult:1, Don't know:2, Somewhat easy:3, Very easy:4 |\n",
    "| mental-health_consequence |\tHaving negative consequences caused by discussing a mental health issue with your employer | No:0, Yes:1, Maybe:2 |\n",
    "| phys-health_consequence\t | Having negative consequences caused by discussing a physical health issue with your employer  | No:0, Yes:1, Maybe:2 |\n",
    "| coworkers |\tWould you be willing to discuss a mental health issue with your coworkers? | No:0, Yes:1, Some of them:2 |\n",
    "| supervisor\t| Would you be willing to discuss a mental health issue with your direct supervisor(s)? | No:0, Yes:1, Some of them:2 |\n",
    "| mental_health_interview  |\tWould you bring up a mental health issue with a potential employer in an interview?  | No:0, Yes:1, Maybe:2 |\n",
    "| phys_health_interview |\tWould you bring up a physical health issue with a potential employer in an interview?  | No:0, Yes:1, Maybe:2 |\n",
    "| mental_vs_physical |\tDo you feel that your employer takes mental health as seriously as physical health? | No:0, Yes:1, Don't know:2 |\n",
    "|  obs_consequence  |  Have you heard of or observed negative consequences for coworkers with mental health conditions in your workplace?  | No:0, Yes:1 |"
   ]
  },
  {
   "cell_type": "markdown",
   "metadata": {},
   "source": [
    "------"
   ]
  },
  {
   "cell_type": "markdown",
   "metadata": {},
   "source": [
    "### Data Preparation Key Findings, Takeaways, and Next Steps:\n",
    "\n",
    "- Chose to only include North America and Europe in our dataset: The economic status in these two countries are similar and this will give us more controlled variables with less bias in the data.\n",
    "- The cleaning process had a moderate amount of nulls that needed to filled in or dropped \n",
    "- Deciding on what to fill nulls for each column was dependent on the column we were dealing with as you can see in the cell above.\n",
    "- Initially decided to not one hot encode: will decide which columns to one hot encode once we find what features are drivers and what features are not."
   ]
  },
  {
   "cell_type": "markdown",
   "metadata": {},
   "source": [
    "------"
   ]
  },
  {
   "cell_type": "markdown",
   "metadata": {},
   "source": [
    "## Data Exploration\n",
    "### 1st Iteration\n",
    "The first iteration will be performed on encoded data, before deciding which variables to one-hot encode before the second iteration of data exploration."
   ]
  },
  {
   "cell_type": "markdown",
   "metadata": {},
   "source": [
    "### Univariate"
   ]
  },
  {
   "cell_type": "code",
   "execution_count": null,
   "metadata": {},
   "outputs": [],
   "source": [
    "# first let's split the data...\n",
    "\n",
    "# encoded data\n",
    "encoded_train, encoded_validate, encoded_test = explore2.three_split(encoded_df, 'work_interfere')"
   ]
  },
  {
   "cell_type": "code",
   "execution_count": null,
   "metadata": {},
   "outputs": [],
   "source": [
    "# countplots of categorical variables\n",
    "# histograms and bosplots of continuous variables\n",
    "# explore2.mental_health_univariate(encoded_df)"
   ]
  },
  {
   "cell_type": "markdown",
   "metadata": {},
   "source": [
    "#### Univariate 1st Iteration - Key Findings, Takeaways, and Next Steps:\n",
    "- `gender` is heavily imbalanced, with 70% of respondents being male. What kind of impact will this have? Are men more/less likey to seek treatment and/or have mental health issues that lead to workplace interference?\n",
    "- `self-employed` is also heavily imbalanced, with only 10% reporting being self-employed. Does this group have more/less issues than those working for others?\n",
    "- `family_history` is 60% no history, 40% history. Interesting to see so many showing a history of mental-illness...(could this be a potential driver???).\n",
    "- `treatment` is almost evenly split. Will be very interested to see if this is a driver - Does receiving treatement lead to more or less interference?\n",
    "- `work_interfere` our target variable is split 60-40, will need to explore over/under-sampling methods to improve model accuracy.\n",
    "- `company_size` has multiple peaks and valleys. It would be nice if the data wasn't already binned, so we could possibly bin differently. Also, clustering might play a role in dealing with company size. It appears there will be a relationship with our target, but what it is, is currently unclear.\n",
    "- `remote_work` is roughly 70-30, with most people working in office. Becasue this data is pre-covid, it would be really nice to gather additional data during/post-covid to see what changes have occurred.\n",
    "- `tech_company` represents 80% of our observations, with approx 20% not working in tech. Unclear at this time if we have enough data to make a good comparison between the two groups.\n",
    "- `benefits` is roughly normally distributed with about half of all observations receiving benefits, one-fifth not receiving any, and one-third unsure if they are available. Really interested to learn more about the 'unsure' group. How do they not know? Are they going to stand out compared to the other two groups?\n",
    "- `care_options` are almost uniform in distribution. 'Yes' and 'No' each receive a little over one-third of all responses, and 'Don't know' receives just under one-third. Again, we are very interested in the 'Don't know' group. Does it not matter if care is available because they do not have mental health issues? Or, is this a possible sign of a group not receiving preventative measures that could have a potentially large impact?\n",
    "- `wellness_program` has 60% not having a wellness program, and 20% each either having one, or unsure. Would love to see how this relates to tech vs non-tech jobs, and again, if 'Don't know' is a driver, or just noise.\n",
    "- `seek_help` has 40% not receiving help/resources from their company, and 30% receiving help, and 20% unsure.\n",
    "- `anonymity` shows an overwhelming majority of respondents who are unsure if they would be able to remain anonymous.\n",
    "- `leave` is roughly normally distributed, however most responses are unsure how difficult it would be to take leave due to a mental health issue.\n",
    "- `mental_health_consequence` shows most either do not think their would be consequences, or are unsure\n",
    "- `phys_health_consequence` shows a stark contrast to mental...75% have no fear, 5% worry about consequences, and 20% are unsure. We are really interested to see what leads to these differences.\n",
    "- `coworkers` shows an overwhelming majority are unsure if they would be comfortable speaking with coworkers about personal mental health issues.\n",
    "- `supervisor` shows another stark contrast where most do feel comfortable speaking with a supervisor about mental health issues, even though they are unsure about speaking with coworkers.\n",
    "- `mental_health_interview` shows that the overwhelming majority do not feel comfortable bringing up mental health issues in an interview.\n",
    "- `phys_health_interview` shows that roughly half as many people would be afraid to bring up a physical health issue as a mental one.\n",
    "- `mental_vs_physical` shows an equal amount of yes and no responses, with a larger portion of unsure. These groups definitely need to be looked into.\n",
    "- `obs_consequence` shows 90% of observations have not heard of any consequences from coworkers sharing mental health issues.\n",
    "- `age` is roughly normally distributed around a mean of 32, but has a tail on the upper end. Will be interested interesting to see if we need to bin this data, and how it relates to other variables."
   ]
  },
  {
   "cell_type": "markdown",
   "metadata": {},
   "source": [
    "### Bivariate"
   ]
  },
  {
   "cell_type": "code",
   "execution_count": null,
   "metadata": {},
   "outputs": [],
   "source": [
    "# encoded_bi_metrics = explore2.mental_health_bivariate(encoded_train, 'work_interfere')"
   ]
  },
  {
   "cell_type": "markdown",
   "metadata": {},
   "source": [
    "#### Bivariate 1st Iteration - Key Findings, Takeaways, and Next Steps:"
   ]
  },
  {
   "cell_type": "code",
   "execution_count": null,
   "metadata": {},
   "outputs": [],
   "source": []
  },
  {
   "cell_type": "markdown",
   "metadata": {},
   "source": [
    "### 2nd Iteration\n",
    "The second iteration will be performed on the one-hot encoded data, before deciding what other feature engineering we would like to perform before the third iteration of data exploration."
   ]
  },
  {
   "cell_type": "code",
   "execution_count": 7,
   "metadata": {},
   "outputs": [],
   "source": [
    "# one-hot encode the data\n",
    "hot_df = explore2.one_hot(encoded_df)"
   ]
  },
  {
   "cell_type": "code",
   "execution_count": 8,
   "metadata": {},
   "outputs": [],
   "source": [
    "# looking for largest groups in the data...\n",
    "col_list = list(hot_df.columns)"
   ]
  },
  {
   "cell_type": "code",
   "execution_count": 9,
   "metadata": {},
   "outputs": [],
   "source": [
    "# dropping 'age' from col_list\n",
    "col_list = col_list[1:]"
   ]
  },
  {
   "cell_type": "code",
   "execution_count": 10,
   "metadata": {},
   "outputs": [],
   "source": [
    "# dropping age from the dataframe\n",
    "hot_cats = hot_df.drop(columns=('age'))"
   ]
  },
  {
   "cell_type": "code",
   "execution_count": 99,
   "metadata": {},
   "outputs": [],
   "source": [
    "def largest_group(df, col_list):\n",
    "    totals_dict = {'variable': [], 'count': []}\n",
    "    \n",
    "    for col in col_list:\n",
    "        totals_dict['variable'].append(col)\n",
    "        totals_dict['count'].append(df[col].sum())\n",
    "        totals_df = pd.DataFrame(totals_dict)\n",
    "        totals_df = totals_df.sort_values('count', ascending=False)\n",
    "    return totals_df"
   ]
  },
  {
   "cell_type": "code",
   "execution_count": 100,
   "metadata": {},
   "outputs": [
    {
     "data": {
      "text/plain": [
       "741"
      ]
     },
     "execution_count": 100,
     "metadata": {},
     "output_type": "execute_result"
    }
   ],
   "source": [
    "hot_cats['gender_0'].sum()"
   ]
  },
  {
   "cell_type": "code",
   "execution_count": 101,
   "metadata": {},
   "outputs": [
    {
     "data": {
      "text/html": [
       "<div>\n",
       "<style scoped>\n",
       "    .dataframe tbody tr th:only-of-type {\n",
       "        vertical-align: middle;\n",
       "    }\n",
       "\n",
       "    .dataframe tbody tr th {\n",
       "        vertical-align: top;\n",
       "    }\n",
       "\n",
       "    .dataframe thead th {\n",
       "        text-align: right;\n",
       "    }\n",
       "</style>\n",
       "<table border=\"1\" class=\"dataframe\">\n",
       "  <thead>\n",
       "    <tr style=\"text-align: right;\">\n",
       "      <th></th>\n",
       "      <th>variable</th>\n",
       "      <th>count</th>\n",
       "    </tr>\n",
       "  </thead>\n",
       "  <tbody>\n",
       "    <tr>\n",
       "      <th>42</th>\n",
       "      <td>mental_health_interview_0</td>\n",
       "      <td>783</td>\n",
       "    </tr>\n",
       "    <tr>\n",
       "      <th>1</th>\n",
       "      <td>gender_0</td>\n",
       "      <td>741</td>\n",
       "    </tr>\n",
       "    <tr>\n",
       "      <th>33</th>\n",
       "      <td>phys_health_consequence_0</td>\n",
       "      <td>722</td>\n",
       "    </tr>\n",
       "    <tr>\n",
       "      <th>29</th>\n",
       "      <td>anonymity_2</td>\n",
       "      <td>629</td>\n",
       "    </tr>\n",
       "    <tr>\n",
       "      <th>21</th>\n",
       "      <td>wellness_program_0</td>\n",
       "      <td>605</td>\n",
       "    </tr>\n",
       "    <tr>\n",
       "      <th>0</th>\n",
       "      <td>work_interfere</td>\n",
       "      <td>604</td>\n",
       "    </tr>\n",
       "    <tr>\n",
       "      <th>38</th>\n",
       "      <td>coworkers_2</td>\n",
       "      <td>603</td>\n",
       "    </tr>\n",
       "    <tr>\n",
       "      <th>12</th>\n",
       "      <td>leave_2</td>\n",
       "      <td>457</td>\n",
       "    </tr>\n",
       "    <tr>\n",
       "      <th>50</th>\n",
       "      <td>mental_vs_physical_2</td>\n",
       "      <td>457</td>\n",
       "    </tr>\n",
       "    <tr>\n",
       "      <th>24</th>\n",
       "      <td>seek_help_0</td>\n",
       "      <td>445</td>\n",
       "    </tr>\n",
       "    <tr>\n",
       "      <th>19</th>\n",
       "      <td>benefits_1</td>\n",
       "      <td>441</td>\n",
       "    </tr>\n",
       "    <tr>\n",
       "      <th>45</th>\n",
       "      <td>phys_health_interview_0</td>\n",
       "      <td>415</td>\n",
       "    </tr>\n",
       "    <tr>\n",
       "      <th>47</th>\n",
       "      <td>phys_health_interview_2</td>\n",
       "      <td>410</td>\n",
       "    </tr>\n",
       "    <tr>\n",
       "      <th>40</th>\n",
       "      <td>supervisor_1</td>\n",
       "      <td>381</td>\n",
       "    </tr>\n",
       "    <tr>\n",
       "      <th>30</th>\n",
       "      <td>mental_health_consequence_0</td>\n",
       "      <td>376</td>\n",
       "    </tr>\n",
       "    <tr>\n",
       "      <th>32</th>\n",
       "      <td>mental_health_consequence_2</td>\n",
       "      <td>369</td>\n",
       "    </tr>\n",
       "    <tr>\n",
       "      <th>16</th>\n",
       "      <td>care_options_1</td>\n",
       "      <td>369</td>\n",
       "    </tr>\n",
       "    <tr>\n",
       "      <th>15</th>\n",
       "      <td>care_options_0</td>\n",
       "      <td>341</td>\n",
       "    </tr>\n",
       "    <tr>\n",
       "      <th>26</th>\n",
       "      <td>seek_help_2</td>\n",
       "      <td>305</td>\n",
       "    </tr>\n",
       "    <tr>\n",
       "      <th>20</th>\n",
       "      <td>benefits_2</td>\n",
       "      <td>303</td>\n",
       "    </tr>\n",
       "    <tr>\n",
       "      <th>39</th>\n",
       "      <td>supervisor_0</td>\n",
       "      <td>301</td>\n",
       "    </tr>\n",
       "    <tr>\n",
       "      <th>28</th>\n",
       "      <td>anonymity_1</td>\n",
       "      <td>292</td>\n",
       "    </tr>\n",
       "    <tr>\n",
       "      <th>41</th>\n",
       "      <td>supervisor_2</td>\n",
       "      <td>275</td>\n",
       "    </tr>\n",
       "    <tr>\n",
       "      <th>49</th>\n",
       "      <td>mental_vs_physical_1</td>\n",
       "      <td>254</td>\n",
       "    </tr>\n",
       "    <tr>\n",
       "      <th>17</th>\n",
       "      <td>care_options_2</td>\n",
       "      <td>247</td>\n",
       "    </tr>\n",
       "    <tr>\n",
       "      <th>48</th>\n",
       "      <td>mental_vs_physical_0</td>\n",
       "      <td>246</td>\n",
       "    </tr>\n",
       "    <tr>\n",
       "      <th>9</th>\n",
       "      <td>company_size_5</td>\n",
       "      <td>241</td>\n",
       "    </tr>\n",
       "    <tr>\n",
       "      <th>6</th>\n",
       "      <td>company_size_2</td>\n",
       "      <td>227</td>\n",
       "    </tr>\n",
       "    <tr>\n",
       "      <th>18</th>\n",
       "      <td>benefits_0</td>\n",
       "      <td>213</td>\n",
       "    </tr>\n",
       "    <tr>\n",
       "      <th>31</th>\n",
       "      <td>mental_health_consequence_1</td>\n",
       "      <td>212</td>\n",
       "    </tr>\n",
       "    <tr>\n",
       "      <th>25</th>\n",
       "      <td>seek_help_1</td>\n",
       "      <td>207</td>\n",
       "    </tr>\n",
       "    <tr>\n",
       "      <th>2</th>\n",
       "      <td>gender_1</td>\n",
       "      <td>205</td>\n",
       "    </tr>\n",
       "    <tr>\n",
       "      <th>5</th>\n",
       "      <td>company_size_1</td>\n",
       "      <td>196</td>\n",
       "    </tr>\n",
       "    <tr>\n",
       "      <th>13</th>\n",
       "      <td>leave_3</td>\n",
       "      <td>195</td>\n",
       "    </tr>\n",
       "    <tr>\n",
       "      <th>22</th>\n",
       "      <td>wellness_program_1</td>\n",
       "      <td>194</td>\n",
       "    </tr>\n",
       "    <tr>\n",
       "      <th>35</th>\n",
       "      <td>phys_health_consequence_2</td>\n",
       "      <td>193</td>\n",
       "    </tr>\n",
       "    <tr>\n",
       "      <th>36</th>\n",
       "      <td>coworkers_0</td>\n",
       "      <td>192</td>\n",
       "    </tr>\n",
       "    <tr>\n",
       "      <th>37</th>\n",
       "      <td>coworkers_1</td>\n",
       "      <td>162</td>\n",
       "    </tr>\n",
       "    <tr>\n",
       "      <th>23</th>\n",
       "      <td>wellness_program_2</td>\n",
       "      <td>158</td>\n",
       "    </tr>\n",
       "    <tr>\n",
       "      <th>44</th>\n",
       "      <td>mental_health_interview_2</td>\n",
       "      <td>147</td>\n",
       "    </tr>\n",
       "    <tr>\n",
       "      <th>14</th>\n",
       "      <td>leave_4</td>\n",
       "      <td>139</td>\n",
       "    </tr>\n",
       "    <tr>\n",
       "      <th>7</th>\n",
       "      <td>company_size_3</td>\n",
       "      <td>136</td>\n",
       "    </tr>\n",
       "    <tr>\n",
       "      <th>46</th>\n",
       "      <td>phys_health_interview_1</td>\n",
       "      <td>132</td>\n",
       "    </tr>\n",
       "    <tr>\n",
       "      <th>4</th>\n",
       "      <td>company_size_0</td>\n",
       "      <td>107</td>\n",
       "    </tr>\n",
       "    <tr>\n",
       "      <th>11</th>\n",
       "      <td>leave_1</td>\n",
       "      <td>92</td>\n",
       "    </tr>\n",
       "    <tr>\n",
       "      <th>10</th>\n",
       "      <td>leave_0</td>\n",
       "      <td>74</td>\n",
       "    </tr>\n",
       "    <tr>\n",
       "      <th>8</th>\n",
       "      <td>company_size_4</td>\n",
       "      <td>50</td>\n",
       "    </tr>\n",
       "    <tr>\n",
       "      <th>34</th>\n",
       "      <td>phys_health_consequence_1</td>\n",
       "      <td>42</td>\n",
       "    </tr>\n",
       "    <tr>\n",
       "      <th>27</th>\n",
       "      <td>anonymity_0</td>\n",
       "      <td>36</td>\n",
       "    </tr>\n",
       "    <tr>\n",
       "      <th>43</th>\n",
       "      <td>mental_health_interview_1</td>\n",
       "      <td>27</td>\n",
       "    </tr>\n",
       "    <tr>\n",
       "      <th>3</th>\n",
       "      <td>gender_2</td>\n",
       "      <td>11</td>\n",
       "    </tr>\n",
       "  </tbody>\n",
       "</table>\n",
       "</div>"
      ],
      "text/plain": [
       "                       variable  count\n",
       "42    mental_health_interview_0    783\n",
       "1                      gender_0    741\n",
       "33    phys_health_consequence_0    722\n",
       "29                  anonymity_2    629\n",
       "21           wellness_program_0    605\n",
       "0                work_interfere    604\n",
       "38                  coworkers_2    603\n",
       "12                      leave_2    457\n",
       "50         mental_vs_physical_2    457\n",
       "24                  seek_help_0    445\n",
       "19                   benefits_1    441\n",
       "45      phys_health_interview_0    415\n",
       "47      phys_health_interview_2    410\n",
       "40                 supervisor_1    381\n",
       "30  mental_health_consequence_0    376\n",
       "32  mental_health_consequence_2    369\n",
       "16               care_options_1    369\n",
       "15               care_options_0    341\n",
       "26                  seek_help_2    305\n",
       "20                   benefits_2    303\n",
       "39                 supervisor_0    301\n",
       "28                  anonymity_1    292\n",
       "41                 supervisor_2    275\n",
       "49         mental_vs_physical_1    254\n",
       "17               care_options_2    247\n",
       "48         mental_vs_physical_0    246\n",
       "9                company_size_5    241\n",
       "6                company_size_2    227\n",
       "18                   benefits_0    213\n",
       "31  mental_health_consequence_1    212\n",
       "25                  seek_help_1    207\n",
       "2                      gender_1    205\n",
       "5                company_size_1    196\n",
       "13                      leave_3    195\n",
       "22           wellness_program_1    194\n",
       "35    phys_health_consequence_2    193\n",
       "36                  coworkers_0    192\n",
       "37                  coworkers_1    162\n",
       "23           wellness_program_2    158\n",
       "44    mental_health_interview_2    147\n",
       "14                      leave_4    139\n",
       "7                company_size_3    136\n",
       "46      phys_health_interview_1    132\n",
       "4                company_size_0    107\n",
       "11                      leave_1     92\n",
       "10                      leave_0     74\n",
       "8                company_size_4     50\n",
       "34    phys_health_consequence_1     42\n",
       "27                  anonymity_0     36\n",
       "43    mental_health_interview_1     27\n",
       "3                      gender_2     11"
      ]
     },
     "execution_count": 101,
     "metadata": {},
     "output_type": "execute_result"
    }
   ],
   "source": [
    "totals_df = largest_group(hot_cats, col_list)\n",
    "totals_df"
   ]
  },
  {
   "cell_type": "code",
   "execution_count": null,
   "metadata": {},
   "outputs": [],
   "source": [
    "# split the one-hot encoded data\n",
    "hot_train, hot_validate, hot_test = explore2.three_split(hot_df, 'work_interfere')"
   ]
  },
  {
   "cell_type": "code",
   "execution_count": null,
   "metadata": {},
   "outputs": [],
   "source": [
    "# hot_df.columns"
   ]
  },
  {
   "cell_type": "code",
   "execution_count": null,
   "metadata": {},
   "outputs": [],
   "source": [
    "# univariate exploration on one-hot encoded data\n",
    "\n",
    "# explore2.mental_health_univariate(hot_df)"
   ]
  },
  {
   "cell_type": "markdown",
   "metadata": {},
   "source": [
    "#### Univariate 2nd Iteration - Key Findings, Takeaways, and Next Steps:"
   ]
  },
  {
   "cell_type": "markdown",
   "metadata": {},
   "source": [
    "### Bivariate"
   ]
  },
  {
   "cell_type": "code",
   "execution_count": null,
   "metadata": {},
   "outputs": [],
   "source": [
    "# hot_bi_metrics = explore2.mental_health_bivariate(hot_train, 'work_interfere')"
   ]
  },
  {
   "cell_type": "code",
   "execution_count": null,
   "metadata": {},
   "outputs": [],
   "source": [
    "# one-hot encode the data (drop_first)\n",
    "hottest_df = explore2.two_hot(encoded_df)"
   ]
  },
  {
   "cell_type": "code",
   "execution_count": null,
   "metadata": {},
   "outputs": [],
   "source": [
    "# split the one-hot encoded data\n",
    "hottest_train, hottest_validate, hottest_test = explore2.three_split(hottest_df, 'work_interfere')"
   ]
  },
  {
   "cell_type": "code",
   "execution_count": null,
   "metadata": {},
   "outputs": [],
   "source": [
    "# hottest_bi_metrics = explore2.mental_health_bivariate(hottest_train, 'work_interfere')"
   ]
  },
  {
   "cell_type": "code",
   "execution_count": null,
   "metadata": {},
   "outputs": [],
   "source": [
    "# first I am going to limit my exploration to variables with a p-value < 0.1\n",
    "\n",
    "# toppest_df = hottest_bi_metrics[hottest_bi_metrics['p-value']<0.1]"
   ]
  },
  {
   "cell_type": "code",
   "execution_count": null,
   "metadata": {},
   "outputs": [],
   "source": [
    "# toppest_list = list(toppest_df['variable'])\n",
    "# toppest_list"
   ]
  },
  {
   "cell_type": "markdown",
   "metadata": {},
   "source": [
    "### Multivariate"
   ]
  },
  {
   "cell_type": "code",
   "execution_count": null,
   "metadata": {},
   "outputs": [],
   "source": [
    "# first I am going to limit my exploration to variables with a p-value < 0.1\n",
    "\n",
    "# top_df = hot_bi_metrics[hot_bi_metrics['p-value']<0.1]"
   ]
  },
  {
   "cell_type": "code",
   "execution_count": null,
   "metadata": {},
   "outputs": [],
   "source": [
    "# top_list = list(top_df['variable'])\n",
    "# top_list"
   ]
  },
  {
   "cell_type": "code",
   "execution_count": null,
   "metadata": {},
   "outputs": [],
   "source": [
    "# multi_2 = hot_train[top_list]"
   ]
  },
  {
   "cell_type": "code",
   "execution_count": null,
   "metadata": {},
   "outputs": [],
   "source": [
    "# col_list = list(multi_2.columns)\n",
    "\n",
    "# for col in col_list:\n",
    "#     print(multi_2[col].value_counts())"
   ]
  },
  {
   "cell_type": "code",
   "execution_count": null,
   "metadata": {},
   "outputs": [],
   "source": [
    "# work_for_me = hot_df[hot_df['mental_health_interview_0']==1]"
   ]
  },
  {
   "cell_type": "code",
   "execution_count": null,
   "metadata": {},
   "outputs": [],
   "source": [
    "# explore2.mental_health_bivariate(work_for_me, 'work_interfere')"
   ]
  },
  {
   "cell_type": "code",
   "execution_count": null,
   "metadata": {},
   "outputs": [],
   "source": []
  },
  {
   "cell_type": "markdown",
   "metadata": {},
   "source": [
    "#### Multivariate - Key Findings, Takeaways, and Next Steps:"
   ]
  },
  {
   "cell_type": "code",
   "execution_count": null,
   "metadata": {},
   "outputs": [],
   "source": []
  },
  {
   "cell_type": "markdown",
   "metadata": {},
   "source": [
    "### Hypothesis Testing\n",
    "#### Target Variable: 'work_interfere'"
   ]
  },
  {
   "cell_type": "markdown",
   "metadata": {},
   "source": [
    "#### Hypothesis 1: 'Supervisor'\n",
    "- alpha : 0.05\n",
    "- ${H_0}$: The mean workplace interference is the same for those who feel comfortable speaking with their supervisor about mental health issues, and those who do not feel comfortable.\n",
    "- ${H_a}$: The mean workplace interference is different for those who feel comfortable speaking with their supervisor about mental health issues than those who do not feel comfortable communicating those issues with their supervisor."
   ]
  },
  {
   "cell_type": "code",
   "execution_count": null,
   "metadata": {},
   "outputs": [],
   "source": [
    "ty_chi(encoded_train, 'work_interfere', 'supervisor')"
   ]
  },
  {
   "cell_type": "markdown",
   "metadata": {},
   "source": [
    "#### Hypothesis 1 - Key Findings, Takeaways, and Next Steps:\n",
    "- Due to our p-value being less than alpha, we reject the null hypothesis.\n",
    "- There is evidence to suggest a relationship between feeling comfortable speaking with a supervisor about personal mental health issues and our target variable, 'work_interfere'"
   ]
  },
  {
   "cell_type": "code",
   "execution_count": null,
   "metadata": {
    "jupyter": {
     "source_hidden": true
    }
   },
   "outputs": [],
   "source": [
    "def ty_chi(df, target, col_2):\n",
    "    '''\n",
    "    This function takes in a pandas dataframe, along with two columns. It runs a chi2_contingency on the two columns and prints out the column names, chi2 score, and p-value.\n",
    "    '''\n",
    "    \n",
    "    observed = pd.crosstab(df[target], df[col_2])\n",
    "    chi2, p, degf, expected = stats.chi2_contingency(observed)\n",
    "    \n",
    "    print(f'{target} & {col_2} chi2 test results')\n",
    "    print('')\n",
    "    print(f'chi^2 = {chi2:.2f}')\n",
    "    print(f'    p = {p:.4f}')"
   ]
  },
  {
   "cell_type": "code",
   "execution_count": null,
   "metadata": {},
   "outputs": [],
   "source": [
    "ty_chi(encoded_train, 'work_interfere', 'supervisor')"
   ]
  },
  {
   "cell_type": "code",
   "execution_count": null,
   "metadata": {
    "jupyter": {
     "source_hidden": true
    }
   },
   "outputs": [],
   "source": [
    "def three_chi(df, control, target, col_2):\n",
    "    '''\n",
    "    This function takes in a pandas DataFrame, a control variable, target_variable, and other variable.\n",
    "    It creates separate DataFrames that control for the control variable.\n",
    "    '''\n",
    "    length = len(df[control].value_counts())\n",
    "    span = range(0,length)\n",
    "    \n",
    "    for i in span:\n",
    "        sub_df = df[df[control]==i]\n",
    "        observed = pd.crosstab(sub_df[target], sub_df[col_2])\n",
    "        chi2, p, degf, expected = stats.chi2_contingency(observed)\n",
    "        print(f'controlling for {control} = {i}')\n",
    "        print('')\n",
    "        print(f'{target} & {col_2} chi2 test results')\n",
    "        print('')\n",
    "        print(f'chi^2 = {chi2:.2f}')\n",
    "        print(f'    p = {p:.4f}')\n",
    "        print('')\n",
    "        print('-----------------------------------')"
   ]
  },
  {
   "cell_type": "code",
   "execution_count": null,
   "metadata": {
    "jupyter": {
     "source_hidden": true
    }
   },
   "outputs": [],
   "source": [
    "def three_chi(df, control, target, col_2):\n",
    "    '''\n",
    "    This function takes in a pandas DataFrame, a control variable, target_variable, and other variable.\n",
    "    It creates separate DataFrames that control for the control variable.\n",
    "    '''\n",
    "    length = len(df[control].value_counts())\n",
    "    span = range(0,length)\n",
    "    \n",
    "    for i in span:\n",
    "        sub_df = df[df[control]==i]\n",
    "        print(f'Controlling for {control} = {i}')\n",
    "        print('')\n",
    "        ty_chi(sub_df, target, col_2)\n",
    "        print('')\n",
    "        print('------------------------------------')\n",
    "    sns.catplot(data=df, x=col_2, hue=target, col=control, kind='count', height=4, aspect=.7)"
   ]
  },
  {
   "cell_type": "code",
   "execution_count": null,
   "metadata": {},
   "outputs": [],
   "source": [
    "three_chi(encoded_train, 'gender', 'work_interfere', 'supervisor')"
   ]
  },
  {
   "cell_type": "code",
   "execution_count": null,
   "metadata": {
    "jupyter": {
     "source_hidden": true
    }
   },
   "outputs": [],
   "source": [
    "def plot_chi(df, control, target, col_2):\n",
    "    '''\n",
    "    This function takes in a pandas DataFrame, a control variable, target_variable, and other variable.\n",
    "    It creates separate DataFrames that control for the control variable.\n",
    "    '''\n",
    "    length = len(df[control].value_counts())\n",
    "    span = range(0,length)\n",
    "    \n",
    "    for i in span:\n",
    "        sub_df = df[df[control]==i]\n",
    "        print(f'Controlling for {control} = {i}')\n",
    "        print('')\n",
    "        ty_chi(sub_df, target, col_2)\n",
    "        print('')\n",
    "        print('------------------------------------')\n",
    "    sns.catplot(data=df, x=col_2, hue=target, col=control, kind='count', height=4, aspect=.7)"
   ]
  },
  {
   "cell_type": "code",
   "execution_count": null,
   "metadata": {},
   "outputs": [],
   "source": [
    "plot_chi(encoded_train, 'gender', 'work_interfere', 'supervisor')"
   ]
  },
  {
   "cell_type": "markdown",
   "metadata": {},
   "source": [
    "#### Takeaways from `supervisor` and `work_interfere` when controlling for `gender`\n",
    "- Men who feel comfortable speaking about mental health issues with a supervisor have work place interference at a significantly lower rate than those who either feel uncomfortable, or do not know.\n",
    "- For women, it surprisingly does not seem to matter how they responded to the 'supervisor' question\n",
    "- There is not enough data for gender=other to have actionable insight\n",
    "- We recommend that companies work to improve communication between management and staff, as there is clear evidence that it greatly helps reduce the rate of workplace interference amongst men, and does not harm anyone else."
   ]
  },
  {
   "cell_type": "markdown",
   "metadata": {},
   "source": [
    "#### Hypothesis 2: controlling for `gender`, how does `mental_heath_consequence` relate to `work_interfere`\n",
    "- alpha : 0.05\n",
    "- ${H_0}$: When controlling for gender, the rate of work interference is the same among all responses to mental_health_consequence\n",
    "- ${H_a}$: When controlling for gender, the rate of work interference is different among each response to mental_health_consequence"
   ]
  },
  {
   "cell_type": "code",
   "execution_count": null,
   "metadata": {},
   "outputs": [],
   "source": [
    "plot_chi(encoded_train, 'gender', 'work_interfere', 'mental_health_consequence')"
   ]
  },
  {
   "cell_type": "markdown",
   "metadata": {},
   "source": [
    "#### Hypothesis 2 - Key Findings, Takeaways, and Next Steps:\n",
    "- For men, there is a massive difference in the rate of work interference for those who do not feel there will be consequences for mental health issues and those who either feel there would be consequences or do not know.\n",
    "- For the women, it does not seem to matter nearly as much.\n",
    "- Where gender = other, we do not have enough data for actionable insight."
   ]
  },
  {
   "cell_type": "markdown",
   "metadata": {},
   "source": [
    "#### Hypothesis 2: controlling for `gender`, how does `mental_vs_physical` relate to `work_interfere`\n",
    "- alpha : 0.05\n",
    "- ${H_0}$: When controlling for gender, the rate of work interference is the same among all responses to mental_vs_physical\n",
    "- ${H_a}$: When controlling for gender, the rate of work interference is different among each response to mental_vs_physical"
   ]
  },
  {
   "cell_type": "code",
   "execution_count": null,
   "metadata": {},
   "outputs": [],
   "source": [
    "plot_chi(encoded_train, 'gender', 'work_interfere', 'mental_vs_physical')"
   ]
  },
  {
   "cell_type": "markdown",
   "metadata": {},
   "source": [
    "#### Hypothesis 3 - Key Findings, Takeaways, and Next Steps:\n",
    "- Men who feel that their company takes mental health as seriously as physical health have work interference at a significantly lower rate than those who do not, or do not know.\n",
    "- Women who feel that their company takes mental health as seriously as physical health have work interference at a lower rate than those who do not, or do not know.\n",
    "- Once again, we do not have enough data where gender = other to have actionable insight."
   ]
  },
  {
   "cell_type": "markdown",
   "metadata": {},
   "source": [
    "#### Hypothesis 4: controlling for `gender`, how does `anonymity` relate to `work_interfere`\n",
    "- alpha : 0.05\n",
    "- ${H_0}$: When controlling for gender, the rate of work interference is the same among all responses to anonymity\n",
    "- ${H_a}$: When controlling for gender, the rate of work interference is different among each response to anonymity"
   ]
  },
  {
   "cell_type": "code",
   "execution_count": null,
   "metadata": {},
   "outputs": [],
   "source": [
    "plot_chi(encoded_train, 'gender', 'work_interfere', 'anonymity')"
   ]
  },
  {
   "cell_type": "markdown",
   "metadata": {},
   "source": [
    "#### Hypothesis 4 - Key Findings, Takeaways, and Next Steps:\n",
    "- Due to all p-values being higher than alpha, we fail to reject the null hypothesis.\n",
    "- There is no evidence to suggest a relationship between 'anonymity' and 'work_interfere' when controlling for gender."
   ]
  },
  {
   "cell_type": "markdown",
   "metadata": {},
   "source": [
    "------"
   ]
  },
  {
   "cell_type": "markdown",
   "metadata": {},
   "source": [
    "### Explore Key Findings, Takeaways, and Next Steps:"
   ]
  },
  {
   "cell_type": "markdown",
   "metadata": {},
   "source": [
    "------"
   ]
  },
  {
   "cell_type": "code",
   "execution_count": null,
   "metadata": {},
   "outputs": [],
   "source": []
  },
  {
   "cell_type": "markdown",
   "metadata": {},
   "source": [
    "## Modeling"
   ]
  },
  {
   "cell_type": "markdown",
   "metadata": {},
   "source": [
    "### Initital Setup"
   ]
  },
  {
   "cell_type": "code",
   "execution_count": null,
   "metadata": {},
   "outputs": [],
   "source": []
  },
  {
   "cell_type": "markdown",
   "metadata": {},
   "source": [
    "### Model 1: [insert model name here]"
   ]
  },
  {
   "cell_type": "code",
   "execution_count": null,
   "metadata": {},
   "outputs": [],
   "source": []
  },
  {
   "cell_type": "markdown",
   "metadata": {},
   "source": [
    "#### Model 1: [insert model name here] - Key Findings, Takeaways, and Next Steps:"
   ]
  },
  {
   "cell_type": "code",
   "execution_count": null,
   "metadata": {},
   "outputs": [],
   "source": []
  },
  {
   "cell_type": "markdown",
   "metadata": {},
   "source": [
    "### Model 2: [insert model name here]"
   ]
  },
  {
   "cell_type": "code",
   "execution_count": null,
   "metadata": {},
   "outputs": [],
   "source": []
  },
  {
   "cell_type": "markdown",
   "metadata": {},
   "source": [
    "#### Model 2: [insert model name here] - Key Findings, Takeaways, and Next Steps:"
   ]
  },
  {
   "cell_type": "code",
   "execution_count": null,
   "metadata": {},
   "outputs": [],
   "source": []
  },
  {
   "cell_type": "markdown",
   "metadata": {},
   "source": [
    "### Model 3: [insert model name here]"
   ]
  },
  {
   "cell_type": "code",
   "execution_count": null,
   "metadata": {},
   "outputs": [],
   "source": []
  },
  {
   "cell_type": "markdown",
   "metadata": {},
   "source": [
    "#### Model 3: [insert model name here] - Key Findings, Takeaways, and Next Steps:"
   ]
  },
  {
   "cell_type": "code",
   "execution_count": null,
   "metadata": {},
   "outputs": [],
   "source": []
  },
  {
   "cell_type": "markdown",
   "metadata": {},
   "source": [
    "### Model 4: [insert model name here]"
   ]
  },
  {
   "cell_type": "code",
   "execution_count": null,
   "metadata": {},
   "outputs": [],
   "source": []
  },
  {
   "cell_type": "markdown",
   "metadata": {},
   "source": [
    "#### Model 4: [insert model name here] - Key Findings, Takeaways, and Next Steps:"
   ]
  },
  {
   "cell_type": "markdown",
   "metadata": {},
   "source": [
    "------"
   ]
  },
  {
   "cell_type": "markdown",
   "metadata": {},
   "source": [
    "### Modeling Key Findings, Takeaways, and Next Steps:"
   ]
  },
  {
   "cell_type": "markdown",
   "metadata": {},
   "source": [
    "------"
   ]
  },
  {
   "cell_type": "markdown",
   "metadata": {},
   "source": [
    "### Summary - Key Findings, Takeaways, and Next Steps:"
   ]
  },
  {
   "cell_type": "markdown",
   "metadata": {},
   "source": [
    "------"
   ]
  },
  {
   "cell_type": "code",
   "execution_count": null,
   "metadata": {},
   "outputs": [],
   "source": []
  }
 ],
 "metadata": {
  "kernelspec": {
   "display_name": "Python 3.8.5 64-bit ('base': conda)",
   "language": "python",
   "name": "python385jvsc74a57bd0b64057e63add2b45b1ffc7eab9b09c8889b419c878e2fdf0d08f837f0fc857a7"
  },
  "language_info": {
   "codemirror_mode": {
    "name": "ipython",
    "version": 3
   },
   "file_extension": ".py",
   "mimetype": "text/x-python",
   "name": "python",
   "nbconvert_exporter": "python",
   "pygments_lexer": "ipython3",
   "version": "3.8.5"
  }
 },
 "nbformat": 4,
 "nbformat_minor": 4
}
