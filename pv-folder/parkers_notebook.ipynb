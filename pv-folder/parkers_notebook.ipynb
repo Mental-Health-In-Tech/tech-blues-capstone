{
 "cells": [
  {
   "cell_type": "code",
   "execution_count": 1,
   "metadata": {},
   "outputs": [],
   "source": [
    "# imports\n",
    "import pandas as pd\n",
    "import numpy as np\n",
    "import scipy.stats as stats\n",
    "import matplotlib.pyplot as plt\n",
    "import seaborn as sns\n",
    "import warnings\n",
    "warnings.filterwarnings('ignore')\n",
    "import prepare, acquire, explore"
   ]
  },
  {
   "cell_type": "code",
   "execution_count": 2,
   "metadata": {},
   "outputs": [],
   "source": [
    "survey_og = pd.read_csv('~/desktop/codeup-data-science/tech-blues-capstone/survey.csv')"
   ]
  },
  {
   "cell_type": "code",
   "execution_count": 3,
   "metadata": {},
   "outputs": [
    {
     "data": {
      "text/plain": [
       "2014-08-27 12:37:50    2\n",
       "2014-08-28 09:59:39    2\n",
       "2014-08-27 14:22:43    2\n",
       "2014-08-28 16:58:33    2\n",
       "2014-08-27 15:23:51    2\n",
       "                      ..\n",
       "2014-08-29 03:02:16    1\n",
       "2014-08-27 13:02:14    1\n",
       "2014-08-27 16:36:57    1\n",
       "2014-08-27 13:34:03    1\n",
       "2014-08-27 15:26:40    1\n",
       "Name: Timestamp, Length: 1246, dtype: int64"
      ]
     },
     "execution_count": 3,
     "metadata": {},
     "output_type": "execute_result"
    }
   ],
   "source": [
    "survey_og.Timestamp.value_counts()"
   ]
  },
  {
   "cell_type": "code",
   "execution_count": 4,
   "metadata": {},
   "outputs": [
    {
     "data": {
      "text/html": [
       "<div>\n",
       "<style scoped>\n",
       "    .dataframe tbody tr th:only-of-type {\n",
       "        vertical-align: middle;\n",
       "    }\n",
       "\n",
       "    .dataframe tbody tr th {\n",
       "        vertical-align: top;\n",
       "    }\n",
       "\n",
       "    .dataframe thead th {\n",
       "        text-align: right;\n",
       "    }\n",
       "</style>\n",
       "<table border=\"1\" class=\"dataframe\">\n",
       "  <thead>\n",
       "    <tr style=\"text-align: right;\">\n",
       "      <th></th>\n",
       "      <th>Timestamp</th>\n",
       "      <th>Age</th>\n",
       "      <th>Gender</th>\n",
       "      <th>Country</th>\n",
       "      <th>state</th>\n",
       "      <th>self_employed</th>\n",
       "      <th>family_history</th>\n",
       "      <th>treatment</th>\n",
       "      <th>work_interfere</th>\n",
       "      <th>no_employees</th>\n",
       "      <th>...</th>\n",
       "      <th>leave</th>\n",
       "      <th>mental_health_consequence</th>\n",
       "      <th>phys_health_consequence</th>\n",
       "      <th>coworkers</th>\n",
       "      <th>supervisor</th>\n",
       "      <th>mental_health_interview</th>\n",
       "      <th>phys_health_interview</th>\n",
       "      <th>mental_vs_physical</th>\n",
       "      <th>obs_consequence</th>\n",
       "      <th>comments</th>\n",
       "    </tr>\n",
       "  </thead>\n",
       "  <tbody>\n",
       "    <tr>\n",
       "      <th>851</th>\n",
       "      <td>2014-08-28 16:58:33</td>\n",
       "      <td>23</td>\n",
       "      <td>M</td>\n",
       "      <td>United States</td>\n",
       "      <td>KY</td>\n",
       "      <td>No</td>\n",
       "      <td>Yes</td>\n",
       "      <td>No</td>\n",
       "      <td>NaN</td>\n",
       "      <td>26-100</td>\n",
       "      <td>...</td>\n",
       "      <td>Don't know</td>\n",
       "      <td>Maybe</td>\n",
       "      <td>No</td>\n",
       "      <td>No</td>\n",
       "      <td>Some of them</td>\n",
       "      <td>No</td>\n",
       "      <td>No</td>\n",
       "      <td>Don't know</td>\n",
       "      <td>No</td>\n",
       "      <td>NaN</td>\n",
       "    </tr>\n",
       "    <tr>\n",
       "      <th>852</th>\n",
       "      <td>2014-08-28 16:58:33</td>\n",
       "      <td>21</td>\n",
       "      <td>Male</td>\n",
       "      <td>United Kingdom</td>\n",
       "      <td>NaN</td>\n",
       "      <td>No</td>\n",
       "      <td>Yes</td>\n",
       "      <td>No</td>\n",
       "      <td>Never</td>\n",
       "      <td>6-25</td>\n",
       "      <td>...</td>\n",
       "      <td>Somewhat easy</td>\n",
       "      <td>Maybe</td>\n",
       "      <td>No</td>\n",
       "      <td>Some of them</td>\n",
       "      <td>Some of them</td>\n",
       "      <td>No</td>\n",
       "      <td>Maybe</td>\n",
       "      <td>Don't know</td>\n",
       "      <td>No</td>\n",
       "      <td>NaN</td>\n",
       "    </tr>\n",
       "  </tbody>\n",
       "</table>\n",
       "<p>2 rows × 27 columns</p>\n",
       "</div>"
      ],
      "text/plain": [
       "               Timestamp  Age Gender         Country state self_employed  \\\n",
       "851  2014-08-28 16:58:33   23      M   United States    KY            No   \n",
       "852  2014-08-28 16:58:33   21   Male  United Kingdom   NaN            No   \n",
       "\n",
       "    family_history treatment work_interfere no_employees  ...          leave  \\\n",
       "851            Yes        No            NaN       26-100  ...     Don't know   \n",
       "852            Yes        No          Never         6-25  ...  Somewhat easy   \n",
       "\n",
       "    mental_health_consequence phys_health_consequence     coworkers  \\\n",
       "851                     Maybe                      No            No   \n",
       "852                     Maybe                      No  Some of them   \n",
       "\n",
       "       supervisor mental_health_interview phys_health_interview  \\\n",
       "851  Some of them                      No                    No   \n",
       "852  Some of them                      No                 Maybe   \n",
       "\n",
       "    mental_vs_physical obs_consequence comments  \n",
       "851         Don't know              No      NaN  \n",
       "852         Don't know              No      NaN  \n",
       "\n",
       "[2 rows x 27 columns]"
      ]
     },
     "execution_count": 4,
     "metadata": {},
     "output_type": "execute_result"
    }
   ],
   "source": [
    "survey_og[survey_og['Timestamp'] == '2014-08-28 16:58:33']"
   ]
  },
  {
   "cell_type": "code",
   "execution_count": 5,
   "metadata": {},
   "outputs": [],
   "source": [
    "#survey_og.head()"
   ]
  },
  {
   "cell_type": "code",
   "execution_count": 6,
   "metadata": {},
   "outputs": [
    {
     "data": {
      "text/plain": [
       "\"survey_og = survey_og.rename(columns = {'Timestamp':'timestamp',\\n                                        'Age':'age',\\n                                        'Gender':'gender',\\n                                        'Country':'country'})\""
      ]
     },
     "execution_count": 6,
     "metadata": {},
     "output_type": "execute_result"
    }
   ],
   "source": [
    "'''survey_og = survey_og.rename(columns = {'Timestamp':'timestamp',\n",
    "                                        'Age':'age',\n",
    "                                        'Gender':'gender',\n",
    "                                        'Country':'country'})'''"
   ]
  },
  {
   "cell_type": "code",
   "execution_count": 7,
   "metadata": {},
   "outputs": [],
   "source": [
    "#survey_og.gender.unique()"
   ]
  },
  {
   "cell_type": "code",
   "execution_count": 8,
   "metadata": {},
   "outputs": [
    {
     "data": {
      "text/plain": [
       "\"survey_og.gender.replace(to_replace = ['M','Male','male','m','Male-ish',\\n                                    'maile','something kinda male?','Mal',\\n                                    'Male (CIS)', 'Make','Guy (-ish) ^_^',\\n                                    'Male ','Man','msle','Mail','cis male',\\n                                    'Malr','Cis Man','Cis Male',\\n                                    'ostensibly male, unsure what that really means'],\\n                                    value = 'male', inplace = True)\""
      ]
     },
     "execution_count": 8,
     "metadata": {},
     "output_type": "execute_result"
    }
   ],
   "source": [
    "'''survey_og.gender.replace(to_replace = ['M','Male','male','m','Male-ish',\n",
    "                                    'maile','something kinda male?','Mal',\n",
    "                                    'Male (CIS)', 'Make','Guy (-ish) ^_^',\n",
    "                                    'Male ','Man','msle','Mail','cis male',\n",
    "                                    'Malr','Cis Man','Cis Male',\n",
    "                                    'ostensibly male, unsure what that really means'],\n",
    "                                    value = 'male', inplace = True)'''"
   ]
  },
  {
   "cell_type": "code",
   "execution_count": 9,
   "metadata": {},
   "outputs": [],
   "source": [
    "#survey_og.gender.unique()"
   ]
  },
  {
   "cell_type": "code",
   "execution_count": 10,
   "metadata": {},
   "outputs": [
    {
     "data": {
      "text/plain": [
       "\"survey_og.gender.replace(to_replace = ['Female','female','Femake','Female ',\\n                                       'cis-female/femme','Woman','f','woman',\\n                                       'femail','Female (cis)','Cis Female','F'], value = 'female',\\n                                       inplace = True)\""
      ]
     },
     "execution_count": 10,
     "metadata": {},
     "output_type": "execute_result"
    }
   ],
   "source": [
    "'''survey_og.gender.replace(to_replace = ['Female','female','Femake','Female ',\n",
    "                                       'cis-female/femme','Woman','f','woman',\n",
    "                                       'femail','Female (cis)','Cis Female','F'], value = 'female',\n",
    "                                       inplace = True)'''"
   ]
  },
  {
   "cell_type": "code",
   "execution_count": 11,
   "metadata": {},
   "outputs": [],
   "source": [
    "#survey_og.gender.unique()"
   ]
  },
  {
   "cell_type": "code",
   "execution_count": 12,
   "metadata": {},
   "outputs": [
    {
     "data": {
      "text/plain": [
       "\"survey_og.gender.replace(to_replace = ['Trans-female','queer/she/they','non-binary',\\n                                       'Nah','All','Enby','fluid','Genderqueer',\\n                                       'Androgyne','Agender','male leaning androgynous',\\n                                       'Trans woman','Neuter','Female (trans)', 'queer',\\n                                       'A little about you', 'p'],  value = 'other',\\n                                       inplace = True)\""
      ]
     },
     "execution_count": 12,
     "metadata": {},
     "output_type": "execute_result"
    }
   ],
   "source": [
    "'''survey_og.gender.replace(to_replace = ['Trans-female','queer/she/they','non-binary',\n",
    "                                       'Nah','All','Enby','fluid','Genderqueer',\n",
    "                                       'Androgyne','Agender','male leaning androgynous',\n",
    "                                       'Trans woman','Neuter','Female (trans)', 'queer',\n",
    "                                       'A little about you', 'p'],  value = 'other',\n",
    "                                       inplace = True)'''"
   ]
  },
  {
   "cell_type": "code",
   "execution_count": 13,
   "metadata": {},
   "outputs": [],
   "source": [
    "#survey_og.gender.unique()"
   ]
  },
  {
   "cell_type": "code",
   "execution_count": 14,
   "metadata": {},
   "outputs": [],
   "source": [
    "#survey_og.country.unique()"
   ]
  },
  {
   "cell_type": "code",
   "execution_count": 15,
   "metadata": {},
   "outputs": [
    {
     "data": {
      "text/plain": [
       "\"countries = ['United States','Canada','Mexico','Switzerland',\\n                                   'Germany','Ireland','Poland','Austria','Italy',\\n                                   'Sweden','Spain','Norway','Czech Repulbic','Denmark',\\n                                   'Latvia','Moldova','Georgia','Romania','Finland','Bulgaria',\\n                                   'France','Slovenia','Russia','Bosnia and Herzegovina']\\nsurvey_og = survey_og[survey_og['country'].isin(countries)]\""
      ]
     },
     "execution_count": 15,
     "metadata": {},
     "output_type": "execute_result"
    }
   ],
   "source": [
    "'''countries = ['United States','Canada','Mexico','Switzerland',\n",
    "                                   'Germany','Ireland','Poland','Austria','Italy',\n",
    "                                   'Sweden','Spain','Norway','Czech Repulbic','Denmark',\n",
    "                                   'Latvia','Moldova','Georgia','Romania','Finland','Bulgaria',\n",
    "                                   'France','Slovenia','Russia','Bosnia and Herzegovina']\n",
    "survey_og = survey_og[survey_og['country'].isin(countries)]'''"
   ]
  },
  {
   "cell_type": "code",
   "execution_count": 16,
   "metadata": {
    "tags": []
   },
   "outputs": [],
   "source": [
    "#survey_og.groupby(by = survey_og.country).count()"
   ]
  },
  {
   "cell_type": "code",
   "execution_count": 17,
   "metadata": {},
   "outputs": [],
   "source": [
    "#survey_og.work_interfere.fillna(value = 'Not applicable', inplace = True)"
   ]
  },
  {
   "cell_type": "code",
   "execution_count": 18,
   "metadata": {},
   "outputs": [],
   "source": [
    "#survey_og.work_interfere.isnull().value_counts()"
   ]
  },
  {
   "cell_type": "code",
   "execution_count": 19,
   "metadata": {},
   "outputs": [],
   "source": [
    "#encoded_df = survey_og"
   ]
  },
  {
   "cell_type": "code",
   "execution_count": 20,
   "metadata": {},
   "outputs": [],
   "source": [
    "#encoded_df.gender = survey_og.gender.map({'male':0,'female':1,'other':2})"
   ]
  },
  {
   "cell_type": "code",
   "execution_count": 21,
   "metadata": {},
   "outputs": [],
   "source": [
    "#encoded_df.work_interfere = encoded_df.work_interfere.map({'Never':0,'Not Applicable':0, 'Rarely':1,'Sometimes':1,'Often':1})"
   ]
  },
  {
   "cell_type": "code",
   "execution_count": 22,
   "metadata": {},
   "outputs": [],
   "source": [
    "#encoded_df.care_options = encoded_df.care_options.map({'No':0,'Yes':1,'Not sure':2})"
   ]
  },
  {
   "cell_type": "code",
   "execution_count": 23,
   "metadata": {},
   "outputs": [],
   "source": [
    "#encoded_df.leave = encoded_df.leave.map({'Very difficult':0, 'Somewhat difficult':1, 'Don\\'t know':2, 'Somewhat easy':3, 'Very easy':4})"
   ]
  },
  {
   "cell_type": "code",
   "execution_count": 24,
   "metadata": {},
   "outputs": [],
   "source": [
    "#encoded_df.coworkers = encoded_df.coworkers.map({'No':0, 'Yes':1, 'Some of them':2})"
   ]
  },
  {
   "cell_type": "code",
   "execution_count": 25,
   "metadata": {},
   "outputs": [],
   "source": [
    "#encoded_df.supervisor = encoded_df.supervisor.map({'No':0, 'Yes':1, 'Some of Them':2})"
   ]
  },
  {
   "cell_type": "code",
   "execution_count": 26,
   "metadata": {
    "tags": []
   },
   "outputs": [],
   "source": [
    "#encoded_df"
   ]
  },
  {
   "cell_type": "code",
   "execution_count": 27,
   "metadata": {},
   "outputs": [],
   "source": [
    "#import parker_prep"
   ]
  },
  {
   "cell_type": "code",
   "execution_count": 28,
   "metadata": {},
   "outputs": [],
   "source": [
    "#survey_og.head().T"
   ]
  },
  {
   "cell_type": "code",
   "execution_count": 29,
   "metadata": {},
   "outputs": [],
   "source": [
    "#survey_og.self_employed.value_counts()"
   ]
  },
  {
   "cell_type": "code",
   "execution_count": 30,
   "metadata": {},
   "outputs": [],
   "source": [
    "#survey_og.self_employed = survey_og.self_employed.fillna('No')"
   ]
  },
  {
   "cell_type": "code",
   "execution_count": 31,
   "metadata": {
    "tags": []
   },
   "outputs": [],
   "source": [
    "#survey_og.self_employed.isnull().value_counts()"
   ]
  },
  {
   "cell_type": "code",
   "execution_count": 32,
   "metadata": {
    "tags": []
   },
   "outputs": [
    {
     "data": {
      "text/plain": [
       "'for x in list(survey_og.columns):\\n    print(survey_og[x].isnull().value_counts())'"
      ]
     },
     "execution_count": 32,
     "metadata": {},
     "output_type": "execute_result"
    }
   ],
   "source": [
    "\"\"\"for x in list(survey_og.columns):\n",
    "    print(survey_og[x].isnull().value_counts())\"\"\""
   ]
  },
  {
   "cell_type": "code",
   "execution_count": 33,
   "metadata": {},
   "outputs": [],
   "source": [
    "#survey_og.treatment.value_counts()"
   ]
  },
  {
   "cell_type": "code",
   "execution_count": 34,
   "metadata": {},
   "outputs": [],
   "source": [
    "#survey_og.columns"
   ]
  },
  {
   "cell_type": "code",
   "execution_count": 35,
   "metadata": {},
   "outputs": [],
   "source": [
    "#survey_og = survey_og.drop(columns = ['timestamp','country','state','comments'])"
   ]
  },
  {
   "cell_type": "code",
   "execution_count": 36,
   "metadata": {},
   "outputs": [],
   "source": [
    "#survey_og.coworkers.isnull().unique()"
   ]
  },
  {
   "cell_type": "code",
   "execution_count": 37,
   "metadata": {},
   "outputs": [],
   "source": [
    "#survey_og.obs_consequence.isnull().value_counts()"
   ]
  },
  {
   "cell_type": "code",
   "execution_count": 38,
   "metadata": {},
   "outputs": [
    {
     "data": {
      "text/plain": [
       "'def remove_outlier_IQR(df):\\n    Q1=df.quantile(0.25)\\n    Q3=df.quantile(0.75)\\n    IQR=Q3-Q1\\n    df_final=df[~((df<(Q1-1.5*IQR)) | (df>(Q3+1.5*IQR)))]\\n    return df_final'"
      ]
     },
     "execution_count": 38,
     "metadata": {},
     "output_type": "execute_result"
    }
   ],
   "source": [
    "'''def remove_outlier_IQR(df):\n",
    "    Q1=df.quantile(0.25)\n",
    "    Q3=df.quantile(0.75)\n",
    "    IQR=Q3-Q1\n",
    "    df_final=df[~((df<(Q1-1.5*IQR)) | (df>(Q3+1.5*IQR)))]\n",
    "    return df_final'''"
   ]
  },
  {
   "cell_type": "code",
   "execution_count": 39,
   "metadata": {},
   "outputs": [],
   "source": [
    "#survey_og['age'] = remove_outlier_IQR(survey_og['age'])"
   ]
  },
  {
   "cell_type": "code",
   "execution_count": 40,
   "metadata": {},
   "outputs": [],
   "source": [
    "#survey_og.columns"
   ]
  },
  {
   "cell_type": "code",
   "execution_count": 41,
   "metadata": {},
   "outputs": [],
   "source": [
    "#survey_og.obs_consequence.isnull().value_counts()"
   ]
  },
  {
   "cell_type": "code",
   "execution_count": 42,
   "metadata": {},
   "outputs": [],
   "source": [
    "survey_og = prepare.prep_the_strings(survey_og)"
   ]
  },
  {
   "cell_type": "code",
   "execution_count": 43,
   "metadata": {},
   "outputs": [
    {
     "data": {
      "text/plain": [
       "(957, 25)"
      ]
     },
     "execution_count": 43,
     "metadata": {},
     "output_type": "execute_result"
    }
   ],
   "source": [
    "survey_og.shape"
   ]
  },
  {
   "cell_type": "code",
   "execution_count": 44,
   "metadata": {},
   "outputs": [],
   "source": [
    "def nulls_by_col(df):\n",
    "    num_missing = df.isnull().sum()\n",
    "    rows = df.shape[0]\n",
    "    prcnt_miss = num_missing / rows * 100\n",
    "    cols_missing = pd.DataFrame({'num_rows_missing': num_missing, 'percent_rows_missing': prcnt_miss})\n",
    "    return cols_missing\n",
    "def nulls_by_row(df):\n",
    "    num_missing = df.isnull().sum(axis=1)\n",
    "    prcnt_miss = num_missing / df.shape[1] * 100\n",
    "    rows_missing = pd.DataFrame({'num_cols_missing': num_missing, 'percent_cols_missing': prcnt_miss})\\\n",
    "    .reset_index()\\\n",
    "    .groupby(['num_cols_missing', 'percent_cols_missing']).count()\\\n",
    "    .rename(index=str, columns={'index': 'num_rows'}).reset_index()\n",
    "    return rows_missing"
   ]
  },
  {
   "cell_type": "code",
   "execution_count": 45,
   "metadata": {},
   "outputs": [
    {
     "data": {
      "text/html": [
       "<div>\n",
       "<style scoped>\n",
       "    .dataframe tbody tr th:only-of-type {\n",
       "        vertical-align: middle;\n",
       "    }\n",
       "\n",
       "    .dataframe tbody tr th {\n",
       "        vertical-align: top;\n",
       "    }\n",
       "\n",
       "    .dataframe thead th {\n",
       "        text-align: right;\n",
       "    }\n",
       "</style>\n",
       "<table border=\"1\" class=\"dataframe\">\n",
       "  <thead>\n",
       "    <tr style=\"text-align: right;\">\n",
       "      <th></th>\n",
       "      <th>num_rows_missing</th>\n",
       "      <th>percent_rows_missing</th>\n",
       "    </tr>\n",
       "  </thead>\n",
       "  <tbody>\n",
       "    <tr>\n",
       "      <th>timestamp</th>\n",
       "      <td>0</td>\n",
       "      <td>0.0</td>\n",
       "    </tr>\n",
       "    <tr>\n",
       "      <th>age</th>\n",
       "      <td>0</td>\n",
       "      <td>0.0</td>\n",
       "    </tr>\n",
       "    <tr>\n",
       "      <th>gender</th>\n",
       "      <td>0</td>\n",
       "      <td>0.0</td>\n",
       "    </tr>\n",
       "    <tr>\n",
       "      <th>country</th>\n",
       "      <td>0</td>\n",
       "      <td>0.0</td>\n",
       "    </tr>\n",
       "    <tr>\n",
       "      <th>self_employed</th>\n",
       "      <td>0</td>\n",
       "      <td>0.0</td>\n",
       "    </tr>\n",
       "    <tr>\n",
       "      <th>family_history</th>\n",
       "      <td>0</td>\n",
       "      <td>0.0</td>\n",
       "    </tr>\n",
       "    <tr>\n",
       "      <th>treatment</th>\n",
       "      <td>0</td>\n",
       "      <td>0.0</td>\n",
       "    </tr>\n",
       "    <tr>\n",
       "      <th>work_interfere</th>\n",
       "      <td>0</td>\n",
       "      <td>0.0</td>\n",
       "    </tr>\n",
       "    <tr>\n",
       "      <th>no_employees</th>\n",
       "      <td>0</td>\n",
       "      <td>0.0</td>\n",
       "    </tr>\n",
       "    <tr>\n",
       "      <th>remote_work</th>\n",
       "      <td>0</td>\n",
       "      <td>0.0</td>\n",
       "    </tr>\n",
       "    <tr>\n",
       "      <th>tech_company</th>\n",
       "      <td>0</td>\n",
       "      <td>0.0</td>\n",
       "    </tr>\n",
       "    <tr>\n",
       "      <th>benefits</th>\n",
       "      <td>0</td>\n",
       "      <td>0.0</td>\n",
       "    </tr>\n",
       "    <tr>\n",
       "      <th>care_options</th>\n",
       "      <td>0</td>\n",
       "      <td>0.0</td>\n",
       "    </tr>\n",
       "    <tr>\n",
       "      <th>wellness_program</th>\n",
       "      <td>0</td>\n",
       "      <td>0.0</td>\n",
       "    </tr>\n",
       "    <tr>\n",
       "      <th>seek_help</th>\n",
       "      <td>0</td>\n",
       "      <td>0.0</td>\n",
       "    </tr>\n",
       "    <tr>\n",
       "      <th>anonymity</th>\n",
       "      <td>0</td>\n",
       "      <td>0.0</td>\n",
       "    </tr>\n",
       "    <tr>\n",
       "      <th>leave</th>\n",
       "      <td>0</td>\n",
       "      <td>0.0</td>\n",
       "    </tr>\n",
       "    <tr>\n",
       "      <th>mental_health_consequence</th>\n",
       "      <td>0</td>\n",
       "      <td>0.0</td>\n",
       "    </tr>\n",
       "    <tr>\n",
       "      <th>phys_health_consequence</th>\n",
       "      <td>0</td>\n",
       "      <td>0.0</td>\n",
       "    </tr>\n",
       "    <tr>\n",
       "      <th>coworkers</th>\n",
       "      <td>0</td>\n",
       "      <td>0.0</td>\n",
       "    </tr>\n",
       "    <tr>\n",
       "      <th>supervisor</th>\n",
       "      <td>0</td>\n",
       "      <td>0.0</td>\n",
       "    </tr>\n",
       "    <tr>\n",
       "      <th>mental_health_interview</th>\n",
       "      <td>0</td>\n",
       "      <td>0.0</td>\n",
       "    </tr>\n",
       "    <tr>\n",
       "      <th>phys_health_interview</th>\n",
       "      <td>0</td>\n",
       "      <td>0.0</td>\n",
       "    </tr>\n",
       "    <tr>\n",
       "      <th>mental_vs_physical</th>\n",
       "      <td>0</td>\n",
       "      <td>0.0</td>\n",
       "    </tr>\n",
       "    <tr>\n",
       "      <th>obs_consequence</th>\n",
       "      <td>0</td>\n",
       "      <td>0.0</td>\n",
       "    </tr>\n",
       "  </tbody>\n",
       "</table>\n",
       "</div>"
      ],
      "text/plain": [
       "                           num_rows_missing  percent_rows_missing\n",
       "timestamp                                 0                   0.0\n",
       "age                                       0                   0.0\n",
       "gender                                    0                   0.0\n",
       "country                                   0                   0.0\n",
       "self_employed                             0                   0.0\n",
       "family_history                            0                   0.0\n",
       "treatment                                 0                   0.0\n",
       "work_interfere                            0                   0.0\n",
       "no_employees                              0                   0.0\n",
       "remote_work                               0                   0.0\n",
       "tech_company                              0                   0.0\n",
       "benefits                                  0                   0.0\n",
       "care_options                              0                   0.0\n",
       "wellness_program                          0                   0.0\n",
       "seek_help                                 0                   0.0\n",
       "anonymity                                 0                   0.0\n",
       "leave                                     0                   0.0\n",
       "mental_health_consequence                 0                   0.0\n",
       "phys_health_consequence                   0                   0.0\n",
       "coworkers                                 0                   0.0\n",
       "supervisor                                0                   0.0\n",
       "mental_health_interview                   0                   0.0\n",
       "phys_health_interview                     0                   0.0\n",
       "mental_vs_physical                        0                   0.0\n",
       "obs_consequence                           0                   0.0"
      ]
     },
     "execution_count": 45,
     "metadata": {},
     "output_type": "execute_result"
    }
   ],
   "source": [
    "nulls_by_col(survey_og)"
   ]
  },
  {
   "cell_type": "code",
   "execution_count": 46,
   "metadata": {},
   "outputs": [],
   "source": [
    "survey_og = survey_og.drop(columns = ['country','timestamp'] )"
   ]
  },
  {
   "cell_type": "code",
   "execution_count": 47,
   "metadata": {},
   "outputs": [],
   "source": [
    "survey_og.work_interfere = survey_og.work_interfere.map({'Never':0,'Not applicable':0, 'Rarely':1,'Sometimes':1,'Often':1})"
   ]
  },
  {
   "cell_type": "code",
   "execution_count": 48,
   "metadata": {},
   "outputs": [
    {
     "data": {
      "text/plain": [
       "1    604\n",
       "0    353\n",
       "Name: work_interfere, dtype: int64"
      ]
     },
     "execution_count": 48,
     "metadata": {},
     "output_type": "execute_result"
    }
   ],
   "source": [
    "survey_og.work_interfere.value_counts()"
   ]
  },
  {
   "cell_type": "code",
   "execution_count": 49,
   "metadata": {
    "tags": []
   },
   "outputs": [],
   "source": [
    "train, validate, test = explore.three_split(survey_og, 'work_interfere')"
   ]
  },
  {
   "cell_type": "code",
   "execution_count": 50,
   "metadata": {},
   "outputs": [],
   "source": [
    "cat_vars = train.drop(columns = ['age'])"
   ]
  },
  {
   "cell_type": "code",
   "execution_count": 51,
   "metadata": {},
   "outputs": [],
   "source": [
    "quant_vars = pd.DataFrame(train['age'])"
   ]
  },
  {
   "cell_type": "code",
   "execution_count": 52,
   "metadata": {},
   "outputs": [
    {
     "data": {
      "text/html": [
       "<div>\n",
       "<style scoped>\n",
       "    .dataframe tbody tr th:only-of-type {\n",
       "        vertical-align: middle;\n",
       "    }\n",
       "\n",
       "    .dataframe tbody tr th {\n",
       "        vertical-align: top;\n",
       "    }\n",
       "\n",
       "    .dataframe thead th {\n",
       "        text-align: right;\n",
       "    }\n",
       "</style>\n",
       "<table border=\"1\" class=\"dataframe\">\n",
       "  <thead>\n",
       "    <tr style=\"text-align: right;\">\n",
       "      <th></th>\n",
       "      <th>gender</th>\n",
       "      <th>self_employed</th>\n",
       "      <th>family_history</th>\n",
       "      <th>treatment</th>\n",
       "      <th>work_interfere</th>\n",
       "      <th>no_employees</th>\n",
       "      <th>remote_work</th>\n",
       "      <th>tech_company</th>\n",
       "      <th>benefits</th>\n",
       "      <th>care_options</th>\n",
       "      <th>...</th>\n",
       "      <th>anonymity</th>\n",
       "      <th>leave</th>\n",
       "      <th>mental_health_consequence</th>\n",
       "      <th>phys_health_consequence</th>\n",
       "      <th>coworkers</th>\n",
       "      <th>supervisor</th>\n",
       "      <th>mental_health_interview</th>\n",
       "      <th>phys_health_interview</th>\n",
       "      <th>mental_vs_physical</th>\n",
       "      <th>obs_consequence</th>\n",
       "    </tr>\n",
       "  </thead>\n",
       "  <tbody>\n",
       "    <tr>\n",
       "      <th>973</th>\n",
       "      <td>male</td>\n",
       "      <td>No</td>\n",
       "      <td>Yes</td>\n",
       "      <td>No</td>\n",
       "      <td>0</td>\n",
       "      <td>More than 1000</td>\n",
       "      <td>No</td>\n",
       "      <td>Yes</td>\n",
       "      <td>Yes</td>\n",
       "      <td>Yes</td>\n",
       "      <td>...</td>\n",
       "      <td>Yes</td>\n",
       "      <td>Don't know</td>\n",
       "      <td>No</td>\n",
       "      <td>No</td>\n",
       "      <td>Yes</td>\n",
       "      <td>Yes</td>\n",
       "      <td>No</td>\n",
       "      <td>No</td>\n",
       "      <td>Yes</td>\n",
       "      <td>No</td>\n",
       "    </tr>\n",
       "    <tr>\n",
       "      <th>1022</th>\n",
       "      <td>male</td>\n",
       "      <td>No</td>\n",
       "      <td>No</td>\n",
       "      <td>No</td>\n",
       "      <td>0</td>\n",
       "      <td>6-25</td>\n",
       "      <td>No</td>\n",
       "      <td>Yes</td>\n",
       "      <td>Yes</td>\n",
       "      <td>Yes</td>\n",
       "      <td>...</td>\n",
       "      <td>Don't know</td>\n",
       "      <td>Somewhat easy</td>\n",
       "      <td>No</td>\n",
       "      <td>No</td>\n",
       "      <td>Yes</td>\n",
       "      <td>Yes</td>\n",
       "      <td>No</td>\n",
       "      <td>Maybe</td>\n",
       "      <td>Yes</td>\n",
       "      <td>No</td>\n",
       "    </tr>\n",
       "    <tr>\n",
       "      <th>358</th>\n",
       "      <td>male</td>\n",
       "      <td>No</td>\n",
       "      <td>No</td>\n",
       "      <td>Yes</td>\n",
       "      <td>1</td>\n",
       "      <td>100-500</td>\n",
       "      <td>Yes</td>\n",
       "      <td>Yes</td>\n",
       "      <td>No</td>\n",
       "      <td>No</td>\n",
       "      <td>...</td>\n",
       "      <td>Don't know</td>\n",
       "      <td>Somewhat easy</td>\n",
       "      <td>Yes</td>\n",
       "      <td>Yes</td>\n",
       "      <td>Some of them</td>\n",
       "      <td>Some of them</td>\n",
       "      <td>No</td>\n",
       "      <td>Maybe</td>\n",
       "      <td>Don't know</td>\n",
       "      <td>No</td>\n",
       "    </tr>\n",
       "    <tr>\n",
       "      <th>278</th>\n",
       "      <td>male</td>\n",
       "      <td>No</td>\n",
       "      <td>No</td>\n",
       "      <td>Yes</td>\n",
       "      <td>1</td>\n",
       "      <td>100-500</td>\n",
       "      <td>No</td>\n",
       "      <td>No</td>\n",
       "      <td>Yes</td>\n",
       "      <td>Yes</td>\n",
       "      <td>...</td>\n",
       "      <td>Don't know</td>\n",
       "      <td>Very easy</td>\n",
       "      <td>Maybe</td>\n",
       "      <td>No</td>\n",
       "      <td>Some of them</td>\n",
       "      <td>Some of them</td>\n",
       "      <td>No</td>\n",
       "      <td>No</td>\n",
       "      <td>Yes</td>\n",
       "      <td>No</td>\n",
       "    </tr>\n",
       "    <tr>\n",
       "      <th>399</th>\n",
       "      <td>male</td>\n",
       "      <td>No</td>\n",
       "      <td>No</td>\n",
       "      <td>Yes</td>\n",
       "      <td>1</td>\n",
       "      <td>100-500</td>\n",
       "      <td>No</td>\n",
       "      <td>Yes</td>\n",
       "      <td>Don't know</td>\n",
       "      <td>Not sure</td>\n",
       "      <td>...</td>\n",
       "      <td>Yes</td>\n",
       "      <td>Somewhat easy</td>\n",
       "      <td>Maybe</td>\n",
       "      <td>No</td>\n",
       "      <td>Some of them</td>\n",
       "      <td>Some of them</td>\n",
       "      <td>No</td>\n",
       "      <td>Maybe</td>\n",
       "      <td>Yes</td>\n",
       "      <td>No</td>\n",
       "    </tr>\n",
       "    <tr>\n",
       "      <th>...</th>\n",
       "      <td>...</td>\n",
       "      <td>...</td>\n",
       "      <td>...</td>\n",
       "      <td>...</td>\n",
       "      <td>...</td>\n",
       "      <td>...</td>\n",
       "      <td>...</td>\n",
       "      <td>...</td>\n",
       "      <td>...</td>\n",
       "      <td>...</td>\n",
       "      <td>...</td>\n",
       "      <td>...</td>\n",
       "      <td>...</td>\n",
       "      <td>...</td>\n",
       "      <td>...</td>\n",
       "      <td>...</td>\n",
       "      <td>...</td>\n",
       "      <td>...</td>\n",
       "      <td>...</td>\n",
       "      <td>...</td>\n",
       "      <td>...</td>\n",
       "    </tr>\n",
       "    <tr>\n",
       "      <th>394</th>\n",
       "      <td>female</td>\n",
       "      <td>No</td>\n",
       "      <td>Yes</td>\n",
       "      <td>No</td>\n",
       "      <td>0</td>\n",
       "      <td>500-1000</td>\n",
       "      <td>No</td>\n",
       "      <td>No</td>\n",
       "      <td>No</td>\n",
       "      <td>No</td>\n",
       "      <td>...</td>\n",
       "      <td>No</td>\n",
       "      <td>Very difficult</td>\n",
       "      <td>Yes</td>\n",
       "      <td>Maybe</td>\n",
       "      <td>No</td>\n",
       "      <td>No</td>\n",
       "      <td>No</td>\n",
       "      <td>Maybe</td>\n",
       "      <td>No</td>\n",
       "      <td>Yes</td>\n",
       "    </tr>\n",
       "    <tr>\n",
       "      <th>515</th>\n",
       "      <td>male</td>\n",
       "      <td>No</td>\n",
       "      <td>No</td>\n",
       "      <td>No</td>\n",
       "      <td>0</td>\n",
       "      <td>6-25</td>\n",
       "      <td>Yes</td>\n",
       "      <td>Yes</td>\n",
       "      <td>Don't know</td>\n",
       "      <td>No</td>\n",
       "      <td>...</td>\n",
       "      <td>Don't know</td>\n",
       "      <td>Don't know</td>\n",
       "      <td>Maybe</td>\n",
       "      <td>No</td>\n",
       "      <td>Some of them</td>\n",
       "      <td>No</td>\n",
       "      <td>No</td>\n",
       "      <td>No</td>\n",
       "      <td>Don't know</td>\n",
       "      <td>No</td>\n",
       "    </tr>\n",
       "    <tr>\n",
       "      <th>26</th>\n",
       "      <td>male</td>\n",
       "      <td>No</td>\n",
       "      <td>No</td>\n",
       "      <td>No</td>\n",
       "      <td>0</td>\n",
       "      <td>1-5</td>\n",
       "      <td>No</td>\n",
       "      <td>Yes</td>\n",
       "      <td>Don't know</td>\n",
       "      <td>Not sure</td>\n",
       "      <td>...</td>\n",
       "      <td>Don't know</td>\n",
       "      <td>Don't know</td>\n",
       "      <td>Maybe</td>\n",
       "      <td>Maybe</td>\n",
       "      <td>Some of them</td>\n",
       "      <td>No</td>\n",
       "      <td>No</td>\n",
       "      <td>No</td>\n",
       "      <td>Don't know</td>\n",
       "      <td>No</td>\n",
       "    </tr>\n",
       "    <tr>\n",
       "      <th>1094</th>\n",
       "      <td>male</td>\n",
       "      <td>No</td>\n",
       "      <td>No</td>\n",
       "      <td>Yes</td>\n",
       "      <td>1</td>\n",
       "      <td>100-500</td>\n",
       "      <td>No</td>\n",
       "      <td>Yes</td>\n",
       "      <td>Yes</td>\n",
       "      <td>No</td>\n",
       "      <td>...</td>\n",
       "      <td>Yes</td>\n",
       "      <td>Very easy</td>\n",
       "      <td>No</td>\n",
       "      <td>No</td>\n",
       "      <td>No</td>\n",
       "      <td>Yes</td>\n",
       "      <td>No</td>\n",
       "      <td>No</td>\n",
       "      <td>Yes</td>\n",
       "      <td>No</td>\n",
       "    </tr>\n",
       "    <tr>\n",
       "      <th>534</th>\n",
       "      <td>male</td>\n",
       "      <td>No</td>\n",
       "      <td>No</td>\n",
       "      <td>No</td>\n",
       "      <td>0</td>\n",
       "      <td>26-100</td>\n",
       "      <td>No</td>\n",
       "      <td>Yes</td>\n",
       "      <td>Don't know</td>\n",
       "      <td>Not sure</td>\n",
       "      <td>...</td>\n",
       "      <td>Don't know</td>\n",
       "      <td>Don't know</td>\n",
       "      <td>Yes</td>\n",
       "      <td>Maybe</td>\n",
       "      <td>No</td>\n",
       "      <td>No</td>\n",
       "      <td>No</td>\n",
       "      <td>Maybe</td>\n",
       "      <td>Don't know</td>\n",
       "      <td>No</td>\n",
       "    </tr>\n",
       "  </tbody>\n",
       "</table>\n",
       "<p>535 rows × 22 columns</p>\n",
       "</div>"
      ],
      "text/plain": [
       "      gender self_employed family_history treatment  work_interfere  \\\n",
       "973     male            No            Yes        No               0   \n",
       "1022    male            No             No        No               0   \n",
       "358     male            No             No       Yes               1   \n",
       "278     male            No             No       Yes               1   \n",
       "399     male            No             No       Yes               1   \n",
       "...      ...           ...            ...       ...             ...   \n",
       "394   female            No            Yes        No               0   \n",
       "515     male            No             No        No               0   \n",
       "26      male            No             No        No               0   \n",
       "1094    male            No             No       Yes               1   \n",
       "534     male            No             No        No               0   \n",
       "\n",
       "        no_employees remote_work tech_company    benefits care_options  ...  \\\n",
       "973   More than 1000          No          Yes         Yes          Yes  ...   \n",
       "1022            6-25          No          Yes         Yes          Yes  ...   \n",
       "358          100-500         Yes          Yes          No           No  ...   \n",
       "278          100-500          No           No         Yes          Yes  ...   \n",
       "399          100-500          No          Yes  Don't know     Not sure  ...   \n",
       "...              ...         ...          ...         ...          ...  ...   \n",
       "394         500-1000          No           No          No           No  ...   \n",
       "515             6-25         Yes          Yes  Don't know           No  ...   \n",
       "26               1-5          No          Yes  Don't know     Not sure  ...   \n",
       "1094         100-500          No          Yes         Yes           No  ...   \n",
       "534           26-100          No          Yes  Don't know     Not sure  ...   \n",
       "\n",
       "       anonymity           leave mental_health_consequence  \\\n",
       "973          Yes      Don't know                        No   \n",
       "1022  Don't know   Somewhat easy                        No   \n",
       "358   Don't know   Somewhat easy                       Yes   \n",
       "278   Don't know       Very easy                     Maybe   \n",
       "399          Yes   Somewhat easy                     Maybe   \n",
       "...          ...             ...                       ...   \n",
       "394           No  Very difficult                       Yes   \n",
       "515   Don't know      Don't know                     Maybe   \n",
       "26    Don't know      Don't know                     Maybe   \n",
       "1094         Yes       Very easy                        No   \n",
       "534   Don't know      Don't know                       Yes   \n",
       "\n",
       "     phys_health_consequence     coworkers    supervisor  \\\n",
       "973                       No           Yes           Yes   \n",
       "1022                      No           Yes           Yes   \n",
       "358                      Yes  Some of them  Some of them   \n",
       "278                       No  Some of them  Some of them   \n",
       "399                       No  Some of them  Some of them   \n",
       "...                      ...           ...           ...   \n",
       "394                    Maybe            No            No   \n",
       "515                       No  Some of them            No   \n",
       "26                     Maybe  Some of them            No   \n",
       "1094                      No            No           Yes   \n",
       "534                    Maybe            No            No   \n",
       "\n",
       "     mental_health_interview phys_health_interview mental_vs_physical  \\\n",
       "973                       No                    No                Yes   \n",
       "1022                      No                 Maybe                Yes   \n",
       "358                       No                 Maybe         Don't know   \n",
       "278                       No                    No                Yes   \n",
       "399                       No                 Maybe                Yes   \n",
       "...                      ...                   ...                ...   \n",
       "394                       No                 Maybe                 No   \n",
       "515                       No                    No         Don't know   \n",
       "26                        No                    No         Don't know   \n",
       "1094                      No                    No                Yes   \n",
       "534                       No                 Maybe         Don't know   \n",
       "\n",
       "     obs_consequence  \n",
       "973               No  \n",
       "1022              No  \n",
       "358               No  \n",
       "278               No  \n",
       "399               No  \n",
       "...              ...  \n",
       "394              Yes  \n",
       "515               No  \n",
       "26                No  \n",
       "1094              No  \n",
       "534               No  \n",
       "\n",
       "[535 rows x 22 columns]"
      ]
     },
     "execution_count": 52,
     "metadata": {},
     "output_type": "execute_result"
    }
   ],
   "source": [
    "cat_vars"
   ]
  },
  {
   "cell_type": "code",
   "execution_count": 53,
   "metadata": {},
   "outputs": [
    {
     "data": {
      "text/plain": [
       "<AxesSubplot:xlabel='work_interfere', ylabel='count'>"
      ]
     },
     "execution_count": 53,
     "metadata": {},
     "output_type": "execute_result"
    },
    {
     "data": {
      "image/png": "[encoded data removed]",
      "text/plain": [
       "<Figure size 432x288 with 1 Axes>"
      ]
     },
     "metadata": {
      "needs_background": "light"
     },
     "output_type": "display_data"
    }
   ],
   "source": [
    "sns.countplot(survey_og.work_interfere)"
   ]
  },
  {
   "cell_type": "code",
   "execution_count": 54,
   "metadata": {
    "tags": []
   },
   "outputs": [
    {
     "data": {
      "image/png": "[encoded data removed]",
      "text/plain": [
       "<Figure size 432x288 with 1 Axes>"
      ]
     },
     "metadata": {
      "needs_background": "light"
     },
     "output_type": "display_data"
    },
    {
     "data": {
      "image/png": "[encoded data removed]",
      "text/plain": [
       "<Figure size 432x288 with 1 Axes>"
      ]
     },
     "metadata": {
      "needs_background": "light"
     },
     "output_type": "display_data"
    },
    {
     "data": {
      "image/png": "[encoded data removed]",
      "text/plain": [
       "<Figure size 432x288 with 1 Axes>"
      ]
     },
     "metadata": {
      "needs_background": "light"
     },
     "output_type": "display_data"
    },
    {
     "data": {
      "image/png": "[encoded data removed]",
      "text/plain": [
       "<Figure size 432x288 with 1 Axes>"
      ]
     },
     "metadata": {
      "needs_background": "light"
     },
     "output_type": "display_data"
    },
    {
     "data": {
      "image/png": "[encoded data removed]",
      "text/plain": [
       "<Figure size 432x288 with 1 Axes>"
      ]
     },
     "metadata": {
      "needs_background": "light"
     },
     "output_type": "display_data"
    },
    {
     "data": {
      "image/png": "[encoded data removed]",
      "text/plain": [
       "<Figure size 432x288 with 1 Axes>"
      ]
     },
     "metadata": {
      "needs_background": "light"
     },
     "output_type": "display_data"
    },
    {
     "data": {
      "image/png": "[encoded data removed]",
      "text/plain": [
       "<Figure size 432x288 with 1 Axes>"
      ]
     },
     "metadata": {
      "needs_background": "light"
     },
     "output_type": "display_data"
    },
    {
     "data": {
      "image/png": "[encoded data removed]",
      "text/plain": [
       "<Figure size 432x288 with 1 Axes>"
      ]
     },
     "metadata": {
      "needs_background": "light"
     },
     "output_type": "display_data"
    },
    {
     "data": {
      "image/png": "[encoded data removed]",
      "text/plain": [
       "<Figure size 432x288 with 1 Axes>"
      ]
     },
     "metadata": {
      "needs_background": "light"
     },
     "output_type": "display_data"
    },
    {
     "data": {
      "image/png": "[encoded data removed]",
      "text/plain": [
       "<Figure size 432x288 with 1 Axes>"
      ]
     },
     "metadata": {
      "needs_background": "light"
     },
     "output_type": "display_data"
    },
    {
     "data": {
      "image/png": "[encoded data removed]",
      "text/plain": [
       "<Figure size 432x288 with 1 Axes>"
      ]
     },
     "metadata": {
      "needs_background": "light"
     },
     "output_type": "display_data"
    },
    {
     "data": {
      "image/png": "[encoded data removed]",
      "text/plain": [
       "<Figure size 432x288 with 1 Axes>"
      ]
     },
     "metadata": {
      "needs_background": "light"
     },
     "output_type": "display_data"
    },
    {
     "data": {
      "image/png": "[encoded data removed]",
      "text/plain": [
       "<Figure size 432x288 with 1 Axes>"
      ]
     },
     "metadata": {
      "needs_background": "light"
     },
     "output_type": "display_data"
    },
    {
     "data": {
      "image/png": "[encoded data removed]",
      "text/plain": [
       "<Figure size 432x288 with 1 Axes>"
      ]
     },
     "metadata": {
      "needs_background": "light"
     },
     "output_type": "display_data"
    },
    {
     "data": {
      "image/png": "[encoded data removed]",
      "text/plain": [
       "<Figure size 432x288 with 1 Axes>"
      ]
     },
     "metadata": {
      "needs_background": "light"
     },
     "output_type": "display_data"
    },
    {
     "data": {
      "image/png": "[encoded data removed]",
      "text/plain": [
       "<Figure size 432x288 with 1 Axes>"
      ]
     },
     "metadata": {
      "needs_background": "light"
     },
     "output_type": "display_data"
    },
    {
     "data": {
      "image/png": "[encoded data removed]",
      "text/plain": [
       "<Figure size 432x288 with 1 Axes>"
      ]
     },
     "metadata": {
      "needs_background": "light"
     },
     "output_type": "display_data"
    },
    {
     "data": {
      "image/png": "[encoded data removed]",
      "text/plain": [
       "<Figure size 432x288 with 1 Axes>"
      ]
     },
     "metadata": {
      "needs_background": "light"
     },
     "output_type": "display_data"
    },
    {
     "data": {
      "image/png": "[encoded data removed]",
      "text/plain": [
       "<Figure size 432x288 with 1 Axes>"
      ]
     },
     "metadata": {
      "needs_background": "light"
     },
     "output_type": "display_data"
    },
    {
     "data": {
      "image/png": "[encoded data removed]",
      "text/plain": [
       "<Figure size 432x288 with 1 Axes>"
      ]
     },
     "metadata": {
      "needs_background": "light"
     },
     "output_type": "display_data"
    },
    {
     "data": {
      "image/png": "[encoded data removed]",
      "text/plain": [
       "<Figure size 432x288 with 1 Axes>"
      ]
     },
     "metadata": {
      "needs_background": "light"
     },
     "output_type": "display_data"
    },
    {
     "data": {
      "image/png": "[encoded data removed]",
      "text/plain": [
       "<Figure size 432x288 with 1 Axes>"
      ]
     },
     "metadata": {
      "needs_background": "light"
     },
     "output_type": "display_data"
    },
    {
     "data": {
      "image/png": "[encoded data removed]",
      "text/plain": [
       "<Figure size 432x288 with 1 Axes>"
      ]
     },
     "metadata": {
      "needs_background": "light"
     },
     "output_type": "display_data"
    }
   ],
   "source": [
    "for x in train.columns:\n",
    "    sns.countplot(survey_og[x])\n",
    "    plt.show()"
   ]
  },
  {
   "cell_type": "markdown",
   "metadata": {},
   "source": [
    "## Bivariate Exploration "
   ]
  },
  {
   "cell_type": "code",
   "execution_count": 55,
   "metadata": {
    "tags": []
   },
   "outputs": [
    {
     "data": {
      "image/png": "[encoded data removed]",
      "text/plain": [
       "<Figure size 288x288 with 1 Axes>"
      ]
     },
     "metadata": {
      "needs_background": "light"
     },
     "output_type": "display_data"
    },
    {
     "name": "stdout",
     "output_type": "stream",
     "text": [
      "\n",
      "_____________________\n",
      "\n"
     ]
    },
    {
     "data": {
      "image/png": "[encoded data removed]",
      "text/plain": [
       "<Figure size 288x288 with 1 Axes>"
      ]
     },
     "metadata": {
      "needs_background": "light"
     },
     "output_type": "display_data"
    },
    {
     "name": "stdout",
     "output_type": "stream",
     "text": [
      "\n",
      "_____________________\n",
      "\n"
     ]
    },
    {
     "data": {
      "image/png": "[encoded data removed]",
      "text/plain": [
       "<Figure size 288x288 with 1 Axes>"
      ]
     },
     "metadata": {
      "needs_background": "light"
     },
     "output_type": "display_data"
    },
    {
     "name": "stdout",
     "output_type": "stream",
     "text": [
      "\n",
      "_____________________\n",
      "\n"
     ]
    },
    {
     "data": {
      "image/png": "[encoded data removed]",
      "text/plain": [
       "<Figure size 288x288 with 1 Axes>"
      ]
     },
     "metadata": {
      "needs_background": "light"
     },
     "output_type": "display_data"
    },
    {
     "name": "stdout",
     "output_type": "stream",
     "text": [
      "\n",
      "_____________________\n",
      "\n"
     ]
    },
    {
     "data": {
      "image/png": "[encoded data removed]",
      "text/plain": [
       "<Figure size 288x288 with 1 Axes>"
      ]
     },
     "metadata": {
      "needs_background": "light"
     },
     "output_type": "display_data"
    },
    {
     "name": "stdout",
     "output_type": "stream",
     "text": [
      "\n",
      "_____________________\n",
      "\n"
     ]
    },
    {
     "data": {
      "image/png": "[encoded data removed]",
      "text/plain": [
       "<Figure size 288x288 with 1 Axes>"
      ]
     },
     "metadata": {
      "needs_background": "light"
     },
     "output_type": "display_data"
    },
    {
     "name": "stdout",
     "output_type": "stream",
     "text": [
      "\n",
      "_____________________\n",
      "\n"
     ]
    },
    {
     "data": {
      "image/png": "[encoded data removed]",
      "text/plain": [
       "<Figure size 288x288 with 1 Axes>"
      ]
     },
     "metadata": {
      "needs_background": "light"
     },
     "output_type": "display_data"
    },
    {
     "name": "stdout",
     "output_type": "stream",
     "text": [
      "\n",
      "_____________________\n",
      "\n"
     ]
    },
    {
     "data": {
      "image/png": "[encoded data removed]",
      "text/plain": [
       "<Figure size 288x288 with 1 Axes>"
      ]
     },
     "metadata": {
      "needs_background": "light"
     },
     "output_type": "display_data"
    },
    {
     "name": "stdout",
     "output_type": "stream",
     "text": [
      "\n",
      "_____________________\n",
      "\n"
     ]
    },
    {
     "data": {
      "image/png": "[encoded data removed]",
      "text/plain": [
       "<Figure size 288x288 with 1 Axes>"
      ]
     },
     "metadata": {
      "needs_background": "light"
     },
     "output_type": "display_data"
    },
    {
     "name": "stdout",
     "output_type": "stream",
     "text": [
      "\n",
      "_____________________\n",
      "\n"
     ]
    },
    {
     "data": {
      "image/png": "[encoded data removed]",
      "text/plain": [
       "<Figure size 288x288 with 1 Axes>"
      ]
     },
     "metadata": {
      "needs_background": "light"
     },
     "output_type": "display_data"
    },
    {
     "name": "stdout",
     "output_type": "stream",
     "text": [
      "\n",
      "_____________________\n",
      "\n"
     ]
    },
    {
     "data": {
      "image/png": "[encoded data removed]",
      "text/plain": [
       "<Figure size 288x288 with 1 Axes>"
      ]
     },
     "metadata": {
      "needs_background": "light"
     },
     "output_type": "display_data"
    },
    {
     "name": "stdout",
     "output_type": "stream",
     "text": [
      "\n",
      "_____________________\n",
      "\n"
     ]
    },
    {
     "data": {
      "image/png": "[encoded data removed]",
      "text/plain": [
       "<Figure size 288x288 with 1 Axes>"
      ]
     },
     "metadata": {
      "needs_background": "light"
     },
     "output_type": "display_data"
    },
    {
     "name": "stdout",
     "output_type": "stream",
     "text": [
      "\n",
      "_____________________\n",
      "\n"
     ]
    },
    {
     "data": {
      "image/png": "[encoded data removed]",
      "text/plain": [
       "<Figure size 288x288 with 1 Axes>"
      ]
     },
     "metadata": {
      "needs_background": "light"
     },
     "output_type": "display_data"
    },
    {
     "name": "stdout",
     "output_type": "stream",
     "text": [
      "\n",
      "_____________________\n",
      "\n"
     ]
    },
    {
     "data": {
      "image/png": "[encoded data removed]",
      "text/plain": [
       "<Figure size 288x288 with 1 Axes>"
      ]
     },
     "metadata": {
      "needs_background": "light"
     },
     "output_type": "display_data"
    },
    {
     "name": "stdout",
     "output_type": "stream",
     "text": [
      "\n",
      "_____________________\n",
      "\n"
     ]
    },
    {
     "data": {
      "image/png": "[encoded data removed]",
      "text/plain": [
       "<Figure size 288x288 with 1 Axes>"
      ]
     },
     "metadata": {
      "needs_background": "light"
     },
     "output_type": "display_data"
    },
    {
     "name": "stdout",
     "output_type": "stream",
     "text": [
      "\n",
      "_____________________\n",
      "\n"
     ]
    },
    {
     "data": {
      "image/png": "[encoded data removed]",
      "text/plain": [
       "<Figure size 288x288 with 1 Axes>"
      ]
     },
     "metadata": {
      "needs_background": "light"
     },
     "output_type": "display_data"
    },
    {
     "name": "stdout",
     "output_type": "stream",
     "text": [
      "\n",
      "_____________________\n",
      "\n"
     ]
    },
    {
     "data": {
      "image/png": "[encoded data removed]",
      "text/plain": [
       "<Figure size 288x288 with 1 Axes>"
      ]
     },
     "metadata": {
      "needs_background": "light"
     },
     "output_type": "display_data"
    },
    {
     "name": "stdout",
     "output_type": "stream",
     "text": [
      "\n",
      "_____________________\n",
      "\n"
     ]
    },
    {
     "data": {
      "image/png": "[encoded data removed]",
      "text/plain": [
       "<Figure size 288x288 with 1 Axes>"
      ]
     },
     "metadata": {
      "needs_background": "light"
     },
     "output_type": "display_data"
    },
    {
     "name": "stdout",
     "output_type": "stream",
     "text": [
      "\n",
      "_____________________\n",
      "\n"
     ]
    },
    {
     "data": {
      "image/png": "[encoded data removed]",
      "text/plain": [
       "<Figure size 288x288 with 1 Axes>"
      ]
     },
     "metadata": {
      "needs_background": "light"
     },
     "output_type": "display_data"
    },
    {
     "name": "stdout",
     "output_type": "stream",
     "text": [
      "\n",
      "_____________________\n",
      "\n"
     ]
    },
    {
     "data": {
      "image/png": "[encoded data removed]",
      "text/plain": [
       "<Figure size 288x288 with 1 Axes>"
      ]
     },
     "metadata": {
      "needs_background": "light"
     },
     "output_type": "display_data"
    },
    {
     "name": "stdout",
     "output_type": "stream",
     "text": [
      "\n",
      "_____________________\n",
      "\n"
     ]
    },
    {
     "data": {
      "image/png": "[encoded data removed]",
      "text/plain": [
       "<Figure size 288x288 with 1 Axes>"
      ]
     },
     "metadata": {
      "needs_background": "light"
     },
     "output_type": "display_data"
    },
    {
     "name": "stdout",
     "output_type": "stream",
     "text": [
      "\n",
      "_____________________\n",
      "\n"
     ]
    },
    {
     "data": {
      "image/png": "[encoded data removed]",
      "text/plain": [
       "<Figure size 288x288 with 1 Axes>"
      ]
     },
     "metadata": {
      "needs_background": "light"
     },
     "output_type": "display_data"
    },
    {
     "name": "stdout",
     "output_type": "stream",
     "text": [
      "\n",
      "_____________________\n",
      "\n",
      "age\n"
     ]
    },
    {
     "data": {
      "image/png": "[encoded data removed]",
      "text/plain": [
       "<Figure size 576x288 with 1 Axes>"
      ]
     },
     "metadata": {
      "needs_background": "light"
     },
     "output_type": "display_data"
    },
    {
     "name": "stdout",
     "output_type": "stream",
     "text": [
      "                count       mean       std   min   25%   50%   75%   max\n",
      "work_interfere                                                          \n",
      "0               197.0  33.025381  8.191233  19.0  27.0  32.0  36.0  72.0\n",
      "1               338.0  32.801775  7.049574  18.0  28.0  32.0  37.0  60.0 \n",
      "\n",
      "\n",
      "Mann-Whitney Test:\n",
      " MannwhitneyuResult(statistic=32599.5, pvalue=0.6874668645912754)\n",
      "\n",
      "____________________\n",
      "\n",
      "                     variable    chi2  p-value  degrees of freedom\n",
      "0              family_history   65.94   0.0000                 1.0\n",
      "1                   treatment  258.60   0.0000                 1.0\n",
      "2              work_interfere  530.71   0.0000                 1.0\n",
      "3     mental_health_interview   18.51   0.0001                 2.0\n",
      "4                care_options   16.16   0.0003                 2.0\n",
      "5                  supervisor   15.60   0.0004                 2.0\n",
      "6   mental_health_consequence   15.41   0.0005                 2.0\n",
      "7                       leave   19.49   0.0006                 4.0\n",
      "8                    benefits   13.58   0.0011                 2.0\n",
      "9                      gender   13.21   0.0014                 2.0\n",
      "10    phys_health_consequence    7.73   0.0209                 2.0\n",
      "11         mental_vs_physical    7.57   0.0227                 2.0\n",
      "12           wellness_program    6.70   0.0352                 2.0\n",
      "13            obs_consequence    4.35   0.0371                 1.0\n",
      "14               no_employees    9.22   0.1005                 5.0\n",
      "15                  seek_help    4.11   0.1282                 2.0\n",
      "16               tech_company    1.45   0.2285                 1.0\n",
      "17                remote_work    0.18   0.6729                 1.0\n",
      "18                  anonymity    0.71   0.7008                 2.0\n",
      "19                  coworkers    0.18   0.9156                 2.0\n",
      "20              self_employed    0.01   0.9417                 1.0\n",
      "21      phys_health_interview    0.10   0.9509                 2.0\n"
     ]
    },
    {
     "data": {
      "text/html": [
       "<div>\n",
       "<style scoped>\n",
       "    .dataframe tbody tr th:only-of-type {\n",
       "        vertical-align: middle;\n",
       "    }\n",
       "\n",
       "    .dataframe tbody tr th {\n",
       "        vertical-align: top;\n",
       "    }\n",
       "\n",
       "    .dataframe thead th {\n",
       "        text-align: right;\n",
       "    }\n",
       "</style>\n",
       "<table border=\"1\" class=\"dataframe\">\n",
       "  <thead>\n",
       "    <tr style=\"text-align: right;\">\n",
       "      <th></th>\n",
       "      <th>variable</th>\n",
       "      <th>chi2</th>\n",
       "      <th>p-value</th>\n",
       "      <th>degrees of freedom</th>\n",
       "    </tr>\n",
       "  </thead>\n",
       "  <tbody>\n",
       "    <tr>\n",
       "      <th>0</th>\n",
       "      <td>family_history</td>\n",
       "      <td>65.94</td>\n",
       "      <td>0.0000</td>\n",
       "      <td>1.0</td>\n",
       "    </tr>\n",
       "    <tr>\n",
       "      <th>1</th>\n",
       "      <td>treatment</td>\n",
       "      <td>258.60</td>\n",
       "      <td>0.0000</td>\n",
       "      <td>1.0</td>\n",
       "    </tr>\n",
       "    <tr>\n",
       "      <th>2</th>\n",
       "      <td>work_interfere</td>\n",
       "      <td>530.71</td>\n",
       "      <td>0.0000</td>\n",
       "      <td>1.0</td>\n",
       "    </tr>\n",
       "    <tr>\n",
       "      <th>3</th>\n",
       "      <td>mental_health_interview</td>\n",
       "      <td>18.51</td>\n",
       "      <td>0.0001</td>\n",
       "      <td>2.0</td>\n",
       "    </tr>\n",
       "    <tr>\n",
       "      <th>4</th>\n",
       "      <td>care_options</td>\n",
       "      <td>16.16</td>\n",
       "      <td>0.0003</td>\n",
       "      <td>2.0</td>\n",
       "    </tr>\n",
       "    <tr>\n",
       "      <th>5</th>\n",
       "      <td>supervisor</td>\n",
       "      <td>15.60</td>\n",
       "      <td>0.0004</td>\n",
       "      <td>2.0</td>\n",
       "    </tr>\n",
       "    <tr>\n",
       "      <th>6</th>\n",
       "      <td>mental_health_consequence</td>\n",
       "      <td>15.41</td>\n",
       "      <td>0.0005</td>\n",
       "      <td>2.0</td>\n",
       "    </tr>\n",
       "    <tr>\n",
       "      <th>7</th>\n",
       "      <td>leave</td>\n",
       "      <td>19.49</td>\n",
       "      <td>0.0006</td>\n",
       "      <td>4.0</td>\n",
       "    </tr>\n",
       "    <tr>\n",
       "      <th>8</th>\n",
       "      <td>benefits</td>\n",
       "      <td>13.58</td>\n",
       "      <td>0.0011</td>\n",
       "      <td>2.0</td>\n",
       "    </tr>\n",
       "    <tr>\n",
       "      <th>9</th>\n",
       "      <td>gender</td>\n",
       "      <td>13.21</td>\n",
       "      <td>0.0014</td>\n",
       "      <td>2.0</td>\n",
       "    </tr>\n",
       "    <tr>\n",
       "      <th>10</th>\n",
       "      <td>phys_health_consequence</td>\n",
       "      <td>7.73</td>\n",
       "      <td>0.0209</td>\n",
       "      <td>2.0</td>\n",
       "    </tr>\n",
       "    <tr>\n",
       "      <th>11</th>\n",
       "      <td>mental_vs_physical</td>\n",
       "      <td>7.57</td>\n",
       "      <td>0.0227</td>\n",
       "      <td>2.0</td>\n",
       "    </tr>\n",
       "    <tr>\n",
       "      <th>12</th>\n",
       "      <td>wellness_program</td>\n",
       "      <td>6.70</td>\n",
       "      <td>0.0352</td>\n",
       "      <td>2.0</td>\n",
       "    </tr>\n",
       "    <tr>\n",
       "      <th>13</th>\n",
       "      <td>obs_consequence</td>\n",
       "      <td>4.35</td>\n",
       "      <td>0.0371</td>\n",
       "      <td>1.0</td>\n",
       "    </tr>\n",
       "    <tr>\n",
       "      <th>14</th>\n",
       "      <td>no_employees</td>\n",
       "      <td>9.22</td>\n",
       "      <td>0.1005</td>\n",
       "      <td>5.0</td>\n",
       "    </tr>\n",
       "    <tr>\n",
       "      <th>15</th>\n",
       "      <td>seek_help</td>\n",
       "      <td>4.11</td>\n",
       "      <td>0.1282</td>\n",
       "      <td>2.0</td>\n",
       "    </tr>\n",
       "    <tr>\n",
       "      <th>16</th>\n",
       "      <td>tech_company</td>\n",
       "      <td>1.45</td>\n",
       "      <td>0.2285</td>\n",
       "      <td>1.0</td>\n",
       "    </tr>\n",
       "    <tr>\n",
       "      <th>17</th>\n",
       "      <td>remote_work</td>\n",
       "      <td>0.18</td>\n",
       "      <td>0.6729</td>\n",
       "      <td>1.0</td>\n",
       "    </tr>\n",
       "    <tr>\n",
       "      <th>18</th>\n",
       "      <td>anonymity</td>\n",
       "      <td>0.71</td>\n",
       "      <td>0.7008</td>\n",
       "      <td>2.0</td>\n",
       "    </tr>\n",
       "    <tr>\n",
       "      <th>19</th>\n",
       "      <td>coworkers</td>\n",
       "      <td>0.18</td>\n",
       "      <td>0.9156</td>\n",
       "      <td>2.0</td>\n",
       "    </tr>\n",
       "    <tr>\n",
       "      <th>20</th>\n",
       "      <td>self_employed</td>\n",
       "      <td>0.01</td>\n",
       "      <td>0.9417</td>\n",
       "      <td>1.0</td>\n",
       "    </tr>\n",
       "    <tr>\n",
       "      <th>21</th>\n",
       "      <td>phys_health_interview</td>\n",
       "      <td>0.10</td>\n",
       "      <td>0.9509</td>\n",
       "      <td>2.0</td>\n",
       "    </tr>\n",
       "  </tbody>\n",
       "</table>\n",
       "</div>"
      ],
      "text/plain": [
       "                     variable    chi2  p-value  degrees of freedom\n",
       "0              family_history   65.94   0.0000                 1.0\n",
       "1                   treatment  258.60   0.0000                 1.0\n",
       "2              work_interfere  530.71   0.0000                 1.0\n",
       "3     mental_health_interview   18.51   0.0001                 2.0\n",
       "4                care_options   16.16   0.0003                 2.0\n",
       "5                  supervisor   15.60   0.0004                 2.0\n",
       "6   mental_health_consequence   15.41   0.0005                 2.0\n",
       "7                       leave   19.49   0.0006                 4.0\n",
       "8                    benefits   13.58   0.0011                 2.0\n",
       "9                      gender   13.21   0.0014                 2.0\n",
       "10    phys_health_consequence    7.73   0.0209                 2.0\n",
       "11         mental_vs_physical    7.57   0.0227                 2.0\n",
       "12           wellness_program    6.70   0.0352                 2.0\n",
       "13            obs_consequence    4.35   0.0371                 1.0\n",
       "14               no_employees    9.22   0.1005                 5.0\n",
       "15                  seek_help    4.11   0.1282                 2.0\n",
       "16               tech_company    1.45   0.2285                 1.0\n",
       "17                remote_work    0.18   0.6729                 1.0\n",
       "18                  anonymity    0.71   0.7008                 2.0\n",
       "19                  coworkers    0.18   0.9156                 2.0\n",
       "20              self_employed    0.01   0.9417                 1.0\n",
       "21      phys_health_interview    0.10   0.9509                 2.0"
      ]
     },
     "execution_count": 55,
     "metadata": {},
     "output_type": "execute_result"
    }
   ],
   "source": [
    "explore.mental_health_bivariate(train, 'work_interfere', cat_vars, quant_vars)"
   ]
  },
  {
   "cell_type": "markdown",
   "metadata": {
    "tags": []
   },
   "source": [
    "### Bivariate Takeaways\n",
    "    - Significant relationships: *** What do these numbers represent? ***\n",
    "        - Gender: .0005\n",
    "        - Family history: 5.3e-16\n",
    "        - Benefits: .052 (more investigation)\n",
    "        - Care options: .001\n",
    "        - Wellness program: .01\n",
    "        - Seek help: .01\n",
    "        - Anonymity: .037\n",
    "        - Leave: .0077\n",
    "        - mental_health_consequences: .0035\n",
    "        - supervisor : .013\n",
    "        - mental health: .016\n",
    "        - mental_vs_physical: .01\n",
    "        - obs_consequences: .019\n",
    "    - Some of the values have a \"dont know\" column and they all are much less than yes or no. My theory is this is because people who need to access help or resources to get help probably looked into it because it was impacting work performance. \n",
    "        - companies larger than 1000 employees seem to have the least amount of impacts to work compared to the other sized companies\n",
    "        - people who feel like their employer does not consider mental health to be similar to physical health report higher rates of impact to work. \n",
    "        - Feeling comfortable talking to a supervisor also reduces the impact to work performance\n",
    "        - percieving that one would be punished for mental health also had a higher rate of impact to work performance\n",
    "        - observing negative consequences to others in the company hurts work performance\n",
    "        - the easier it is to get leave the less impact to work performacne there is"
   ]
  },
  {
   "cell_type": "code",
   "execution_count": 56,
   "metadata": {},
   "outputs": [
    {
     "data": {
      "text/plain": [
       "Index(['age', 'gender', 'self_employed', 'family_history', 'treatment',\n",
       "       'work_interfere', 'no_employees', 'remote_work', 'tech_company',\n",
       "       'benefits', 'care_options', 'wellness_program', 'seek_help',\n",
       "       'anonymity', 'leave', 'mental_health_consequence',\n",
       "       'phys_health_consequence', 'coworkers', 'supervisor',\n",
       "       'mental_health_interview', 'phys_health_interview',\n",
       "       'mental_vs_physical', 'obs_consequence'],\n",
       "      dtype='object')"
      ]
     },
     "execution_count": 56,
     "metadata": {},
     "output_type": "execute_result"
    }
   ],
   "source": [
    "survey_og.columns"
   ]
  },
  {
   "cell_type": "code",
   "execution_count": 57,
   "metadata": {},
   "outputs": [
    {
     "data": {
      "text/plain": [
       "\"cat1 = survey_og[['gender', 'self_employed', 'family_history']]\\ncat2 = survey_og[['treatment', 'no_employees',\\n       'remote_work', 'tech_company', 'benefits', 'care_options']]\\ncat3 = survey_og[['wellness_program', 'seek_help', 'anonymity', 'leave',\\n       'mental_health_consequence', 'phys_health_consequence']]\\ncat4 = survey_og[['coworkers', 'supervisor', 'mental_health_interview', 'phys_health_interview',\\n       'mental_vs_physical', 'obs_consequence']]\""
      ]
     },
     "execution_count": 57,
     "metadata": {},
     "output_type": "execute_result"
    }
   ],
   "source": [
    "\n",
    "'''cat1 = survey_og[['gender', 'self_employed', 'family_history']]\n",
    "cat2 = survey_og[['treatment', 'no_employees',\n",
    "       'remote_work', 'tech_company', 'benefits', 'care_options']]\n",
    "cat3 = survey_og[['wellness_program', 'seek_help', 'anonymity', 'leave',\n",
    "       'mental_health_consequence', 'phys_health_consequence']]\n",
    "cat4 = survey_og[['coworkers', 'supervisor', 'mental_health_interview', 'phys_health_interview',\n",
    "       'mental_vs_physical', 'obs_consequence']]'''"
   ]
  },
  {
   "cell_type": "code",
   "execution_count": 58,
   "metadata": {
    "tags": []
   },
   "outputs": [],
   "source": [
    "#explore.mental_health_multivariate(train, 'work_interfere', list(cat1.columns), quant_vars.columns)"
   ]
  },
  {
   "cell_type": "code",
   "execution_count": 59,
   "metadata": {
    "tags": []
   },
   "outputs": [],
   "source": [
    "#explore.explore_multivariate(train, 'work_interfere', list(cat2.columns), quant_vars.columns)"
   ]
  },
  {
   "cell_type": "code",
   "execution_count": 60,
   "metadata": {
    "tags": []
   },
   "outputs": [],
   "source": [
    "#explore.explore_multivariate(train, 'work_interfere', list(cat3.columns), quant_vars.columns)#"
   ]
  },
  {
   "cell_type": "code",
   "execution_count": 61,
   "metadata": {
    "tags": []
   },
   "outputs": [],
   "source": [
    "#tyler_explore.explore_multivariate(train, 'work_interfere', list(cat3.columns), quant_vars.columns)"
   ]
  },
  {
   "cell_type": "code",
   "execution_count": 62,
   "metadata": {
    "tags": []
   },
   "outputs": [],
   "source": [
    "#tyler_explore.explore_multivariate(train, 'work_interfere', list(cat4.columns), quant_vars.columns)"
   ]
  },
  {
   "cell_type": "code",
   "execution_count": 63,
   "metadata": {},
   "outputs": [],
   "source": [
    "from imblearn import over_sampling\n",
    "from sklearn import preprocessing\n",
    "from explore import full_split\n",
    "import prepare"
   ]
  },
  {
   "cell_type": "code",
   "execution_count": 64,
   "metadata": {},
   "outputs": [
    {
     "data": {
      "text/html": [
       "<div>\n",
       "<style scoped>\n",
       "    .dataframe tbody tr th:only-of-type {\n",
       "        vertical-align: middle;\n",
       "    }\n",
       "\n",
       "    .dataframe tbody tr th {\n",
       "        vertical-align: top;\n",
       "    }\n",
       "\n",
       "    .dataframe thead th {\n",
       "        text-align: right;\n",
       "    }\n",
       "</style>\n",
       "<table border=\"1\" class=\"dataframe\">\n",
       "  <thead>\n",
       "    <tr style=\"text-align: right;\">\n",
       "      <th></th>\n",
       "      <th>age</th>\n",
       "      <th>gender</th>\n",
       "      <th>self_employed</th>\n",
       "      <th>family_history</th>\n",
       "      <th>treatment</th>\n",
       "      <th>work_interfere</th>\n",
       "      <th>no_employees</th>\n",
       "      <th>remote_work</th>\n",
       "      <th>tech_company</th>\n",
       "      <th>benefits</th>\n",
       "      <th>...</th>\n",
       "      <th>anonymity</th>\n",
       "      <th>leave</th>\n",
       "      <th>mental_health_consequence</th>\n",
       "      <th>phys_health_consequence</th>\n",
       "      <th>coworkers</th>\n",
       "      <th>supervisor</th>\n",
       "      <th>mental_health_interview</th>\n",
       "      <th>phys_health_interview</th>\n",
       "      <th>mental_vs_physical</th>\n",
       "      <th>obs_consequence</th>\n",
       "    </tr>\n",
       "  </thead>\n",
       "  <tbody>\n",
       "    <tr>\n",
       "      <th>0</th>\n",
       "      <td>37</td>\n",
       "      <td>female</td>\n",
       "      <td>No</td>\n",
       "      <td>No</td>\n",
       "      <td>Yes</td>\n",
       "      <td>1</td>\n",
       "      <td>6-25</td>\n",
       "      <td>No</td>\n",
       "      <td>Yes</td>\n",
       "      <td>Yes</td>\n",
       "      <td>...</td>\n",
       "      <td>Yes</td>\n",
       "      <td>Somewhat easy</td>\n",
       "      <td>No</td>\n",
       "      <td>No</td>\n",
       "      <td>Some of them</td>\n",
       "      <td>Yes</td>\n",
       "      <td>No</td>\n",
       "      <td>Maybe</td>\n",
       "      <td>Yes</td>\n",
       "      <td>No</td>\n",
       "    </tr>\n",
       "    <tr>\n",
       "      <th>1</th>\n",
       "      <td>44</td>\n",
       "      <td>male</td>\n",
       "      <td>No</td>\n",
       "      <td>No</td>\n",
       "      <td>No</td>\n",
       "      <td>1</td>\n",
       "      <td>More than 1000</td>\n",
       "      <td>No</td>\n",
       "      <td>No</td>\n",
       "      <td>Don't know</td>\n",
       "      <td>...</td>\n",
       "      <td>Don't know</td>\n",
       "      <td>Don't know</td>\n",
       "      <td>Maybe</td>\n",
       "      <td>No</td>\n",
       "      <td>No</td>\n",
       "      <td>No</td>\n",
       "      <td>No</td>\n",
       "      <td>No</td>\n",
       "      <td>Don't know</td>\n",
       "      <td>No</td>\n",
       "    </tr>\n",
       "    <tr>\n",
       "      <th>2</th>\n",
       "      <td>32</td>\n",
       "      <td>male</td>\n",
       "      <td>No</td>\n",
       "      <td>No</td>\n",
       "      <td>No</td>\n",
       "      <td>1</td>\n",
       "      <td>6-25</td>\n",
       "      <td>No</td>\n",
       "      <td>Yes</td>\n",
       "      <td>No</td>\n",
       "      <td>...</td>\n",
       "      <td>Don't know</td>\n",
       "      <td>Somewhat difficult</td>\n",
       "      <td>No</td>\n",
       "      <td>No</td>\n",
       "      <td>Yes</td>\n",
       "      <td>Yes</td>\n",
       "      <td>Yes</td>\n",
       "      <td>Yes</td>\n",
       "      <td>No</td>\n",
       "      <td>No</td>\n",
       "    </tr>\n",
       "    <tr>\n",
       "      <th>4</th>\n",
       "      <td>31</td>\n",
       "      <td>male</td>\n",
       "      <td>No</td>\n",
       "      <td>No</td>\n",
       "      <td>No</td>\n",
       "      <td>0</td>\n",
       "      <td>100-500</td>\n",
       "      <td>Yes</td>\n",
       "      <td>Yes</td>\n",
       "      <td>Yes</td>\n",
       "      <td>...</td>\n",
       "      <td>Don't know</td>\n",
       "      <td>Don't know</td>\n",
       "      <td>No</td>\n",
       "      <td>No</td>\n",
       "      <td>Some of them</td>\n",
       "      <td>Yes</td>\n",
       "      <td>Yes</td>\n",
       "      <td>Yes</td>\n",
       "      <td>Don't know</td>\n",
       "      <td>No</td>\n",
       "    </tr>\n",
       "    <tr>\n",
       "      <th>5</th>\n",
       "      <td>33</td>\n",
       "      <td>male</td>\n",
       "      <td>No</td>\n",
       "      <td>Yes</td>\n",
       "      <td>No</td>\n",
       "      <td>1</td>\n",
       "      <td>6-25</td>\n",
       "      <td>No</td>\n",
       "      <td>Yes</td>\n",
       "      <td>Yes</td>\n",
       "      <td>...</td>\n",
       "      <td>Don't know</td>\n",
       "      <td>Don't know</td>\n",
       "      <td>No</td>\n",
       "      <td>No</td>\n",
       "      <td>Yes</td>\n",
       "      <td>Yes</td>\n",
       "      <td>No</td>\n",
       "      <td>Maybe</td>\n",
       "      <td>Don't know</td>\n",
       "      <td>No</td>\n",
       "    </tr>\n",
       "  </tbody>\n",
       "</table>\n",
       "<p>5 rows × 23 columns</p>\n",
       "</div>"
      ],
      "text/plain": [
       "   age  gender self_employed family_history treatment  work_interfere  \\\n",
       "0   37  female            No             No       Yes               1   \n",
       "1   44    male            No             No        No               1   \n",
       "2   32    male            No             No        No               1   \n",
       "4   31    male            No             No        No               0   \n",
       "5   33    male            No            Yes        No               1   \n",
       "\n",
       "     no_employees remote_work tech_company    benefits  ...   anonymity  \\\n",
       "0            6-25          No          Yes         Yes  ...         Yes   \n",
       "1  More than 1000          No           No  Don't know  ...  Don't know   \n",
       "2            6-25          No          Yes          No  ...  Don't know   \n",
       "4         100-500         Yes          Yes         Yes  ...  Don't know   \n",
       "5            6-25          No          Yes         Yes  ...  Don't know   \n",
       "\n",
       "                leave mental_health_consequence phys_health_consequence  \\\n",
       "0       Somewhat easy                        No                      No   \n",
       "1          Don't know                     Maybe                      No   \n",
       "2  Somewhat difficult                        No                      No   \n",
       "4          Don't know                        No                      No   \n",
       "5          Don't know                        No                      No   \n",
       "\n",
       "      coworkers supervisor mental_health_interview phys_health_interview  \\\n",
       "0  Some of them        Yes                      No                 Maybe   \n",
       "1            No         No                      No                    No   \n",
       "2           Yes        Yes                     Yes                   Yes   \n",
       "4  Some of them        Yes                     Yes                   Yes   \n",
       "5           Yes        Yes                      No                 Maybe   \n",
       "\n",
       "  mental_vs_physical obs_consequence  \n",
       "0                Yes              No  \n",
       "1         Don't know              No  \n",
       "2                 No              No  \n",
       "4         Don't know              No  \n",
       "5         Don't know              No  \n",
       "\n",
       "[5 rows x 23 columns]"
      ]
     },
     "execution_count": 64,
     "metadata": {},
     "output_type": "execute_result"
    }
   ],
   "source": [
    "survey_og.head()"
   ]
  },
  {
   "cell_type": "code",
   "execution_count": 65,
   "metadata": {},
   "outputs": [],
   "source": [
    "encode = prepare.prep_encode(survey_og)"
   ]
  },
  {
   "cell_type": "code",
   "execution_count": 66,
   "metadata": {},
   "outputs": [
    {
     "data": {
      "text/html": [
       "<div>\n",
       "<style scoped>\n",
       "    .dataframe tbody tr th:only-of-type {\n",
       "        vertical-align: middle;\n",
       "    }\n",
       "\n",
       "    .dataframe tbody tr th {\n",
       "        vertical-align: top;\n",
       "    }\n",
       "\n",
       "    .dataframe thead th {\n",
       "        text-align: right;\n",
       "    }\n",
       "</style>\n",
       "<table border=\"1\" class=\"dataframe\">\n",
       "  <thead>\n",
       "    <tr style=\"text-align: right;\">\n",
       "      <th></th>\n",
       "      <th>age</th>\n",
       "      <th>gender</th>\n",
       "      <th>self_employed</th>\n",
       "      <th>family_history</th>\n",
       "      <th>treatment</th>\n",
       "      <th>work_interfere</th>\n",
       "      <th>company_size</th>\n",
       "      <th>remote_work</th>\n",
       "      <th>tech_company</th>\n",
       "      <th>benefits</th>\n",
       "      <th>...</th>\n",
       "      <th>anonymity</th>\n",
       "      <th>leave</th>\n",
       "      <th>mental_health_consequence</th>\n",
       "      <th>phys_health_consequence</th>\n",
       "      <th>coworkers</th>\n",
       "      <th>supervisor</th>\n",
       "      <th>mental_health_interview</th>\n",
       "      <th>phys_health_interview</th>\n",
       "      <th>mental_vs_physical</th>\n",
       "      <th>obs_consequence</th>\n",
       "    </tr>\n",
       "  </thead>\n",
       "  <tbody>\n",
       "    <tr>\n",
       "      <th>0</th>\n",
       "      <td>37</td>\n",
       "      <td>1</td>\n",
       "      <td>0</td>\n",
       "      <td>0</td>\n",
       "      <td>1</td>\n",
       "      <td>NaN</td>\n",
       "      <td>1</td>\n",
       "      <td>0</td>\n",
       "      <td>1</td>\n",
       "      <td>1</td>\n",
       "      <td>...</td>\n",
       "      <td>1</td>\n",
       "      <td>3</td>\n",
       "      <td>0</td>\n",
       "      <td>0</td>\n",
       "      <td>2</td>\n",
       "      <td>1</td>\n",
       "      <td>0</td>\n",
       "      <td>2</td>\n",
       "      <td>1</td>\n",
       "      <td>0</td>\n",
       "    </tr>\n",
       "    <tr>\n",
       "      <th>1</th>\n",
       "      <td>44</td>\n",
       "      <td>0</td>\n",
       "      <td>0</td>\n",
       "      <td>0</td>\n",
       "      <td>0</td>\n",
       "      <td>NaN</td>\n",
       "      <td>5</td>\n",
       "      <td>0</td>\n",
       "      <td>0</td>\n",
       "      <td>2</td>\n",
       "      <td>...</td>\n",
       "      <td>2</td>\n",
       "      <td>2</td>\n",
       "      <td>2</td>\n",
       "      <td>0</td>\n",
       "      <td>0</td>\n",
       "      <td>0</td>\n",
       "      <td>0</td>\n",
       "      <td>0</td>\n",
       "      <td>2</td>\n",
       "      <td>0</td>\n",
       "    </tr>\n",
       "    <tr>\n",
       "      <th>2</th>\n",
       "      <td>32</td>\n",
       "      <td>0</td>\n",
       "      <td>0</td>\n",
       "      <td>0</td>\n",
       "      <td>0</td>\n",
       "      <td>NaN</td>\n",
       "      <td>1</td>\n",
       "      <td>0</td>\n",
       "      <td>1</td>\n",
       "      <td>0</td>\n",
       "      <td>...</td>\n",
       "      <td>2</td>\n",
       "      <td>1</td>\n",
       "      <td>0</td>\n",
       "      <td>0</td>\n",
       "      <td>1</td>\n",
       "      <td>1</td>\n",
       "      <td>1</td>\n",
       "      <td>1</td>\n",
       "      <td>0</td>\n",
       "      <td>0</td>\n",
       "    </tr>\n",
       "    <tr>\n",
       "      <th>4</th>\n",
       "      <td>31</td>\n",
       "      <td>0</td>\n",
       "      <td>0</td>\n",
       "      <td>0</td>\n",
       "      <td>0</td>\n",
       "      <td>NaN</td>\n",
       "      <td>3</td>\n",
       "      <td>1</td>\n",
       "      <td>1</td>\n",
       "      <td>1</td>\n",
       "      <td>...</td>\n",
       "      <td>2</td>\n",
       "      <td>2</td>\n",
       "      <td>0</td>\n",
       "      <td>0</td>\n",
       "      <td>2</td>\n",
       "      <td>1</td>\n",
       "      <td>1</td>\n",
       "      <td>1</td>\n",
       "      <td>2</td>\n",
       "      <td>0</td>\n",
       "    </tr>\n",
       "    <tr>\n",
       "      <th>5</th>\n",
       "      <td>33</td>\n",
       "      <td>0</td>\n",
       "      <td>0</td>\n",
       "      <td>1</td>\n",
       "      <td>0</td>\n",
       "      <td>NaN</td>\n",
       "      <td>1</td>\n",
       "      <td>0</td>\n",
       "      <td>1</td>\n",
       "      <td>1</td>\n",
       "      <td>...</td>\n",
       "      <td>2</td>\n",
       "      <td>2</td>\n",
       "      <td>0</td>\n",
       "      <td>0</td>\n",
       "      <td>1</td>\n",
       "      <td>1</td>\n",
       "      <td>0</td>\n",
       "      <td>2</td>\n",
       "      <td>2</td>\n",
       "      <td>0</td>\n",
       "    </tr>\n",
       "  </tbody>\n",
       "</table>\n",
       "<p>5 rows × 23 columns</p>\n",
       "</div>"
      ],
      "text/plain": [
       "   age  gender  self_employed  family_history  treatment  work_interfere  \\\n",
       "0   37       1              0               0          1             NaN   \n",
       "1   44       0              0               0          0             NaN   \n",
       "2   32       0              0               0          0             NaN   \n",
       "4   31       0              0               0          0             NaN   \n",
       "5   33       0              0               1          0             NaN   \n",
       "\n",
       "   company_size  remote_work  tech_company  benefits  ...  anonymity  leave  \\\n",
       "0             1            0             1         1  ...          1      3   \n",
       "1             5            0             0         2  ...          2      2   \n",
       "2             1            0             1         0  ...          2      1   \n",
       "4             3            1             1         1  ...          2      2   \n",
       "5             1            0             1         1  ...          2      2   \n",
       "\n",
       "   mental_health_consequence  phys_health_consequence  coworkers  supervisor  \\\n",
       "0                          0                        0          2           1   \n",
       "1                          2                        0          0           0   \n",
       "2                          0                        0          1           1   \n",
       "4                          0                        0          2           1   \n",
       "5                          0                        0          1           1   \n",
       "\n",
       "   mental_health_interview  phys_health_interview  mental_vs_physical  \\\n",
       "0                        0                      2                   1   \n",
       "1                        0                      0                   2   \n",
       "2                        1                      1                   0   \n",
       "4                        1                      1                   2   \n",
       "5                        0                      2                   2   \n",
       "\n",
       "   obs_consequence  \n",
       "0                0  \n",
       "1                0  \n",
       "2                0  \n",
       "4                0  \n",
       "5                0  \n",
       "\n",
       "[5 rows x 23 columns]"
      ]
     },
     "execution_count": 66,
     "metadata": {},
     "output_type": "execute_result"
    }
   ],
   "source": [
    "encode.head()"
   ]
  },
  {
   "cell_type": "code",
   "execution_count": 340,
   "metadata": {},
   "outputs": [
    {
     "data": {
      "text/plain": [
       "1    604\n",
       "0    353\n",
       "Name: work_interfere, dtype: int64"
      ]
     },
     "execution_count": 340,
     "metadata": {},
     "output_type": "execute_result"
    }
   ],
   "source": [
    "survey_og.work_interfere.value_counts()"
   ]
  },
  {
   "cell_type": "code",
   "execution_count": 68,
   "metadata": {},
   "outputs": [
    {
     "data": {
      "text/html": [
       "<div>\n",
       "<style scoped>\n",
       "    .dataframe tbody tr th:only-of-type {\n",
       "        vertical-align: middle;\n",
       "    }\n",
       "\n",
       "    .dataframe tbody tr th {\n",
       "        vertical-align: top;\n",
       "    }\n",
       "\n",
       "    .dataframe thead th {\n",
       "        text-align: right;\n",
       "    }\n",
       "</style>\n",
       "<table border=\"1\" class=\"dataframe\">\n",
       "  <thead>\n",
       "    <tr style=\"text-align: right;\">\n",
       "      <th></th>\n",
       "      <th>age</th>\n",
       "      <th>gender</th>\n",
       "      <th>self_employed</th>\n",
       "      <th>family_history</th>\n",
       "      <th>treatment</th>\n",
       "      <th>work_interfere</th>\n",
       "      <th>company_size</th>\n",
       "      <th>remote_work</th>\n",
       "      <th>tech_company</th>\n",
       "      <th>benefits</th>\n",
       "      <th>...</th>\n",
       "      <th>anonymity</th>\n",
       "      <th>leave</th>\n",
       "      <th>mental_health_consequence</th>\n",
       "      <th>phys_health_consequence</th>\n",
       "      <th>coworkers</th>\n",
       "      <th>supervisor</th>\n",
       "      <th>mental_health_interview</th>\n",
       "      <th>phys_health_interview</th>\n",
       "      <th>mental_vs_physical</th>\n",
       "      <th>obs_consequence</th>\n",
       "    </tr>\n",
       "  </thead>\n",
       "  <tbody>\n",
       "    <tr>\n",
       "      <th>0</th>\n",
       "      <td>37</td>\n",
       "      <td>1</td>\n",
       "      <td>0</td>\n",
       "      <td>0</td>\n",
       "      <td>1</td>\n",
       "      <td>NaN</td>\n",
       "      <td>1</td>\n",
       "      <td>0</td>\n",
       "      <td>1</td>\n",
       "      <td>1</td>\n",
       "      <td>...</td>\n",
       "      <td>1</td>\n",
       "      <td>3</td>\n",
       "      <td>0</td>\n",
       "      <td>0</td>\n",
       "      <td>2</td>\n",
       "      <td>1</td>\n",
       "      <td>0</td>\n",
       "      <td>2</td>\n",
       "      <td>1</td>\n",
       "      <td>0</td>\n",
       "    </tr>\n",
       "    <tr>\n",
       "      <th>1</th>\n",
       "      <td>44</td>\n",
       "      <td>0</td>\n",
       "      <td>0</td>\n",
       "      <td>0</td>\n",
       "      <td>0</td>\n",
       "      <td>NaN</td>\n",
       "      <td>5</td>\n",
       "      <td>0</td>\n",
       "      <td>0</td>\n",
       "      <td>2</td>\n",
       "      <td>...</td>\n",
       "      <td>2</td>\n",
       "      <td>2</td>\n",
       "      <td>2</td>\n",
       "      <td>0</td>\n",
       "      <td>0</td>\n",
       "      <td>0</td>\n",
       "      <td>0</td>\n",
       "      <td>0</td>\n",
       "      <td>2</td>\n",
       "      <td>0</td>\n",
       "    </tr>\n",
       "    <tr>\n",
       "      <th>2</th>\n",
       "      <td>32</td>\n",
       "      <td>0</td>\n",
       "      <td>0</td>\n",
       "      <td>0</td>\n",
       "      <td>0</td>\n",
       "      <td>NaN</td>\n",
       "      <td>1</td>\n",
       "      <td>0</td>\n",
       "      <td>1</td>\n",
       "      <td>0</td>\n",
       "      <td>...</td>\n",
       "      <td>2</td>\n",
       "      <td>1</td>\n",
       "      <td>0</td>\n",
       "      <td>0</td>\n",
       "      <td>1</td>\n",
       "      <td>1</td>\n",
       "      <td>1</td>\n",
       "      <td>1</td>\n",
       "      <td>0</td>\n",
       "      <td>0</td>\n",
       "    </tr>\n",
       "    <tr>\n",
       "      <th>4</th>\n",
       "      <td>31</td>\n",
       "      <td>0</td>\n",
       "      <td>0</td>\n",
       "      <td>0</td>\n",
       "      <td>0</td>\n",
       "      <td>NaN</td>\n",
       "      <td>3</td>\n",
       "      <td>1</td>\n",
       "      <td>1</td>\n",
       "      <td>1</td>\n",
       "      <td>...</td>\n",
       "      <td>2</td>\n",
       "      <td>2</td>\n",
       "      <td>0</td>\n",
       "      <td>0</td>\n",
       "      <td>2</td>\n",
       "      <td>1</td>\n",
       "      <td>1</td>\n",
       "      <td>1</td>\n",
       "      <td>2</td>\n",
       "      <td>0</td>\n",
       "    </tr>\n",
       "    <tr>\n",
       "      <th>5</th>\n",
       "      <td>33</td>\n",
       "      <td>0</td>\n",
       "      <td>0</td>\n",
       "      <td>1</td>\n",
       "      <td>0</td>\n",
       "      <td>NaN</td>\n",
       "      <td>1</td>\n",
       "      <td>0</td>\n",
       "      <td>1</td>\n",
       "      <td>1</td>\n",
       "      <td>...</td>\n",
       "      <td>2</td>\n",
       "      <td>2</td>\n",
       "      <td>0</td>\n",
       "      <td>0</td>\n",
       "      <td>1</td>\n",
       "      <td>1</td>\n",
       "      <td>0</td>\n",
       "      <td>2</td>\n",
       "      <td>2</td>\n",
       "      <td>0</td>\n",
       "    </tr>\n",
       "    <tr>\n",
       "      <th>...</th>\n",
       "      <td>...</td>\n",
       "      <td>...</td>\n",
       "      <td>...</td>\n",
       "      <td>...</td>\n",
       "      <td>...</td>\n",
       "      <td>...</td>\n",
       "      <td>...</td>\n",
       "      <td>...</td>\n",
       "      <td>...</td>\n",
       "      <td>...</td>\n",
       "      <td>...</td>\n",
       "      <td>...</td>\n",
       "      <td>...</td>\n",
       "      <td>...</td>\n",
       "      <td>...</td>\n",
       "      <td>...</td>\n",
       "      <td>...</td>\n",
       "      <td>...</td>\n",
       "      <td>...</td>\n",
       "      <td>...</td>\n",
       "      <td>...</td>\n",
       "    </tr>\n",
       "    <tr>\n",
       "      <th>1253</th>\n",
       "      <td>36</td>\n",
       "      <td>0</td>\n",
       "      <td>0</td>\n",
       "      <td>1</td>\n",
       "      <td>0</td>\n",
       "      <td>NaN</td>\n",
       "      <td>5</td>\n",
       "      <td>0</td>\n",
       "      <td>0</td>\n",
       "      <td>2</td>\n",
       "      <td>...</td>\n",
       "      <td>2</td>\n",
       "      <td>3</td>\n",
       "      <td>2</td>\n",
       "      <td>2</td>\n",
       "      <td>2</td>\n",
       "      <td>2</td>\n",
       "      <td>0</td>\n",
       "      <td>0</td>\n",
       "      <td>2</td>\n",
       "      <td>0</td>\n",
       "    </tr>\n",
       "    <tr>\n",
       "      <th>1255</th>\n",
       "      <td>32</td>\n",
       "      <td>0</td>\n",
       "      <td>0</td>\n",
       "      <td>1</td>\n",
       "      <td>1</td>\n",
       "      <td>NaN</td>\n",
       "      <td>2</td>\n",
       "      <td>1</td>\n",
       "      <td>1</td>\n",
       "      <td>1</td>\n",
       "      <td>...</td>\n",
       "      <td>1</td>\n",
       "      <td>1</td>\n",
       "      <td>0</td>\n",
       "      <td>0</td>\n",
       "      <td>2</td>\n",
       "      <td>1</td>\n",
       "      <td>0</td>\n",
       "      <td>0</td>\n",
       "      <td>1</td>\n",
       "      <td>0</td>\n",
       "    </tr>\n",
       "    <tr>\n",
       "      <th>1256</th>\n",
       "      <td>34</td>\n",
       "      <td>0</td>\n",
       "      <td>0</td>\n",
       "      <td>1</td>\n",
       "      <td>1</td>\n",
       "      <td>NaN</td>\n",
       "      <td>5</td>\n",
       "      <td>0</td>\n",
       "      <td>1</td>\n",
       "      <td>1</td>\n",
       "      <td>...</td>\n",
       "      <td>2</td>\n",
       "      <td>1</td>\n",
       "      <td>1</td>\n",
       "      <td>1</td>\n",
       "      <td>0</td>\n",
       "      <td>0</td>\n",
       "      <td>0</td>\n",
       "      <td>0</td>\n",
       "      <td>0</td>\n",
       "      <td>0</td>\n",
       "    </tr>\n",
       "    <tr>\n",
       "      <th>1257</th>\n",
       "      <td>46</td>\n",
       "      <td>1</td>\n",
       "      <td>0</td>\n",
       "      <td>0</td>\n",
       "      <td>0</td>\n",
       "      <td>NaN</td>\n",
       "      <td>3</td>\n",
       "      <td>1</td>\n",
       "      <td>1</td>\n",
       "      <td>0</td>\n",
       "      <td>...</td>\n",
       "      <td>2</td>\n",
       "      <td>2</td>\n",
       "      <td>1</td>\n",
       "      <td>0</td>\n",
       "      <td>0</td>\n",
       "      <td>0</td>\n",
       "      <td>0</td>\n",
       "      <td>0</td>\n",
       "      <td>0</td>\n",
       "      <td>0</td>\n",
       "    </tr>\n",
       "    <tr>\n",
       "      <th>1258</th>\n",
       "      <td>25</td>\n",
       "      <td>0</td>\n",
       "      <td>0</td>\n",
       "      <td>1</td>\n",
       "      <td>1</td>\n",
       "      <td>NaN</td>\n",
       "      <td>2</td>\n",
       "      <td>0</td>\n",
       "      <td>0</td>\n",
       "      <td>1</td>\n",
       "      <td>...</td>\n",
       "      <td>1</td>\n",
       "      <td>2</td>\n",
       "      <td>2</td>\n",
       "      <td>0</td>\n",
       "      <td>2</td>\n",
       "      <td>0</td>\n",
       "      <td>0</td>\n",
       "      <td>0</td>\n",
       "      <td>2</td>\n",
       "      <td>0</td>\n",
       "    </tr>\n",
       "  </tbody>\n",
       "</table>\n",
       "<p>957 rows × 23 columns</p>\n",
       "</div>"
      ],
      "text/plain": [
       "      age  gender  self_employed  family_history  treatment  work_interfere  \\\n",
       "0      37       1              0               0          1             NaN   \n",
       "1      44       0              0               0          0             NaN   \n",
       "2      32       0              0               0          0             NaN   \n",
       "4      31       0              0               0          0             NaN   \n",
       "5      33       0              0               1          0             NaN   \n",
       "...   ...     ...            ...             ...        ...             ...   \n",
       "1253   36       0              0               1          0             NaN   \n",
       "1255   32       0              0               1          1             NaN   \n",
       "1256   34       0              0               1          1             NaN   \n",
       "1257   46       1              0               0          0             NaN   \n",
       "1258   25       0              0               1          1             NaN   \n",
       "\n",
       "      company_size  remote_work  tech_company  benefits  ...  anonymity  \\\n",
       "0                1            0             1         1  ...          1   \n",
       "1                5            0             0         2  ...          2   \n",
       "2                1            0             1         0  ...          2   \n",
       "4                3            1             1         1  ...          2   \n",
       "5                1            0             1         1  ...          2   \n",
       "...            ...          ...           ...       ...  ...        ...   \n",
       "1253             5            0             0         2  ...          2   \n",
       "1255             2            1             1         1  ...          1   \n",
       "1256             5            0             1         1  ...          2   \n",
       "1257             3            1             1         0  ...          2   \n",
       "1258             2            0             0         1  ...          1   \n",
       "\n",
       "      leave  mental_health_consequence  phys_health_consequence  coworkers  \\\n",
       "0         3                          0                        0          2   \n",
       "1         2                          2                        0          0   \n",
       "2         1                          0                        0          1   \n",
       "4         2                          0                        0          2   \n",
       "5         2                          0                        0          1   \n",
       "...     ...                        ...                      ...        ...   \n",
       "1253      3                          2                        2          2   \n",
       "1255      1                          0                        0          2   \n",
       "1256      1                          1                        1          0   \n",
       "1257      2                          1                        0          0   \n",
       "1258      2                          2                        0          2   \n",
       "\n",
       "      supervisor  mental_health_interview  phys_health_interview  \\\n",
       "0              1                        0                      2   \n",
       "1              0                        0                      0   \n",
       "2              1                        1                      1   \n",
       "4              1                        1                      1   \n",
       "5              1                        0                      2   \n",
       "...          ...                      ...                    ...   \n",
       "1253           2                        0                      0   \n",
       "1255           1                        0                      0   \n",
       "1256           0                        0                      0   \n",
       "1257           0                        0                      0   \n",
       "1258           0                        0                      0   \n",
       "\n",
       "      mental_vs_physical  obs_consequence  \n",
       "0                      1                0  \n",
       "1                      2                0  \n",
       "2                      0                0  \n",
       "4                      2                0  \n",
       "5                      2                0  \n",
       "...                  ...              ...  \n",
       "1253                   2                0  \n",
       "1255                   1                0  \n",
       "1256                   0                0  \n",
       "1257                   0                0  \n",
       "1258                   2                0  \n",
       "\n",
       "[957 rows x 23 columns]"
      ]
     },
     "execution_count": 68,
     "metadata": {},
     "output_type": "execute_result"
    }
   ],
   "source": [
    "encode"
   ]
  },
  {
   "cell_type": "code",
   "execution_count": 69,
   "metadata": {},
   "outputs": [],
   "source": [
    "encode.work_interfere = survey_og.work_interfere"
   ]
  },
  {
   "cell_type": "code",
   "execution_count": 70,
   "metadata": {},
   "outputs": [],
   "source": [
    "#X_train, y_train, X_validate, y_validate, X_test, y_test = full_split(encode, 'work_interfere')"
   ]
  },
  {
   "cell_type": "code",
   "execution_count": 71,
   "metadata": {
    "tags": []
   },
   "outputs": [],
   "source": [
    "#sns.countplot(y_train)"
   ]
  },
  {
   "cell_type": "code",
   "execution_count": 72,
   "metadata": {},
   "outputs": [],
   "source": [
    "#X_train"
   ]
  },
  {
   "cell_type": "markdown",
   "metadata": {},
   "source": [
    "## Modeling"
   ]
  },
  {
   "cell_type": "code",
   "execution_count": 73,
   "metadata": {},
   "outputs": [
    {
     "name": "stdout",
     "output_type": "stream",
     "text": [
      "Baseline accuracy is 63.11%\n"
     ]
    }
   ],
   "source": [
    "encode['baseline'] = 1\n",
    "baseline_accuracy = (encode.baseline == encode.work_interfere).mean()\n",
    "print(f'Baseline accuracy is {baseline_accuracy:.2%}')"
   ]
  },
  {
   "cell_type": "code",
   "execution_count": 74,
   "metadata": {},
   "outputs": [],
   "source": [
    "#X_res, y_res = ros.fit_resample(X_train, y_train)"
   ]
  },
  {
   "cell_type": "code",
   "execution_count": 75,
   "metadata": {},
   "outputs": [],
   "source": [
    "#X_res.shape"
   ]
  },
  {
   "cell_type": "code",
   "execution_count": 76,
   "metadata": {},
   "outputs": [],
   "source": [
    "#sns.countplot(y_res)"
   ]
  },
  {
   "cell_type": "code",
   "execution_count": 77,
   "metadata": {},
   "outputs": [],
   "source": [
    "#X_res"
   ]
  },
  {
   "cell_type": "markdown",
   "metadata": {},
   "source": [
    "### Now we have a balanced dataset, Next up lets dummy encode the features for the models"
   ]
  },
  {
   "cell_type": "code",
   "execution_count": 78,
   "metadata": {},
   "outputs": [],
   "source": [
    "from sklearn.preprocessing import OneHotEncoder"
   ]
  },
  {
   "cell_type": "code",
   "execution_count": 346,
   "metadata": {},
   "outputs": [],
   "source": [
    "# encode the top 9 variables as decided by p value with chi2 with degrees of freedom >1\n",
    "dum_df = pd.get_dummies(data = encode, columns = ['mental_health_interview','care_options','supervisor',\n",
    "                                'mental_health_consequence','leave', 'benefits','gender'], drop_first = True)"
   ]
  },
  {
   "cell_type": "code",
   "execution_count": 347,
   "metadata": {},
   "outputs": [
    {
     "data": {
      "text/plain": [
       "Index(['age', 'self_employed', 'family_history', 'treatment', 'work_interfere',\n",
       "       'company_size', 'remote_work', 'tech_company', 'wellness_program',\n",
       "       'seek_help', 'anonymity', 'phys_health_consequence', 'coworkers',\n",
       "       'phys_health_interview', 'mental_vs_physical', 'obs_consequence',\n",
       "       'baseline', 'mental_health_interview_1', 'mental_health_interview_2',\n",
       "       'care_options_1', 'care_options_2', 'supervisor_1', 'supervisor_2',\n",
       "       'mental_health_consequence_1', 'mental_health_consequence_2', 'leave_1',\n",
       "       'leave_2', 'leave_3', 'leave_4', 'benefits_1', 'benefits_2', 'gender_1',\n",
       "       'gender_2'],\n",
       "      dtype='object')"
      ]
     },
     "execution_count": 347,
     "metadata": {},
     "output_type": "execute_result"
    }
   ],
   "source": [
    "dum_df.columns"
   ]
  },
  {
   "cell_type": "code",
   "execution_count": 348,
   "metadata": {},
   "outputs": [],
   "source": [
    "# drop the unecessary columns\n",
    "dum_df = dum_df.drop(columns = ['age', 'self_employed', 'company_size', 'remote_work', \n",
    "                               'tech_company', 'wellness_program','seek_help', \n",
    "                               'anonymity', 'phys_health_consequence', 'coworkers',\n",
    "                               'phys_health_interview', 'mental_vs_physical', 'obs_consequence', 'baseline'])"
   ]
  },
  {
   "cell_type": "code",
   "execution_count": 349,
   "metadata": {},
   "outputs": [
    {
     "data": {
      "text/plain": [
       "Index(['family_history', 'treatment', 'work_interfere',\n",
       "       'mental_health_interview_1', 'mental_health_interview_2',\n",
       "       'care_options_1', 'care_options_2', 'supervisor_1', 'supervisor_2',\n",
       "       'mental_health_consequence_1', 'mental_health_consequence_2', 'leave_1',\n",
       "       'leave_2', 'leave_3', 'leave_4', 'benefits_1', 'benefits_2', 'gender_1',\n",
       "       'gender_2'],\n",
       "      dtype='object')"
      ]
     },
     "execution_count": 349,
     "metadata": {},
     "output_type": "execute_result"
    }
   ],
   "source": [
    "dum_df.columns"
   ]
  },
  {
   "cell_type": "markdown",
   "metadata": {},
   "source": [
    "### Simple runthrough and cross validation"
   ]
  },
  {
   "cell_type": "code",
   "execution_count": 350,
   "metadata": {},
   "outputs": [],
   "source": [
    "from sklearn.ensemble import RandomForestClassifier\n",
    "from sklearn.tree import DecisionTreeClassifier\n",
    "import explore, evaluate\n",
    "from sklearn.model_selection import GridSearchCV"
   ]
  },
  {
   "cell_type": "code",
   "execution_count": 351,
   "metadata": {},
   "outputs": [],
   "source": [
    "ros = over_sampling.RandomOverSampler(random_state = 123)"
   ]
  },
  {
   "cell_type": "code",
   "execution_count": 352,
   "metadata": {},
   "outputs": [],
   "source": [
    "X_train, y_train, X_validate, y_validate, X_test, y_test = explore.full_split(dum_df, 'work_interfere')"
   ]
  },
  {
   "cell_type": "code",
   "execution_count": 353,
   "metadata": {},
   "outputs": [],
   "source": [
    "X_res, y_res = ros.fit_resample(X_train, y_train)"
   ]
  },
  {
   "cell_type": "code",
   "execution_count": 87,
   "metadata": {},
   "outputs": [
    {
     "data": {
      "text/plain": [
       "(676, 18)"
      ]
     },
     "execution_count": 87,
     "metadata": {},
     "output_type": "execute_result"
    }
   ],
   "source": [
    "X_res.shape"
   ]
  },
  {
   "cell_type": "code",
   "execution_count": 88,
   "metadata": {},
   "outputs": [
    {
     "data": {
      "text/html": [
       "<div>\n",
       "<style scoped>\n",
       "    .dataframe tbody tr th:only-of-type {\n",
       "        vertical-align: middle;\n",
       "    }\n",
       "\n",
       "    .dataframe tbody tr th {\n",
       "        vertical-align: top;\n",
       "    }\n",
       "\n",
       "    .dataframe thead th {\n",
       "        text-align: right;\n",
       "    }\n",
       "</style>\n",
       "<table border=\"1\" class=\"dataframe\">\n",
       "  <thead>\n",
       "    <tr style=\"text-align: right;\">\n",
       "      <th></th>\n",
       "      <th>family_history</th>\n",
       "      <th>treatment</th>\n",
       "      <th>mental_health_interview_1</th>\n",
       "      <th>mental_health_interview_2</th>\n",
       "      <th>care_options_1</th>\n",
       "      <th>care_options_2</th>\n",
       "      <th>supervisor_1</th>\n",
       "      <th>supervisor_2</th>\n",
       "      <th>mental_health_consequence_1</th>\n",
       "      <th>mental_health_consequence_2</th>\n",
       "      <th>leave_1</th>\n",
       "      <th>leave_2</th>\n",
       "      <th>leave_3</th>\n",
       "      <th>leave_4</th>\n",
       "      <th>benefits_1</th>\n",
       "      <th>benefits_2</th>\n",
       "      <th>gender_1</th>\n",
       "      <th>gender_2</th>\n",
       "    </tr>\n",
       "  </thead>\n",
       "  <tbody>\n",
       "    <tr>\n",
       "      <th>0</th>\n",
       "      <td>1</td>\n",
       "      <td>0</td>\n",
       "      <td>0</td>\n",
       "      <td>0</td>\n",
       "      <td>1</td>\n",
       "      <td>0</td>\n",
       "      <td>1</td>\n",
       "      <td>0</td>\n",
       "      <td>0</td>\n",
       "      <td>0</td>\n",
       "      <td>0</td>\n",
       "      <td>1</td>\n",
       "      <td>0</td>\n",
       "      <td>0</td>\n",
       "      <td>1</td>\n",
       "      <td>0</td>\n",
       "      <td>0</td>\n",
       "      <td>0</td>\n",
       "    </tr>\n",
       "    <tr>\n",
       "      <th>1</th>\n",
       "      <td>0</td>\n",
       "      <td>0</td>\n",
       "      <td>0</td>\n",
       "      <td>0</td>\n",
       "      <td>1</td>\n",
       "      <td>0</td>\n",
       "      <td>1</td>\n",
       "      <td>0</td>\n",
       "      <td>0</td>\n",
       "      <td>0</td>\n",
       "      <td>0</td>\n",
       "      <td>0</td>\n",
       "      <td>1</td>\n",
       "      <td>0</td>\n",
       "      <td>1</td>\n",
       "      <td>0</td>\n",
       "      <td>0</td>\n",
       "      <td>0</td>\n",
       "    </tr>\n",
       "    <tr>\n",
       "      <th>2</th>\n",
       "      <td>0</td>\n",
       "      <td>1</td>\n",
       "      <td>0</td>\n",
       "      <td>0</td>\n",
       "      <td>0</td>\n",
       "      <td>0</td>\n",
       "      <td>0</td>\n",
       "      <td>1</td>\n",
       "      <td>1</td>\n",
       "      <td>0</td>\n",
       "      <td>0</td>\n",
       "      <td>0</td>\n",
       "      <td>1</td>\n",
       "      <td>0</td>\n",
       "      <td>0</td>\n",
       "      <td>0</td>\n",
       "      <td>0</td>\n",
       "      <td>0</td>\n",
       "    </tr>\n",
       "    <tr>\n",
       "      <th>3</th>\n",
       "      <td>0</td>\n",
       "      <td>1</td>\n",
       "      <td>0</td>\n",
       "      <td>0</td>\n",
       "      <td>1</td>\n",
       "      <td>0</td>\n",
       "      <td>0</td>\n",
       "      <td>1</td>\n",
       "      <td>0</td>\n",
       "      <td>1</td>\n",
       "      <td>0</td>\n",
       "      <td>0</td>\n",
       "      <td>0</td>\n",
       "      <td>1</td>\n",
       "      <td>1</td>\n",
       "      <td>0</td>\n",
       "      <td>0</td>\n",
       "      <td>0</td>\n",
       "    </tr>\n",
       "    <tr>\n",
       "      <th>4</th>\n",
       "      <td>0</td>\n",
       "      <td>1</td>\n",
       "      <td>0</td>\n",
       "      <td>0</td>\n",
       "      <td>0</td>\n",
       "      <td>1</td>\n",
       "      <td>0</td>\n",
       "      <td>1</td>\n",
       "      <td>0</td>\n",
       "      <td>1</td>\n",
       "      <td>0</td>\n",
       "      <td>0</td>\n",
       "      <td>1</td>\n",
       "      <td>0</td>\n",
       "      <td>0</td>\n",
       "      <td>1</td>\n",
       "      <td>0</td>\n",
       "      <td>0</td>\n",
       "    </tr>\n",
       "    <tr>\n",
       "      <th>5</th>\n",
       "      <td>1</td>\n",
       "      <td>1</td>\n",
       "      <td>0</td>\n",
       "      <td>0</td>\n",
       "      <td>1</td>\n",
       "      <td>0</td>\n",
       "      <td>0</td>\n",
       "      <td>1</td>\n",
       "      <td>0</td>\n",
       "      <td>1</td>\n",
       "      <td>0</td>\n",
       "      <td>1</td>\n",
       "      <td>0</td>\n",
       "      <td>0</td>\n",
       "      <td>1</td>\n",
       "      <td>0</td>\n",
       "      <td>0</td>\n",
       "      <td>0</td>\n",
       "    </tr>\n",
       "    <tr>\n",
       "      <th>6</th>\n",
       "      <td>0</td>\n",
       "      <td>0</td>\n",
       "      <td>0</td>\n",
       "      <td>0</td>\n",
       "      <td>1</td>\n",
       "      <td>0</td>\n",
       "      <td>0</td>\n",
       "      <td>1</td>\n",
       "      <td>0</td>\n",
       "      <td>0</td>\n",
       "      <td>0</td>\n",
       "      <td>0</td>\n",
       "      <td>0</td>\n",
       "      <td>1</td>\n",
       "      <td>1</td>\n",
       "      <td>0</td>\n",
       "      <td>0</td>\n",
       "      <td>0</td>\n",
       "    </tr>\n",
       "    <tr>\n",
       "      <th>7</th>\n",
       "      <td>0</td>\n",
       "      <td>0</td>\n",
       "      <td>0</td>\n",
       "      <td>0</td>\n",
       "      <td>0</td>\n",
       "      <td>1</td>\n",
       "      <td>0</td>\n",
       "      <td>0</td>\n",
       "      <td>0</td>\n",
       "      <td>1</td>\n",
       "      <td>0</td>\n",
       "      <td>1</td>\n",
       "      <td>0</td>\n",
       "      <td>0</td>\n",
       "      <td>0</td>\n",
       "      <td>1</td>\n",
       "      <td>0</td>\n",
       "      <td>0</td>\n",
       "    </tr>\n",
       "    <tr>\n",
       "      <th>8</th>\n",
       "      <td>0</td>\n",
       "      <td>0</td>\n",
       "      <td>0</td>\n",
       "      <td>0</td>\n",
       "      <td>0</td>\n",
       "      <td>0</td>\n",
       "      <td>0</td>\n",
       "      <td>0</td>\n",
       "      <td>0</td>\n",
       "      <td>1</td>\n",
       "      <td>0</td>\n",
       "      <td>1</td>\n",
       "      <td>0</td>\n",
       "      <td>0</td>\n",
       "      <td>1</td>\n",
       "      <td>0</td>\n",
       "      <td>0</td>\n",
       "      <td>0</td>\n",
       "    </tr>\n",
       "    <tr>\n",
       "      <th>9</th>\n",
       "      <td>1</td>\n",
       "      <td>1</td>\n",
       "      <td>0</td>\n",
       "      <td>1</td>\n",
       "      <td>1</td>\n",
       "      <td>0</td>\n",
       "      <td>1</td>\n",
       "      <td>0</td>\n",
       "      <td>0</td>\n",
       "      <td>1</td>\n",
       "      <td>0</td>\n",
       "      <td>0</td>\n",
       "      <td>1</td>\n",
       "      <td>0</td>\n",
       "      <td>1</td>\n",
       "      <td>0</td>\n",
       "      <td>0</td>\n",
       "      <td>0</td>\n",
       "    </tr>\n",
       "    <tr>\n",
       "      <th>10</th>\n",
       "      <td>1</td>\n",
       "      <td>1</td>\n",
       "      <td>0</td>\n",
       "      <td>0</td>\n",
       "      <td>0</td>\n",
       "      <td>0</td>\n",
       "      <td>0</td>\n",
       "      <td>0</td>\n",
       "      <td>0</td>\n",
       "      <td>1</td>\n",
       "      <td>0</td>\n",
       "      <td>0</td>\n",
       "      <td>1</td>\n",
       "      <td>0</td>\n",
       "      <td>1</td>\n",
       "      <td>0</td>\n",
       "      <td>0</td>\n",
       "      <td>0</td>\n",
       "    </tr>\n",
       "    <tr>\n",
       "      <th>11</th>\n",
       "      <td>0</td>\n",
       "      <td>1</td>\n",
       "      <td>0</td>\n",
       "      <td>0</td>\n",
       "      <td>1</td>\n",
       "      <td>0</td>\n",
       "      <td>1</td>\n",
       "      <td>0</td>\n",
       "      <td>0</td>\n",
       "      <td>1</td>\n",
       "      <td>0</td>\n",
       "      <td>0</td>\n",
       "      <td>1</td>\n",
       "      <td>0</td>\n",
       "      <td>0</td>\n",
       "      <td>0</td>\n",
       "      <td>0</td>\n",
       "      <td>0</td>\n",
       "    </tr>\n",
       "    <tr>\n",
       "      <th>12</th>\n",
       "      <td>0</td>\n",
       "      <td>0</td>\n",
       "      <td>0</td>\n",
       "      <td>1</td>\n",
       "      <td>0</td>\n",
       "      <td>0</td>\n",
       "      <td>0</td>\n",
       "      <td>0</td>\n",
       "      <td>1</td>\n",
       "      <td>0</td>\n",
       "      <td>0</td>\n",
       "      <td>1</td>\n",
       "      <td>0</td>\n",
       "      <td>0</td>\n",
       "      <td>1</td>\n",
       "      <td>0</td>\n",
       "      <td>0</td>\n",
       "      <td>0</td>\n",
       "    </tr>\n",
       "    <tr>\n",
       "      <th>13</th>\n",
       "      <td>1</td>\n",
       "      <td>1</td>\n",
       "      <td>0</td>\n",
       "      <td>1</td>\n",
       "      <td>0</td>\n",
       "      <td>0</td>\n",
       "      <td>1</td>\n",
       "      <td>0</td>\n",
       "      <td>0</td>\n",
       "      <td>0</td>\n",
       "      <td>0</td>\n",
       "      <td>1</td>\n",
       "      <td>0</td>\n",
       "      <td>0</td>\n",
       "      <td>0</td>\n",
       "      <td>1</td>\n",
       "      <td>0</td>\n",
       "      <td>0</td>\n",
       "    </tr>\n",
       "    <tr>\n",
       "      <th>14</th>\n",
       "      <td>0</td>\n",
       "      <td>0</td>\n",
       "      <td>0</td>\n",
       "      <td>0</td>\n",
       "      <td>1</td>\n",
       "      <td>0</td>\n",
       "      <td>0</td>\n",
       "      <td>0</td>\n",
       "      <td>1</td>\n",
       "      <td>0</td>\n",
       "      <td>0</td>\n",
       "      <td>1</td>\n",
       "      <td>0</td>\n",
       "      <td>0</td>\n",
       "      <td>0</td>\n",
       "      <td>0</td>\n",
       "      <td>0</td>\n",
       "      <td>0</td>\n",
       "    </tr>\n",
       "    <tr>\n",
       "      <th>15</th>\n",
       "      <td>0</td>\n",
       "      <td>0</td>\n",
       "      <td>1</td>\n",
       "      <td>0</td>\n",
       "      <td>0</td>\n",
       "      <td>1</td>\n",
       "      <td>1</td>\n",
       "      <td>0</td>\n",
       "      <td>0</td>\n",
       "      <td>0</td>\n",
       "      <td>0</td>\n",
       "      <td>1</td>\n",
       "      <td>0</td>\n",
       "      <td>0</td>\n",
       "      <td>0</td>\n",
       "      <td>1</td>\n",
       "      <td>0</td>\n",
       "      <td>0</td>\n",
       "    </tr>\n",
       "    <tr>\n",
       "      <th>16</th>\n",
       "      <td>0</td>\n",
       "      <td>0</td>\n",
       "      <td>0</td>\n",
       "      <td>1</td>\n",
       "      <td>0</td>\n",
       "      <td>1</td>\n",
       "      <td>1</td>\n",
       "      <td>0</td>\n",
       "      <td>0</td>\n",
       "      <td>0</td>\n",
       "      <td>0</td>\n",
       "      <td>0</td>\n",
       "      <td>0</td>\n",
       "      <td>1</td>\n",
       "      <td>0</td>\n",
       "      <td>1</td>\n",
       "      <td>0</td>\n",
       "      <td>0</td>\n",
       "    </tr>\n",
       "    <tr>\n",
       "      <th>17</th>\n",
       "      <td>0</td>\n",
       "      <td>0</td>\n",
       "      <td>0</td>\n",
       "      <td>0</td>\n",
       "      <td>0</td>\n",
       "      <td>1</td>\n",
       "      <td>0</td>\n",
       "      <td>0</td>\n",
       "      <td>0</td>\n",
       "      <td>1</td>\n",
       "      <td>0</td>\n",
       "      <td>1</td>\n",
       "      <td>0</td>\n",
       "      <td>0</td>\n",
       "      <td>1</td>\n",
       "      <td>0</td>\n",
       "      <td>1</td>\n",
       "      <td>0</td>\n",
       "    </tr>\n",
       "    <tr>\n",
       "      <th>18</th>\n",
       "      <td>0</td>\n",
       "      <td>0</td>\n",
       "      <td>0</td>\n",
       "      <td>0</td>\n",
       "      <td>0</td>\n",
       "      <td>0</td>\n",
       "      <td>0</td>\n",
       "      <td>0</td>\n",
       "      <td>1</td>\n",
       "      <td>0</td>\n",
       "      <td>0</td>\n",
       "      <td>0</td>\n",
       "      <td>0</td>\n",
       "      <td>1</td>\n",
       "      <td>0</td>\n",
       "      <td>0</td>\n",
       "      <td>0</td>\n",
       "      <td>0</td>\n",
       "    </tr>\n",
       "    <tr>\n",
       "      <th>19</th>\n",
       "      <td>1</td>\n",
       "      <td>1</td>\n",
       "      <td>0</td>\n",
       "      <td>0</td>\n",
       "      <td>0</td>\n",
       "      <td>0</td>\n",
       "      <td>0</td>\n",
       "      <td>0</td>\n",
       "      <td>0</td>\n",
       "      <td>1</td>\n",
       "      <td>1</td>\n",
       "      <td>0</td>\n",
       "      <td>0</td>\n",
       "      <td>0</td>\n",
       "      <td>0</td>\n",
       "      <td>0</td>\n",
       "      <td>1</td>\n",
       "      <td>0</td>\n",
       "    </tr>\n",
       "  </tbody>\n",
       "</table>\n",
       "</div>"
      ],
      "text/plain": [
       "    family_history  treatment  mental_health_interview_1  \\\n",
       "0                1          0                          0   \n",
       "1                0          0                          0   \n",
       "2                0          1                          0   \n",
       "3                0          1                          0   \n",
       "4                0          1                          0   \n",
       "5                1          1                          0   \n",
       "6                0          0                          0   \n",
       "7                0          0                          0   \n",
       "8                0          0                          0   \n",
       "9                1          1                          0   \n",
       "10               1          1                          0   \n",
       "11               0          1                          0   \n",
       "12               0          0                          0   \n",
       "13               1          1                          0   \n",
       "14               0          0                          0   \n",
       "15               0          0                          1   \n",
       "16               0          0                          0   \n",
       "17               0          0                          0   \n",
       "18               0          0                          0   \n",
       "19               1          1                          0   \n",
       "\n",
       "    mental_health_interview_2  care_options_1  care_options_2  supervisor_1  \\\n",
       "0                           0               1               0             1   \n",
       "1                           0               1               0             1   \n",
       "2                           0               0               0             0   \n",
       "3                           0               1               0             0   \n",
       "4                           0               0               1             0   \n",
       "5                           0               1               0             0   \n",
       "6                           0               1               0             0   \n",
       "7                           0               0               1             0   \n",
       "8                           0               0               0             0   \n",
       "9                           1               1               0             1   \n",
       "10                          0               0               0             0   \n",
       "11                          0               1               0             1   \n",
       "12                          1               0               0             0   \n",
       "13                          1               0               0             1   \n",
       "14                          0               1               0             0   \n",
       "15                          0               0               1             1   \n",
       "16                          1               0               1             1   \n",
       "17                          0               0               1             0   \n",
       "18                          0               0               0             0   \n",
       "19                          0               0               0             0   \n",
       "\n",
       "    supervisor_2  mental_health_consequence_1  mental_health_consequence_2  \\\n",
       "0              0                            0                            0   \n",
       "1              0                            0                            0   \n",
       "2              1                            1                            0   \n",
       "3              1                            0                            1   \n",
       "4              1                            0                            1   \n",
       "5              1                            0                            1   \n",
       "6              1                            0                            0   \n",
       "7              0                            0                            1   \n",
       "8              0                            0                            1   \n",
       "9              0                            0                            1   \n",
       "10             0                            0                            1   \n",
       "11             0                            0                            1   \n",
       "12             0                            1                            0   \n",
       "13             0                            0                            0   \n",
       "14             0                            1                            0   \n",
       "15             0                            0                            0   \n",
       "16             0                            0                            0   \n",
       "17             0                            0                            1   \n",
       "18             0                            1                            0   \n",
       "19             0                            0                            1   \n",
       "\n",
       "    leave_1  leave_2  leave_3  leave_4  benefits_1  benefits_2  gender_1  \\\n",
       "0         0        1        0        0           1           0         0   \n",
       "1         0        0        1        0           1           0         0   \n",
       "2         0        0        1        0           0           0         0   \n",
       "3         0        0        0        1           1           0         0   \n",
       "4         0        0        1        0           0           1         0   \n",
       "5         0        1        0        0           1           0         0   \n",
       "6         0        0        0        1           1           0         0   \n",
       "7         0        1        0        0           0           1         0   \n",
       "8         0        1        0        0           1           0         0   \n",
       "9         0        0        1        0           1           0         0   \n",
       "10        0        0        1        0           1           0         0   \n",
       "11        0        0        1        0           0           0         0   \n",
       "12        0        1        0        0           1           0         0   \n",
       "13        0        1        0        0           0           1         0   \n",
       "14        0        1        0        0           0           0         0   \n",
       "15        0        1        0        0           0           1         0   \n",
       "16        0        0        0        1           0           1         0   \n",
       "17        0        1        0        0           1           0         1   \n",
       "18        0        0        0        1           0           0         0   \n",
       "19        1        0        0        0           0           0         1   \n",
       "\n",
       "    gender_2  \n",
       "0          0  \n",
       "1          0  \n",
       "2          0  \n",
       "3          0  \n",
       "4          0  \n",
       "5          0  \n",
       "6          0  \n",
       "7          0  \n",
       "8          0  \n",
       "9          0  \n",
       "10         0  \n",
       "11         0  \n",
       "12         0  \n",
       "13         0  \n",
       "14         0  \n",
       "15         0  \n",
       "16         0  \n",
       "17         0  \n",
       "18         0  \n",
       "19         0  "
      ]
     },
     "execution_count": 88,
     "metadata": {},
     "output_type": "execute_result"
    }
   ],
   "source": [
    "X_res.head(20)"
   ]
  },
  {
   "cell_type": "code",
   "execution_count": 89,
   "metadata": {},
   "outputs": [
    {
     "data": {
      "text/plain": [
       "<AxesSubplot:xlabel='work_interfere', ylabel='count'>"
      ]
     },
     "execution_count": 89,
     "metadata": {},
     "output_type": "execute_result"
    },
    {
     "data": {
      "image/png": "[encoded data removed]",
      "text/plain": [
       "<Figure size 432x288 with 1 Axes>"
      ]
     },
     "metadata": {
      "needs_background": "light"
     },
     "output_type": "display_data"
    }
   ],
   "source": [
    "sns.countplot(y_res)"
   ]
  },
  {
   "cell_type": "markdown",
   "metadata": {},
   "source": [
    "#### RFC"
   ]
  },
  {
   "cell_type": "code",
   "execution_count": 90,
   "metadata": {},
   "outputs": [],
   "source": [
    "rfc = RandomForestClassifier(random_state = 123)"
   ]
  },
  {
   "cell_type": "code",
   "execution_count": 91,
   "metadata": {},
   "outputs": [
    {
     "data": {
      "text/plain": [
       "RandomForestClassifier(random_state=123)"
      ]
     },
     "execution_count": 91,
     "metadata": {},
     "output_type": "execute_result"
    }
   ],
   "source": [
    "rfc.fit(X_res, y_res)"
   ]
  },
  {
   "cell_type": "code",
   "execution_count": 92,
   "metadata": {},
   "outputs": [
    {
     "data": {
      "text/plain": [
       "1    338\n",
       "0    338\n",
       "Name: work_interfere, dtype: int64"
      ]
     },
     "execution_count": 92,
     "metadata": {},
     "output_type": "execute_result"
    }
   ],
   "source": [
    "y_res.value_counts()"
   ]
  },
  {
   "cell_type": "code",
   "execution_count": 93,
   "metadata": {},
   "outputs": [
    {
     "name": "stdout",
     "output_type": "stream",
     "text": [
      "Train data set accuracy score: 96.89%\n",
      "Train data set precision score 98.18%\n",
      "Train data set recall score: 95.56%\n",
      "\n",
      "-------------------------------\n",
      "classification report\n",
      "              precision    recall  f1-score   support\n",
      "\n",
      "           0       0.96      0.98      0.97       338\n",
      "           1       0.98      0.96      0.97       338\n",
      "\n",
      "    accuracy                           0.97       676\n",
      "   macro avg       0.97      0.97      0.97       676\n",
      "weighted avg       0.97      0.97      0.97       676\n",
      "\n",
      "-------------------------------\n",
      "\n",
      "confusion matrix\n",
      "[[332   6]\n",
      " [ 15 323]]\n",
      "\n",
      "Train data set model metrics\n",
      "---------------------------------\n",
      "True positive rate for the model is 95.56%\n",
      "False positive rate for the model is  1.78%\n",
      "True negative rate for the model is 98.22%\n",
      "False negative rate for the model is 4.44%\n",
      "\n"
     ]
    }
   ],
   "source": [
    "evaluate.run_metrics(X_res, y_res, rfc, 'Train' )"
   ]
  },
  {
   "cell_type": "code",
   "execution_count": 94,
   "metadata": {},
   "outputs": [
    {
     "name": "stdout",
     "output_type": "stream",
     "text": [
      "validate data set accuracy score: 78.70%\n",
      "validate data set precision score 84.29%\n",
      "validate data set recall score: 81.38%\n",
      "\n",
      "-------------------------------\n",
      "classification report\n",
      "              precision    recall  f1-score   support\n",
      "\n",
      "           0       0.70      0.74      0.72        85\n",
      "           1       0.84      0.81      0.83       145\n",
      "\n",
      "    accuracy                           0.79       230\n",
      "   macro avg       0.77      0.78      0.77       230\n",
      "weighted avg       0.79      0.79      0.79       230\n",
      "\n",
      "-------------------------------\n",
      "\n",
      "confusion matrix\n",
      "[[ 63  22]\n",
      " [ 27 118]]\n",
      "\n",
      "validate data set model metrics\n",
      "---------------------------------\n",
      "True positive rate for the model is 81.38%\n",
      "False positive rate for the model is  25.88%\n",
      "True negative rate for the model is 74.12%\n",
      "False negative rate for the model is 18.62%\n",
      "\n"
     ]
    }
   ],
   "source": [
    "evaluate.run_metrics(X_validate, y_validate, rfc, 'validate' )"
   ]
  },
  {
   "cell_type": "code",
   "execution_count": 95,
   "metadata": {},
   "outputs": [
    {
     "data": {
      "text/plain": [
       "RandomForestClassifier()"
      ]
     },
     "execution_count": 95,
     "metadata": {},
     "output_type": "execute_result"
    }
   ],
   "source": [
    "RandomForestClassifier()"
   ]
  },
  {
   "cell_type": "code",
   "execution_count": 96,
   "metadata": {},
   "outputs": [],
   "source": [
    "param = {\n",
    "    'criterion': ['gini','entropy'], \n",
    "    'max_depth': [ 8,10,12,14,16],\n",
    "    'min_samples_split': [ 8, 10, 12, 15],  \n",
    "    'min_samples_leaf': [ 3, 4, 5, 6, 8],\n",
    "    'ccp_alpha':[0.0, 0.1, .2, .3,.4]} "
   ]
  },
  {
   "cell_type": "code",
   "execution_count": 97,
   "metadata": {
    "tags": []
   },
   "outputs": [
    {
     "data": {
      "text/plain": [
       "'grid3 = GridSearchCV(rfc,\\n                    param, n_jobs=4,\\n                    cv=5)\\n\\ngrid3.fit(X_res, y_res)'"
      ]
     },
     "execution_count": 97,
     "metadata": {},
     "output_type": "execute_result"
    }
   ],
   "source": [
    "'''grid3 = GridSearchCV(rfc,\n",
    "                    param, n_jobs=4,\n",
    "                    cv=5)\n",
    "\n",
    "grid3.fit(X_res, y_res)'''"
   ]
  },
  {
   "cell_type": "code",
   "execution_count": 98,
   "metadata": {},
   "outputs": [],
   "source": [
    "#grid3.best_estimator_"
   ]
  },
  {
   "cell_type": "markdown",
   "metadata": {},
   "source": [
    "#### Decision tree time"
   ]
  },
  {
   "cell_type": "code",
   "execution_count": 99,
   "metadata": {},
   "outputs": [],
   "source": [
    "tree = DecisionTreeClassifier()"
   ]
  },
  {
   "cell_type": "code",
   "execution_count": 100,
   "metadata": {},
   "outputs": [
    {
     "data": {
      "text/plain": [
       "DecisionTreeClassifier()"
      ]
     },
     "execution_count": 100,
     "metadata": {},
     "output_type": "execute_result"
    }
   ],
   "source": [
    "tree.fit(X_res,y_res)"
   ]
  },
  {
   "cell_type": "code",
   "execution_count": 101,
   "metadata": {},
   "outputs": [
    {
     "name": "stdout",
     "output_type": "stream",
     "text": [
      "Train data set accuracy score: 96.89%\n",
      "Train data set precision score 99.07%\n",
      "Train data set recall score: 94.67%\n",
      "\n",
      "-------------------------------\n",
      "classification report\n",
      "              precision    recall  f1-score   support\n",
      "\n",
      "           0       0.95      0.99      0.97       338\n",
      "           1       0.99      0.95      0.97       338\n",
      "\n",
      "    accuracy                           0.97       676\n",
      "   macro avg       0.97      0.97      0.97       676\n",
      "weighted avg       0.97      0.97      0.97       676\n",
      "\n",
      "-------------------------------\n",
      "\n",
      "confusion matrix\n",
      "[[335   3]\n",
      " [ 18 320]]\n",
      "\n",
      "Train data set model metrics\n",
      "---------------------------------\n",
      "True positive rate for the model is 94.67%\n",
      "False positive rate for the model is  0.89%\n",
      "True negative rate for the model is 99.11%\n",
      "False negative rate for the model is 5.33%\n",
      "\n"
     ]
    }
   ],
   "source": [
    "evaluate.run_metrics(X_res, y_res, tree, 'Train')"
   ]
  },
  {
   "cell_type": "code",
   "execution_count": 102,
   "metadata": {},
   "outputs": [
    {
     "name": "stdout",
     "output_type": "stream",
     "text": [
      "validate data set accuracy score: 77.39%\n",
      "validate data set precision score 83.94%\n",
      "validate data set recall score: 79.31%\n",
      "\n",
      "-------------------------------\n",
      "classification report\n",
      "              precision    recall  f1-score   support\n",
      "\n",
      "           0       0.68      0.74      0.71        85\n",
      "           1       0.84      0.79      0.82       145\n",
      "\n",
      "    accuracy                           0.77       230\n",
      "   macro avg       0.76      0.77      0.76       230\n",
      "weighted avg       0.78      0.77      0.78       230\n",
      "\n",
      "-------------------------------\n",
      "\n",
      "confusion matrix\n",
      "[[ 63  22]\n",
      " [ 30 115]]\n",
      "\n",
      "validate data set model metrics\n",
      "---------------------------------\n",
      "True positive rate for the model is 79.31%\n",
      "False positive rate for the model is  25.88%\n",
      "True negative rate for the model is 74.12%\n",
      "False negative rate for the model is 20.69%\n",
      "\n"
     ]
    }
   ],
   "source": [
    "evaluate.run_metrics(X_validate, y_validate, tree, 'validate')"
   ]
  },
  {
   "cell_type": "code",
   "execution_count": 103,
   "metadata": {},
   "outputs": [
    {
     "data": {
      "text/plain": [
       "DecisionTreeClassifier()"
      ]
     },
     "execution_count": 103,
     "metadata": {},
     "output_type": "execute_result"
    }
   ],
   "source": [
    "DecisionTreeClassifier()"
   ]
  },
  {
   "cell_type": "code",
   "execution_count": 104,
   "metadata": {},
   "outputs": [
    {
     "data": {
      "text/plain": [
       "dict_keys(['ccp_alpha', 'class_weight', 'criterion', 'max_depth', 'max_features', 'max_leaf_nodes', 'min_impurity_decrease', 'min_impurity_split', 'min_samples_leaf', 'min_samples_split', 'min_weight_fraction_leaf', 'presort', 'random_state', 'splitter'])"
      ]
     },
     "execution_count": 104,
     "metadata": {},
     "output_type": "execute_result"
    }
   ],
   "source": [
    "tree.get_params().keys()"
   ]
  },
  {
   "cell_type": "code",
   "execution_count": 105,
   "metadata": {},
   "outputs": [],
   "source": [
    "param = {\n",
    "    'criterion': ['gini','entropy'], \n",
    "    'max_depth': [ 3, 4, 5, 6, 8, 10, 12, 15],\n",
    "    'min_samples_split': [ 3, 4, 5, 6, 8, 10, 12, 15],  \n",
    "    'min_samples_leaf': [ 3, 4, 5, 6, 8, 10, 12, 15],\n",
    "    'ccp_alpha':[0.0, 0.1, .2, .3,.4]} "
   ]
  },
  {
   "cell_type": "code",
   "execution_count": 106,
   "metadata": {
    "tags": []
   },
   "outputs": [
    {
     "data": {
      "text/plain": [
       "'grid2 = GridSearchCV(tree,\\n                    param, n_jobs=-1,\\n                    cv=5)\\n\\ngrid2.fit(X_res, y_res)'"
      ]
     },
     "execution_count": 106,
     "metadata": {},
     "output_type": "execute_result"
    }
   ],
   "source": [
    "'''grid2 = GridSearchCV(tree,\n",
    "                    param, n_jobs=-1,\n",
    "                    cv=5)\n",
    "\n",
    "grid2.fit(X_res, y_res)'''"
   ]
  },
  {
   "cell_type": "code",
   "execution_count": 107,
   "metadata": {},
   "outputs": [],
   "source": [
    "#grid2.best_estimator_"
   ]
  },
  {
   "cell_type": "markdown",
   "metadata": {},
   "source": [
    "#### Lets try XGBOOOOOOST! "
   ]
  },
  {
   "cell_type": "code",
   "execution_count": 108,
   "metadata": {},
   "outputs": [],
   "source": [
    "import xgboost as xgb"
   ]
  },
  {
   "cell_type": "code",
   "execution_count": 109,
   "metadata": {},
   "outputs": [],
   "source": [
    "D_train = xgb.DMatrix(X_res, label = y_res)\n",
    "D_validate = xgb.DMatrix(X_validate, label = y_validate )\n",
    "D_test = xgb.DMatrix(X_test, label = y_test)\n"
   ]
  },
  {
   "cell_type": "code",
   "execution_count": 110,
   "metadata": {},
   "outputs": [
    {
     "data": {
      "text/plain": [
       "<xgboost.core.DMatrix at 0x7fa1928a1550>"
      ]
     },
     "execution_count": 110,
     "metadata": {},
     "output_type": "execute_result"
    }
   ],
   "source": [
    "D_train"
   ]
  },
  {
   "cell_type": "code",
   "execution_count": 111,
   "metadata": {},
   "outputs": [],
   "source": [
    "param = {\n",
    "    'eta': 0.3, \n",
    "    'max_depth': 5,  \n",
    "    'objective': 'multi:softprob',  \n",
    "    'num_class': 2,\n",
    "    } \n",
    "steps = 50"
   ]
  },
  {
   "cell_type": "code",
   "execution_count": 112,
   "metadata": {},
   "outputs": [
    {
     "name": "stdout",
     "output_type": "stream",
     "text": [
      "[11:25:31] WARNING: /opt/concourse/worker/volumes/live/7a2b9f41-3287-451b-6691-43e9a6c0910f/volume/xgboost-split_1619728204606/work/src/learner.cc:1061: Starting in XGBoost 1.3.0, the default evaluation metric used with the objective 'multi:softprob' was changed from 'merror' to 'mlogloss'. Explicitly set eval_metric if you'd like to restore the old behavior.\n"
     ]
    }
   ],
   "source": [
    "boost = xgb.train(param, D_train, steps)"
   ]
  },
  {
   "cell_type": "code",
   "execution_count": 113,
   "metadata": {},
   "outputs": [],
   "source": [
    "from sklearn.metrics import precision_score, recall_score, accuracy_score, confusion_matrix"
   ]
  },
  {
   "cell_type": "code",
   "execution_count": 114,
   "metadata": {},
   "outputs": [
    {
     "name": "stdout",
     "output_type": "stream",
     "text": [
      "Precision = 0.9469917313251848\n",
      "Recall = 0.9452662721893491\n",
      "Accuracy = 0.9452662721893491\n"
     ]
    }
   ],
   "source": [
    "preds = boost.predict(D_train)\n",
    "best_preds = np.asarray([np.argmax(line) for line in preds])\n",
    "\n",
    "print(\"Precision = {}\".format(precision_score(y_res, best_preds, average='macro')))\n",
    "print(\"Recall = {}\".format(recall_score(y_res, best_preds, average='macro')))\n",
    "print(\"Accuracy = {}\".format(accuracy_score(y_res, best_preds)))"
   ]
  },
  {
   "cell_type": "code",
   "execution_count": 115,
   "metadata": {},
   "outputs": [
    {
     "name": "stdout",
     "output_type": "stream",
     "text": [
      "Precision = 0.772215269086358\n",
      "Recall = 0.7823529411764706\n",
      "Accuracy = 0.7869565217391304\n"
     ]
    }
   ],
   "source": [
    "preds = boost.predict(D_validate)\n",
    "best_preds = np.asarray([np.argmax(line) for line in preds])\n",
    "\n",
    "print(\"Precision = {}\".format(precision_score(y_validate, best_preds, average='macro')))\n",
    "print(\"Recall = {}\".format(recall_score(y_validate, best_preds, average='macro')))\n",
    "print(\"Accuracy = {}\".format(accuracy_score(y_validate, best_preds)))"
   ]
  },
  {
   "cell_type": "code",
   "execution_count": 116,
   "metadata": {},
   "outputs": [],
   "source": [
    "def run_xgboost_metrics(data, target):\n",
    "    preds = boost.predict(data)\n",
    "    best_preds = np.asarray([np.argmax(line) for line in preds])\n",
    "    print(\"Precision = {}\".format(precision_score(target, best_preds, average='macro'))),\n",
    "    print(\"Recall = {}\".format(recall_score(target, best_preds, average='macro'))),\n",
    "    print(\"Accuracy = {}\".format(accuracy_score(target, best_preds)))\n",
    "    return preds"
   ]
  },
  {
   "cell_type": "code",
   "execution_count": 117,
   "metadata": {},
   "outputs": [
    {
     "name": "stdout",
     "output_type": "stream",
     "text": [
      "Precision = 0.9469917313251848\n",
      "Recall = 0.9452662721893491\n",
      "Accuracy = 0.9452662721893491\n"
     ]
    }
   ],
   "source": [
    "preds = run_xgboost_metrics(D_train, y_res)"
   ]
  },
  {
   "cell_type": "code",
   "execution_count": 118,
   "metadata": {},
   "outputs": [],
   "source": [
    "#boost.dump_model('dump.raw.txt')"
   ]
  },
  {
   "cell_type": "code",
   "execution_count": 119,
   "metadata": {
    "jupyter": {
     "source_hidden": true
    },
    "tags": []
   },
   "outputs": [
    {
     "data": {
      "text/plain": [
       "'xgbboost = xgb.XGBClassifier()\\nparameters = {\\n     \"eta\"    : [0.05, 0.10, 0.15, 0.20, 0.25, 0.30 ] ,\\n     \"max_depth\"        : [ 3, 4, 5, 6, 8, 10, 12, 15],\\n     \"min_child_weight\" : [ 1, 3, 5, 7 ],\\n     \"gamma\"            : [ 0.0, 0.1, 0.2 , 0.3, 0.4 ],\\n     \"colsample_bytree\" : [ 0.3, 0.4, 0.5 , 0.7 ],\\n     \\'max_delta_step\\'   : [1,2,3,4,5],\\n     \\'tree_method\\'      : [\\'exact\\',\\'approx\\',\\'hist\\'],\\n     \\'normalize_type\\'   : [\\'tree\\', \\'forest\\'],\\n     }\\n\\ngrid = GridSearchCV(xgbboost,\\n                    parameters, n_jobs=-1,\\n                    cv=5)\\n\\ngrid.fit(X_res, y_res)'"
      ]
     },
     "execution_count": 119,
     "metadata": {},
     "output_type": "execute_result"
    }
   ],
   "source": [
    "'''xgbboost = xgb.XGBClassifier()\n",
    "parameters = {\n",
    "     \"eta\"    : [0.05, 0.10, 0.15, 0.20, 0.25, 0.30 ] ,\n",
    "     \"max_depth\"        : [ 3, 4, 5, 6, 8, 10, 12, 15],\n",
    "     \"min_child_weight\" : [ 1, 3, 5, 7 ],\n",
    "     \"gamma\"            : [ 0.0, 0.1, 0.2 , 0.3, 0.4 ],\n",
    "     \"colsample_bytree\" : [ 0.3, 0.4, 0.5 , 0.7 ],\n",
    "     'max_delta_step'   : [1,2,3,4,5],\n",
    "     'tree_method'      : ['exact','approx','hist'],\n",
    "     'normalize_type'   : ['tree', 'forest'],\n",
    "     }\n",
    "\n",
    "grid = GridSearchCV(xgbboost,\n",
    "                    parameters, n_jobs=-1,\n",
    "                    cv=5)\n",
    "\n",
    "grid.fit(X_res, y_res)'''"
   ]
  },
  {
   "cell_type": "code",
   "execution_count": 120,
   "metadata": {},
   "outputs": [],
   "source": [
    "#grid.best_estimator_"
   ]
  },
  {
   "cell_type": "markdown",
   "metadata": {},
   "source": [
    "#### Multi-layer Perceptron (sounds like a transformer name)"
   ]
  },
  {
   "cell_type": "code",
   "execution_count": 121,
   "metadata": {},
   "outputs": [],
   "source": [
    "from sklearn.neural_network import MLPClassifier"
   ]
  },
  {
   "cell_type": "code",
   "execution_count": 122,
   "metadata": {},
   "outputs": [],
   "source": [
    "mlp = MLPClassifier(random_state=123, max_iter=300).fit(X_res, y_res)"
   ]
  },
  {
   "cell_type": "code",
   "execution_count": 123,
   "metadata": {},
   "outputs": [
    {
     "name": "stdout",
     "output_type": "stream",
     "text": [
      "train data set accuracy score: 92.01%\n",
      "train data set precision score 94.94%\n",
      "train data set recall score: 88.76%\n",
      "\n",
      "-------------------------------\n",
      "classification report\n",
      "              precision    recall  f1-score   support\n",
      "\n",
      "           0       0.89      0.95      0.92       338\n",
      "           1       0.95      0.89      0.92       338\n",
      "\n",
      "    accuracy                           0.92       676\n",
      "   macro avg       0.92      0.92      0.92       676\n",
      "weighted avg       0.92      0.92      0.92       676\n",
      "\n",
      "-------------------------------\n",
      "\n",
      "confusion matrix\n",
      "[[322  16]\n",
      " [ 38 300]]\n",
      "\n",
      "train data set model metrics\n",
      "---------------------------------\n",
      "True positive rate for the model is 88.76%\n",
      "False positive rate for the model is  4.73%\n",
      "True negative rate for the model is 95.27%\n",
      "False negative rate for the model is 11.24%\n",
      "\n"
     ]
    }
   ],
   "source": [
    "evaluate.run_metrics(X_res, y_res, mlp, 'train')"
   ]
  },
  {
   "cell_type": "code",
   "execution_count": 124,
   "metadata": {},
   "outputs": [
    {
     "name": "stdout",
     "output_type": "stream",
     "text": [
      "Validate data set accuracy score: 82.17%\n",
      "Validate data set precision score 89.39%\n",
      "Validate data set recall score: 81.38%\n",
      "\n",
      "-------------------------------\n",
      "classification report\n",
      "              precision    recall  f1-score   support\n",
      "\n",
      "           0       0.72      0.84      0.78        85\n",
      "           1       0.89      0.81      0.85       145\n",
      "\n",
      "    accuracy                           0.82       230\n",
      "   macro avg       0.81      0.82      0.81       230\n",
      "weighted avg       0.83      0.82      0.82       230\n",
      "\n",
      "-------------------------------\n",
      "\n",
      "confusion matrix\n",
      "[[ 71  14]\n",
      " [ 27 118]]\n",
      "\n",
      "Validate data set model metrics\n",
      "---------------------------------\n",
      "True positive rate for the model is 81.38%\n",
      "False positive rate for the model is  16.47%\n",
      "True negative rate for the model is 83.53%\n",
      "False negative rate for the model is 18.62%\n",
      "\n"
     ]
    }
   ],
   "source": [
    "evaluate.run_metrics(X_validate, y_validate, mlp, 'Validate')"
   ]
  },
  {
   "cell_type": "code",
   "execution_count": 125,
   "metadata": {},
   "outputs": [],
   "source": [
    "parameters = {\n",
    "    'hidden_layer_sizes': [(20,),(50,),(100,)],\n",
    "    'activation': ['tanh', 'relu', 'logistic'],\n",
    "    'solver': ['sgd', 'adam','lbfgs'],\n",
    "    'alpha': [0.0001, 0.05, .025, .01, .005],\n",
    "    'learning_rate': ['constant','adaptive'],\n",
    "}"
   ]
  },
  {
   "cell_type": "code",
   "execution_count": 126,
   "metadata": {},
   "outputs": [
    {
     "data": {
      "text/plain": [
       "'grid1 = GridSearchCV(mlp, parameters, n_jobs=-1, cv=5)\\ngrid1.fit(X_res, y_res)'"
      ]
     },
     "execution_count": 126,
     "metadata": {},
     "output_type": "execute_result"
    }
   ],
   "source": [
    "'''grid1 = GridSearchCV(mlp, parameters, n_jobs=-1, cv=5)\n",
    "grid1.fit(X_res, y_res)'''"
   ]
  },
  {
   "cell_type": "code",
   "execution_count": 127,
   "metadata": {},
   "outputs": [],
   "source": [
    "#grid1.best_estimator_"
   ]
  },
  {
   "cell_type": "code",
   "execution_count": 128,
   "metadata": {},
   "outputs": [],
   "source": [
    "#grid1.best_params_"
   ]
  },
  {
   "cell_type": "markdown",
   "metadata": {},
   "source": [
    "### Model Re-run with cross validated hyperparams"
   ]
  },
  {
   "cell_type": "markdown",
   "metadata": {},
   "source": [
    "#### Random forest"
   ]
  },
  {
   "cell_type": "code",
   "execution_count": 358,
   "metadata": {},
   "outputs": [],
   "source": [
    "rfc = RandomForestClassifier(max_depth=8, min_samples_leaf=3, min_samples_split=10,\n",
    "                       random_state=123)"
   ]
  },
  {
   "cell_type": "code",
   "execution_count": 359,
   "metadata": {},
   "outputs": [
    {
     "data": {
      "text/plain": [
       "RandomForestClassifier(max_depth=8, min_samples_leaf=3, min_samples_split=10,\n",
       "                       random_state=123)"
      ]
     },
     "execution_count": 359,
     "metadata": {},
     "output_type": "execute_result"
    }
   ],
   "source": [
    "rfc.fit(X_res, y_res)"
   ]
  },
  {
   "cell_type": "code",
   "execution_count": 360,
   "metadata": {},
   "outputs": [
    {
     "name": "stdout",
     "output_type": "stream",
     "text": [
      "train data set accuracy score: 88.31%\n",
      "train data set precision score 94.20%\n",
      "train data set recall score: 81.66%\n",
      "\n",
      "-------------------------------\n",
      "classification report\n",
      "              precision    recall  f1-score   support\n",
      "\n",
      "           0       0.84      0.95      0.89       338\n",
      "           1       0.94      0.82      0.87       338\n",
      "\n",
      "    accuracy                           0.88       676\n",
      "   macro avg       0.89      0.88      0.88       676\n",
      "weighted avg       0.89      0.88      0.88       676\n",
      "\n",
      "-------------------------------\n",
      "\n",
      "confusion matrix\n",
      "[[321  17]\n",
      " [ 62 276]]\n",
      "\n",
      "train data set model metrics\n",
      "---------------------------------\n",
      "True positive rate for the model is 81.66%\n",
      "False positive rate for the model is  5.03%\n",
      "True negative rate for the model is 94.97%\n",
      "False negative rate for the model is 18.34%\n",
      "\n"
     ]
    }
   ],
   "source": [
    "evaluate.run_metrics(X_res, y_res, rfc, 'train')"
   ]
  },
  {
   "cell_type": "code",
   "execution_count": 361,
   "metadata": {},
   "outputs": [
    {
     "name": "stdout",
     "output_type": "stream",
     "text": [
      "validate data set accuracy score: 83.04%\n",
      "validate data set precision score 94.92%\n",
      "validate data set recall score: 77.24%\n",
      "\n",
      "-------------------------------\n",
      "classification report\n",
      "              precision    recall  f1-score   support\n",
      "\n",
      "           0       0.71      0.93      0.80        85\n",
      "           1       0.95      0.77      0.85       145\n",
      "\n",
      "    accuracy                           0.83       230\n",
      "   macro avg       0.83      0.85      0.83       230\n",
      "weighted avg       0.86      0.83      0.83       230\n",
      "\n",
      "-------------------------------\n",
      "\n",
      "confusion matrix\n",
      "[[ 79   6]\n",
      " [ 33 112]]\n",
      "\n",
      "validate data set model metrics\n",
      "---------------------------------\n",
      "True positive rate for the model is 77.24%\n",
      "False positive rate for the model is  7.06%\n",
      "True negative rate for the model is 92.94%\n",
      "False negative rate for the model is 22.76%\n",
      "\n"
     ]
    }
   ],
   "source": [
    "evaluate.run_metrics(X_validate, y_validate, rfc, 'validate')"
   ]
  },
  {
   "cell_type": "code",
   "execution_count": 362,
   "metadata": {},
   "outputs": [],
   "source": [
    "rfc_score = rfc.score(X_validate, y_validate)\n",
    "matrix = confusion_matrix(y_validate, rfc.predict(X_validate))\n",
    "tpr = matrix[1,1] / (matrix[1,1] + matrix[1,0])\n",
    "fpr = matrix[0,1] / (matrix[0,1] + matrix[0,0])\n",
    "tnr = matrix[0,0] / (matrix[0,0] + matrix[0,1])\n",
    "fnr = matrix[1,0] / (matrix[1,1] + matrix[1,0])\n",
    "prc = matrix[1,1] / (matrix[1,1] + matrix[0,1])"
   ]
  },
  {
   "cell_type": "code",
   "execution_count": 363,
   "metadata": {},
   "outputs": [
    {
     "data": {
      "text/plain": [
       "0.8304347826086956"
      ]
     },
     "execution_count": 363,
     "metadata": {},
     "output_type": "execute_result"
    }
   ],
   "source": [
    "score"
   ]
  },
  {
   "cell_type": "markdown",
   "metadata": {},
   "source": [
    "#### Decision Tree"
   ]
  },
  {
   "cell_type": "code",
   "execution_count": 364,
   "metadata": {},
   "outputs": [],
   "source": [
    "tree = DecisionTreeClassifier(max_depth=3, min_samples_leaf=3, min_samples_split=3)"
   ]
  },
  {
   "cell_type": "code",
   "execution_count": 365,
   "metadata": {},
   "outputs": [
    {
     "data": {
      "text/plain": [
       "DecisionTreeClassifier(max_depth=3, min_samples_leaf=3, min_samples_split=3)"
      ]
     },
     "execution_count": 365,
     "metadata": {},
     "output_type": "execute_result"
    }
   ],
   "source": [
    "tree.fit(X_res,y_res)"
   ]
  },
  {
   "cell_type": "code",
   "execution_count": 366,
   "metadata": {},
   "outputs": [
    {
     "name": "stdout",
     "output_type": "stream",
     "text": [
      "train data set accuracy score: 86.98%\n",
      "train data set precision score 94.01%\n",
      "train data set recall score: 78.99%\n",
      "\n",
      "-------------------------------\n",
      "classification report\n",
      "              precision    recall  f1-score   support\n",
      "\n",
      "           0       0.82      0.95      0.88       338\n",
      "           1       0.94      0.79      0.86       338\n",
      "\n",
      "    accuracy                           0.87       676\n",
      "   macro avg       0.88      0.87      0.87       676\n",
      "weighted avg       0.88      0.87      0.87       676\n",
      "\n",
      "-------------------------------\n",
      "\n",
      "confusion matrix\n",
      "[[321  17]\n",
      " [ 71 267]]\n",
      "\n",
      "train data set model metrics\n",
      "---------------------------------\n",
      "True positive rate for the model is 78.99%\n",
      "False positive rate for the model is  5.03%\n",
      "True negative rate for the model is 94.97%\n",
      "False negative rate for the model is 21.01%\n",
      "\n"
     ]
    }
   ],
   "source": [
    "evaluate.run_metrics(X_res, y_res, tree, 'train')"
   ]
  },
  {
   "cell_type": "code",
   "execution_count": 367,
   "metadata": {},
   "outputs": [
    {
     "name": "stdout",
     "output_type": "stream",
     "text": [
      "train data set accuracy score: 82.17%\n",
      "train data set precision score 94.83%\n",
      "train data set recall score: 75.86%\n",
      "\n",
      "-------------------------------\n",
      "classification report\n",
      "              precision    recall  f1-score   support\n",
      "\n",
      "           0       0.69      0.93      0.79        85\n",
      "           1       0.95      0.76      0.84       145\n",
      "\n",
      "    accuracy                           0.82       230\n",
      "   macro avg       0.82      0.84      0.82       230\n",
      "weighted avg       0.85      0.82      0.82       230\n",
      "\n",
      "-------------------------------\n",
      "\n",
      "confusion matrix\n",
      "[[ 79   6]\n",
      " [ 35 110]]\n",
      "\n",
      "train data set model metrics\n",
      "---------------------------------\n",
      "True positive rate for the model is 75.86%\n",
      "False positive rate for the model is  7.06%\n",
      "True negative rate for the model is 92.94%\n",
      "False negative rate for the model is 24.14%\n",
      "\n"
     ]
    }
   ],
   "source": [
    "evaluate.run_metrics(X_validate, y_validate, tree, 'train')"
   ]
  },
  {
   "cell_type": "markdown",
   "metadata": {},
   "source": [
    "#### XGBOOST"
   ]
  },
  {
   "cell_type": "code",
   "execution_count": 368,
   "metadata": {},
   "outputs": [],
   "source": [
    "xgbc = xgb.XGBClassifier(base_score=0.5, booster='gbtree', colsample_bylevel=1,\n",
    "              colsample_bynode=1, colsample_bytree=0.4, eta=0.25, gamma=0.1,\n",
    "              gpu_id=-1, importance_type='gain', interaction_constraints='',\n",
    "              learning_rate=0.25, max_delta_step=0, max_depth=6,\n",
    "              min_child_weight=1, missing=None, monotone_constraints='()',\n",
    "              n_estimators=100, n_jobs=8, num_parallel_tree=1, random_state=123,\n",
    "              reg_alpha=0, reg_lambda=1, scale_pos_weight=1, subsample=1,\n",
    "              tree_method='exact', validate_parameters=1, verbosity=None, objective = 'binary:hinge')"
   ]
  },
  {
   "cell_type": "code",
   "execution_count": 369,
   "metadata": {},
   "outputs": [
    {
     "name": "stdout",
     "output_type": "stream",
     "text": [
      "[12:01:49] WARNING: /opt/concourse/worker/volumes/live/7a2b9f41-3287-451b-6691-43e9a6c0910f/volume/xgboost-split_1619728204606/work/src/learner.cc:541: \n",
      "Parameters: { scale_pos_weight } might not be used.\n",
      "\n",
      "  This may not be accurate due to some parameters are only used in language bindings but\n",
      "  passed down to XGBoost core.  Or some parameters are not used but slip through this\n",
      "  verification. Please open an issue if you find above cases.\n",
      "\n",
      "\n"
     ]
    },
    {
     "data": {
      "text/plain": [
       "XGBClassifier(base_score=0.5, booster='gbtree', colsample_bylevel=1,\n",
       "              colsample_bynode=1, colsample_bytree=0.4, eta=0.25, gamma=0.1,\n",
       "              gpu_id=-1, importance_type='gain', interaction_constraints='',\n",
       "              learning_rate=0.25, max_delta_step=0, max_depth=6,\n",
       "              min_child_weight=1, missing=None, monotone_constraints='()',\n",
       "              n_estimators=100, n_jobs=8, num_parallel_tree=1,\n",
       "              objective='binary:hinge', random_state=123, reg_alpha=0,\n",
       "              reg_lambda=1, scale_pos_weight=1, subsample=1,\n",
       "              tree_method='exact', validate_parameters=1, verbosity=None)"
      ]
     },
     "execution_count": 369,
     "metadata": {},
     "output_type": "execute_result"
    }
   ],
   "source": [
    "xgbc.fit(X_res, y_res)"
   ]
  },
  {
   "cell_type": "code",
   "execution_count": 370,
   "metadata": {},
   "outputs": [
    {
     "name": "stdout",
     "output_type": "stream",
     "text": [
      "train data set accuracy score: 95.41%\n",
      "train data set precision score 98.12%\n",
      "train data set recall score: 92.60%\n",
      "\n",
      "-------------------------------\n",
      "classification report\n",
      "              precision    recall  f1-score   support\n",
      "\n",
      "           0       0.93      0.98      0.96       338\n",
      "           1       0.98      0.93      0.95       338\n",
      "\n",
      "    accuracy                           0.95       676\n",
      "   macro avg       0.96      0.95      0.95       676\n",
      "weighted avg       0.96      0.95      0.95       676\n",
      "\n",
      "-------------------------------\n",
      "\n",
      "confusion matrix\n",
      "[[332   6]\n",
      " [ 25 313]]\n",
      "\n",
      "train data set model metrics\n",
      "---------------------------------\n",
      "True positive rate for the model is 92.60%\n",
      "False positive rate for the model is  1.78%\n",
      "True negative rate for the model is 98.22%\n",
      "False negative rate for the model is 7.40%\n",
      "\n"
     ]
    }
   ],
   "source": [
    "evaluate.run_metrics(X_res,y_res,xgbc, 'train')"
   ]
  },
  {
   "cell_type": "code",
   "execution_count": 371,
   "metadata": {},
   "outputs": [
    {
     "name": "stdout",
     "output_type": "stream",
     "text": [
      "validate data set accuracy score: 80.87%\n",
      "validate data set precision score 85.82%\n",
      "validate data set recall score: 83.45%\n",
      "\n",
      "-------------------------------\n",
      "classification report\n",
      "              precision    recall  f1-score   support\n",
      "\n",
      "           0       0.73      0.76      0.75        85\n",
      "           1       0.86      0.83      0.85       145\n",
      "\n",
      "    accuracy                           0.81       230\n",
      "   macro avg       0.79      0.80      0.80       230\n",
      "weighted avg       0.81      0.81      0.81       230\n",
      "\n",
      "-------------------------------\n",
      "\n",
      "confusion matrix\n",
      "[[ 65  20]\n",
      " [ 24 121]]\n",
      "\n",
      "validate data set model metrics\n",
      "---------------------------------\n",
      "True positive rate for the model is 83.45%\n",
      "False positive rate for the model is  23.53%\n",
      "True negative rate for the model is 76.47%\n",
      "False negative rate for the model is 16.55%\n",
      "\n"
     ]
    }
   ],
   "source": [
    "evaluate.run_metrics(X_validate, y_validate, xgbc, 'validate')"
   ]
  },
  {
   "cell_type": "markdown",
   "metadata": {},
   "source": [
    "#### MLP"
   ]
  },
  {
   "cell_type": "code",
   "execution_count": 372,
   "metadata": {},
   "outputs": [],
   "source": [
    "mlp = MLPClassifier(alpha=0.025, hidden_layer_sizes=(50,), max_iter=300,\n",
    "              random_state=123).fit(X_res, y_res)"
   ]
  },
  {
   "cell_type": "code",
   "execution_count": 373,
   "metadata": {},
   "outputs": [
    {
     "name": "stdout",
     "output_type": "stream",
     "text": [
      "train data set accuracy score: 90.53%\n",
      "train data set precision score 95.07%\n",
      "train data set recall score: 85.50%\n",
      "\n",
      "-------------------------------\n",
      "classification report\n",
      "              precision    recall  f1-score   support\n",
      "\n",
      "           0       0.87      0.96      0.91       338\n",
      "           1       0.95      0.86      0.90       338\n",
      "\n",
      "    accuracy                           0.91       676\n",
      "   macro avg       0.91      0.91      0.91       676\n",
      "weighted avg       0.91      0.91      0.91       676\n",
      "\n",
      "-------------------------------\n",
      "\n",
      "confusion matrix\n",
      "[[323  15]\n",
      " [ 49 289]]\n",
      "\n",
      "train data set model metrics\n",
      "---------------------------------\n",
      "True positive rate for the model is 85.50%\n",
      "False positive rate for the model is  4.44%\n",
      "True negative rate for the model is 95.56%\n",
      "False negative rate for the model is 14.50%\n",
      "\n"
     ]
    }
   ],
   "source": [
    "evaluate.run_metrics(X_res, y_res, mlp, 'train')"
   ]
  },
  {
   "cell_type": "code",
   "execution_count": 374,
   "metadata": {},
   "outputs": [
    {
     "name": "stdout",
     "output_type": "stream",
     "text": [
      "validate data set accuracy score: 82.61%\n",
      "validate data set precision score 90.70%\n",
      "validate data set recall score: 80.69%\n",
      "\n",
      "-------------------------------\n",
      "classification report\n",
      "              precision    recall  f1-score   support\n",
      "\n",
      "           0       0.72      0.86      0.78        85\n",
      "           1       0.91      0.81      0.85       145\n",
      "\n",
      "    accuracy                           0.83       230\n",
      "   macro avg       0.81      0.83      0.82       230\n",
      "weighted avg       0.84      0.83      0.83       230\n",
      "\n",
      "-------------------------------\n",
      "\n",
      "confusion matrix\n",
      "[[ 73  12]\n",
      " [ 28 117]]\n",
      "\n",
      "validate data set model metrics\n",
      "---------------------------------\n",
      "True positive rate for the model is 80.69%\n",
      "False positive rate for the model is  14.12%\n",
      "True negative rate for the model is 85.88%\n",
      "False negative rate for the model is 19.31%\n",
      "\n"
     ]
    }
   ],
   "source": [
    "evaluate.run_metrics(X_validate, y_validate, mlp, 'validate')"
   ]
  },
  {
   "cell_type": "code",
   "execution_count": null,
   "metadata": {},
   "outputs": [],
   "source": [
    "## CREATE DATAFRAME"
   ]
  },
  {
   "cell_type": "code",
   "execution_count": 379,
   "metadata": {},
   "outputs": [],
   "source": [
    "rfc_val = rfc.score(X_validate, y_validate)\n",
    "rfc_train = rfc.score(X_res, y_res)"
   ]
  },
  {
   "cell_type": "code",
   "execution_count": 380,
   "metadata": {},
   "outputs": [],
   "source": [
    "tree_val = tree.score(X_validate, y_validate)\n",
    "tree_train = tree.score(X_res,y_res)"
   ]
  },
  {
   "cell_type": "code",
   "execution_count": 381,
   "metadata": {},
   "outputs": [],
   "source": [
    "xgbc_val = xgbc.score(X_validate, y_validate)\n",
    "xgbc_train = xgbc.score(X_res, y_res)"
   ]
  },
  {
   "cell_type": "code",
   "execution_count": 382,
   "metadata": {},
   "outputs": [],
   "source": [
    "mlp_val = mlp.score(X_validate, y_validate)\n",
    "mlp_train = mlp.score(X_res, y_res)"
   ]
  },
  {
   "cell_type": "code",
   "execution_count": 396,
   "metadata": {},
   "outputs": [],
   "source": [
    "scores = pd.DataFrame(data = {'Model': ['Decision Tree', 'Random Forest Classifier',\n",
    "                               'XGBoost','Multi-layer Perceptron'],\n",
    "                     'Train Score':[tree_train,rfc_train,xgbc_train, mlp_train],\n",
    "                     'Validate Score':[tree_val, rfc_val, xgbc_val, mlp_val]})\n",
    "pd.options.display.float_format = '{:.0%}'.format"
   ]
  },
  {
   "cell_type": "code",
   "execution_count": 397,
   "metadata": {},
   "outputs": [
    {
     "data": {
      "text/html": [
       "<div>\n",
       "<style scoped>\n",
       "    .dataframe tbody tr th:only-of-type {\n",
       "        vertical-align: middle;\n",
       "    }\n",
       "\n",
       "    .dataframe tbody tr th {\n",
       "        vertical-align: top;\n",
       "    }\n",
       "\n",
       "    .dataframe thead th {\n",
       "        text-align: right;\n",
       "    }\n",
       "</style>\n",
       "<table border=\"1\" class=\"dataframe\">\n",
       "  <thead>\n",
       "    <tr style=\"text-align: right;\">\n",
       "      <th></th>\n",
       "      <th>Model</th>\n",
       "      <th>Train Score</th>\n",
       "      <th>Validate Score</th>\n",
       "    </tr>\n",
       "  </thead>\n",
       "  <tbody>\n",
       "    <tr>\n",
       "      <th>0</th>\n",
       "      <td>Decision Tree</td>\n",
       "      <td>87%</td>\n",
       "      <td>82%</td>\n",
       "    </tr>\n",
       "    <tr>\n",
       "      <th>1</th>\n",
       "      <td>Random Forest Classifier</td>\n",
       "      <td>88%</td>\n",
       "      <td>83%</td>\n",
       "    </tr>\n",
       "    <tr>\n",
       "      <th>2</th>\n",
       "      <td>XGBoost</td>\n",
       "      <td>95%</td>\n",
       "      <td>81%</td>\n",
       "    </tr>\n",
       "    <tr>\n",
       "      <th>3</th>\n",
       "      <td>Multi-layer Perceptron</td>\n",
       "      <td>91%</td>\n",
       "      <td>83%</td>\n",
       "    </tr>\n",
       "  </tbody>\n",
       "</table>\n",
       "</div>"
      ],
      "text/plain": [
       "                      Model  Train Score  Validate Score\n",
       "0             Decision Tree          87%             82%\n",
       "1  Random Forest Classifier          88%             83%\n",
       "2                   XGBoost          95%             81%\n",
       "3    Multi-layer Perceptron          91%             83%"
      ]
     },
     "execution_count": 397,
     "metadata": {},
     "output_type": "execute_result"
    }
   ],
   "source": [
    "scores"
   ]
  },
  {
   "cell_type": "markdown",
   "metadata": {},
   "source": [
    "### Re-run again with just significant columns"
   ]
  },
  {
   "cell_type": "code",
   "execution_count": 144,
   "metadata": {
    "jupyter": {
     "source_hidden": true
    },
    "tags": []
   },
   "outputs": [],
   "source": [
    "list_ = [#'mental_health_interview_0',\n",
    " 'mental_health_interview_2',\n",
    " 'care_options_1',\n",
    " 'supervisor_1',\n",
    " 'benefits_2',\n",
    " #'gender_0',\n",
    " 'mental_health_consequence_1',\n",
    " 'gender_1',\n",
    " #'mental_health_consequence_0',\n",
    " 'supervisor_2',\n",
    " 'leave_2',\n",
    " 'benefits_1',\n",
    " #'leave_0',\n",
    " 'phys_health_consequence_2',\n",
    " #'mental_vs_physical_0',\n",
    " 'company_size_4',\n",
    " 'wellness_program_2',\n",
    " 'care_options_2',\n",
    " #'phys_health_consequence_0',\n",
    " 'leave_1',\n",
    " #'wellness_program_0',\n",
    " 'seek_help_2',\n",
    " #'care_options_0',\n",
    " 'work_interfere']"
   ]
  },
  {
   "cell_type": "code",
   "execution_count": 145,
   "metadata": {
    "tags": []
   },
   "outputs": [
    {
     "data": {
      "text/plain": [
       "Index(['age', 'gender', 'self_employed', 'family_history', 'treatment',\n",
       "       'work_interfere', 'company_size', 'remote_work', 'tech_company',\n",
       "       'benefits', 'care_options', 'wellness_program', 'seek_help',\n",
       "       'anonymity', 'leave', 'mental_health_consequence',\n",
       "       'phys_health_consequence', 'coworkers', 'supervisor',\n",
       "       'mental_health_interview', 'phys_health_interview',\n",
       "       'mental_vs_physical', 'obs_consequence', 'baseline'],\n",
       "      dtype='object')"
      ]
     },
     "execution_count": 145,
     "metadata": {},
     "output_type": "execute_result"
    }
   ],
   "source": [
    "encode.columns"
   ]
  },
  {
   "cell_type": "code",
   "execution_count": 146,
   "metadata": {
    "tags": []
   },
   "outputs": [
    {
     "data": {
      "text/plain": [
       "0    842\n",
       "1    115\n",
       "Name: obs_consequence, dtype: int64"
      ]
     },
     "execution_count": 146,
     "metadata": {},
     "output_type": "execute_result"
    }
   ],
   "source": [
    "encode.obs_consequence.value_counts()"
   ]
  },
  {
   "cell_type": "code",
   "execution_count": 147,
   "metadata": {
    "jupyter": {
     "source_hidden": true
    },
    "tags": []
   },
   "outputs": [
    {
     "data": {
      "text/plain": [
       "\"dum_df = pd.get_dummies(data = encode, columns = ['gender', 'self_employed',\\n                                                   'company_size', 'remote_work',\\n                                                   'benefits', 'care_options', 'wellness_program', 'seek_help',\\n                                                   'anonymity', 'leave', 'mental_health_consequence',\\n                                                   'phys_health_consequence', 'coworkers', 'supervisor',\\n                                                   'mental_health_interview', 'phys_health_interview',\\n                                                   'mental_vs_physical'], drop_first = True)\""
      ]
     },
     "execution_count": 147,
     "metadata": {},
     "output_type": "execute_result"
    }
   ],
   "source": [
    "'''dum_df = pd.get_dummies(data = encode, columns = ['gender', 'self_employed',\n",
    "                                                   'company_size', 'remote_work',\n",
    "                                                   'benefits', 'care_options', 'wellness_program', 'seek_help',\n",
    "                                                   'anonymity', 'leave', 'mental_health_consequence',\n",
    "                                                   'phys_health_consequence', 'coworkers', 'supervisor',\n",
    "                                                   'mental_health_interview', 'phys_health_interview',\n",
    "                                                   'mental_vs_physical'], drop_first = True)'''"
   ]
  },
  {
   "cell_type": "code",
   "execution_count": 148,
   "metadata": {},
   "outputs": [],
   "source": [
    "#dum_df = dum_df[list_]"
   ]
  },
  {
   "cell_type": "code",
   "execution_count": 149,
   "metadata": {},
   "outputs": [],
   "source": [
    "#X_train, y_train, X_validate, y_validate, X_test, y_test = explore.full_split(dum_df, 'work_interfere')"
   ]
  },
  {
   "cell_type": "code",
   "execution_count": 150,
   "metadata": {},
   "outputs": [],
   "source": [
    "#X_res, y_res = ros.fit_resample(X_train, y_train)"
   ]
  },
  {
   "cell_type": "markdown",
   "metadata": {},
   "source": [
    "#### RFC"
   ]
  },
  {
   "cell_type": "code",
   "execution_count": 151,
   "metadata": {},
   "outputs": [],
   "source": [
    "#rfc = RandomForestClassifier(random_state = 123).fit(X_res, y_res)"
   ]
  },
  {
   "cell_type": "code",
   "execution_count": 152,
   "metadata": {},
   "outputs": [],
   "source": [
    "#evaluate.run_metrics(X_res, y_res, rfc, 'train')"
   ]
  },
  {
   "cell_type": "code",
   "execution_count": 153,
   "metadata": {},
   "outputs": [],
   "source": [
    "#evaluate.run_metrics(X_validate, y_validate, rfc, 'train')"
   ]
  },
  {
   "cell_type": "markdown",
   "metadata": {},
   "source": [
    "#### Tree"
   ]
  },
  {
   "cell_type": "code",
   "execution_count": 154,
   "metadata": {},
   "outputs": [],
   "source": [
    "#tree = DecisionTreeClassifier().fit(X_res, y_res)"
   ]
  },
  {
   "cell_type": "code",
   "execution_count": 155,
   "metadata": {},
   "outputs": [],
   "source": [
    "#evaluate.run_metrics(X_res, y_res, tree, 'train')"
   ]
  },
  {
   "cell_type": "code",
   "execution_count": 156,
   "metadata": {},
   "outputs": [],
   "source": [
    "#evaluate.run_metrics(X_validate, y_validate, tree, 'train')"
   ]
  },
  {
   "cell_type": "markdown",
   "metadata": {},
   "source": [
    "#### XGBOOST"
   ]
  },
  {
   "cell_type": "code",
   "execution_count": 157,
   "metadata": {},
   "outputs": [],
   "source": [
    "#xgbc = xgb.XGBClassifier().fit(X_res, y_res)"
   ]
  },
  {
   "cell_type": "code",
   "execution_count": 158,
   "metadata": {},
   "outputs": [],
   "source": [
    "#evaluate.run_metrics(X_res, y_res, xgbc, 'train')"
   ]
  },
  {
   "cell_type": "code",
   "execution_count": 159,
   "metadata": {},
   "outputs": [],
   "source": [
    "#evaluate.run_metrics(X_validate, y_validate, xgbc, 'validate')"
   ]
  },
  {
   "cell_type": "markdown",
   "metadata": {},
   "source": [
    "#### MLP"
   ]
  },
  {
   "cell_type": "code",
   "execution_count": 160,
   "metadata": {},
   "outputs": [],
   "source": [
    "#mlp = MLPClassifier(max_iter=300, random_state=123).fit(X_res, y_res)"
   ]
  },
  {
   "cell_type": "code",
   "execution_count": 161,
   "metadata": {},
   "outputs": [],
   "source": [
    "#evaluate.run_metrics(X_res, y_res, mlp, 'train')"
   ]
  },
  {
   "cell_type": "code",
   "execution_count": 162,
   "metadata": {},
   "outputs": [],
   "source": [
    "#evaluate.run_metrics(X_validate, y_validate, mlp, 'train')"
   ]
  },
  {
   "cell_type": "markdown",
   "metadata": {},
   "source": [
    "### SIG columns 2: electric boogaloo"
   ]
  },
  {
   "cell_type": "code",
   "execution_count": 163,
   "metadata": {
    "jupyter": {
     "source_hidden": true
    },
    "tags": []
   },
   "outputs": [
    {
     "data": {
      "text/plain": [
       "\"list_ = ['work_interfere',\\n 'mental_health_interview_2',\\n 'care_options_1',\\n 'supervisor_1',\\n 'benefits_2',\\n 'mental_health_consequence_1',\\n 'gender_1',\\n 'supervisor_2',\\n 'leave_2',\\n 'benefits_1',\\n 'phys_health_consequence_2',\\n 'company_size_4',\\n 'wellness_program_2',\\n 'care_options_2',\\n 'leave_1',\\n 'seek_help_2']\""
      ]
     },
     "execution_count": 163,
     "metadata": {},
     "output_type": "execute_result"
    }
   ],
   "source": [
    "'''list_ = ['work_interfere',\n",
    " 'mental_health_interview_2',\n",
    " 'care_options_1',\n",
    " 'supervisor_1',\n",
    " 'benefits_2',\n",
    " 'mental_health_consequence_1',\n",
    " 'gender_1',\n",
    " 'supervisor_2',\n",
    " 'leave_2',\n",
    " 'benefits_1',\n",
    " 'phys_health_consequence_2',\n",
    " 'company_size_4',\n",
    " 'wellness_program_2',\n",
    " 'care_options_2',\n",
    " 'leave_1',\n",
    " 'seek_help_2']'''"
   ]
  },
  {
   "cell_type": "code",
   "execution_count": 164,
   "metadata": {
    "tags": []
   },
   "outputs": [
    {
     "data": {
      "text/plain": [
       "\"dum_df = pd.get_dummies(data = encode, columns = ['gender', 'self_employed',\\n                                                   'company_size', 'remote_work',\\n                                                   'benefits', 'care_options', 'wellness_program', 'seek_help',\\n                                                   'anonymity', 'leave', 'mental_health_consequence',\\n                                                   'phys_health_consequence', 'coworkers', 'supervisor',\\n                                                   'mental_health_interview', 'phys_health_interview',\\n                                                   'mental_vs_physical'], drop_first = False)\""
      ]
     },
     "execution_count": 164,
     "metadata": {},
     "output_type": "execute_result"
    }
   ],
   "source": [
    "'''dum_df = pd.get_dummies(data = encode, columns = ['gender', 'self_employed',\n",
    "                                                   'company_size', 'remote_work',\n",
    "                                                   'benefits', 'care_options', 'wellness_program', 'seek_help',\n",
    "                                                   'anonymity', 'leave', 'mental_health_consequence',\n",
    "                                                   'phys_health_consequence', 'coworkers', 'supervisor',\n",
    "                                                   'mental_health_interview', 'phys_health_interview',\n",
    "                                                   'mental_vs_physical'], drop_first = False)'''"
   ]
  },
  {
   "cell_type": "code",
   "execution_count": 165,
   "metadata": {},
   "outputs": [],
   "source": [
    "#dum_df = dum_df[list_]"
   ]
  },
  {
   "cell_type": "code",
   "execution_count": 166,
   "metadata": {},
   "outputs": [],
   "source": [
    "#X_train, y_train, X_validate, y_validate, X_test, y_test = explore.full_split(dum_df, 'work_interfere')"
   ]
  },
  {
   "cell_type": "code",
   "execution_count": 167,
   "metadata": {},
   "outputs": [],
   "source": [
    "#X_res, y_res = ros.fit_resample(X_train, y_train)"
   ]
  },
  {
   "cell_type": "markdown",
   "metadata": {},
   "source": [
    "#### RFC"
   ]
  },
  {
   "cell_type": "code",
   "execution_count": 168,
   "metadata": {},
   "outputs": [],
   "source": [
    "#rfc = RandomForestClassifier(random_state = 123).fit(X_res, y_res)"
   ]
  },
  {
   "cell_type": "code",
   "execution_count": 169,
   "metadata": {},
   "outputs": [],
   "source": [
    "#evaluate.run_metrics(X_res, y_res, rfc, 'train')"
   ]
  },
  {
   "cell_type": "code",
   "execution_count": 170,
   "metadata": {},
   "outputs": [],
   "source": [
    "#evaluate.run_metrics(X_validate, y_validate, rfc, 'validate')"
   ]
  },
  {
   "cell_type": "markdown",
   "metadata": {},
   "source": [
    "#### Tree"
   ]
  },
  {
   "cell_type": "code",
   "execution_count": 171,
   "metadata": {},
   "outputs": [],
   "source": [
    "#tree = DecisionTreeClassifier().fit(X_res, y_res)"
   ]
  },
  {
   "cell_type": "code",
   "execution_count": 172,
   "metadata": {},
   "outputs": [],
   "source": [
    "#evaluate.run_metrics(X_res, y_res, tree, 'train')"
   ]
  },
  {
   "cell_type": "code",
   "execution_count": 173,
   "metadata": {},
   "outputs": [],
   "source": [
    "#evaluate.run_metrics(X_validate, y_validate, tree, 'validate')"
   ]
  },
  {
   "cell_type": "markdown",
   "metadata": {},
   "source": [
    "#### XGBOOST"
   ]
  },
  {
   "cell_type": "code",
   "execution_count": 174,
   "metadata": {},
   "outputs": [],
   "source": [
    "#xgbc = xgb.XGBClassifier().fit(X_res, y_res)"
   ]
  },
  {
   "cell_type": "code",
   "execution_count": 175,
   "metadata": {},
   "outputs": [],
   "source": [
    "#evaluate.run_metrics(X_res, y_res, xgbc, 'train')"
   ]
  },
  {
   "cell_type": "code",
   "execution_count": 176,
   "metadata": {},
   "outputs": [],
   "source": [
    "#evaluate.run_metrics(X_validate, y_validate, xgbc, 'validate')"
   ]
  },
  {
   "cell_type": "markdown",
   "metadata": {},
   "source": [
    "#### MLP"
   ]
  },
  {
   "cell_type": "code",
   "execution_count": 177,
   "metadata": {},
   "outputs": [],
   "source": [
    "#mlp = MLPClassifier(max_iter=300, random_state=123).fit(X_res, y_res)"
   ]
  },
  {
   "cell_type": "code",
   "execution_count": 178,
   "metadata": {},
   "outputs": [],
   "source": [
    "#evaluate.run_metrics(X_res, y_res, mlp, 'train')"
   ]
  },
  {
   "cell_type": "code",
   "execution_count": 179,
   "metadata": {},
   "outputs": [],
   "source": [
    "#evaluate.run_metrics(X_validate, y_validate, mlp, 'validate')"
   ]
  },
  {
   "cell_type": "markdown",
   "metadata": {},
   "source": [
    "### Modeling Takeaways \n",
    "- Best feature performance was with the following features:\n",
    "\n",
    "```mental_health_interview, care_options, supervisor, benefits, gender, leave, wellness_program, seek_help, family_history, treatment```\n",
    "\n",
    "- Conceptually, we want to build a model that predicts cases of work interference. We want to maximize true positives and minimize false negatives (Type II error). F1 score is a score that weights false negatives higher while not weighting true negatives as much. Since we want a model that predicts work interference to then do a feature analysis on it, people who don't exerience work interference does not provide much value.\n",
    "- Hyperparameters were determined using a GridSearchCV with 5 k-folds. \n",
    "- Best model on validate and train using F1 score is the MLPClassifier, but since it is a black box estimator and we are dealing with sensitive data, we may want to use a white box estimator. \n",
    "    - Random Forest is the least overfit out of the models, and performed almost as well as XGBoost. XGBoost was very overfit even with cross validation. "
   ]
  },
  {
   "cell_type": "markdown",
   "metadata": {},
   "source": [
    "## TESTING"
   ]
  },
  {
   "cell_type": "code",
   "execution_count": 180,
   "metadata": {},
   "outputs": [],
   "source": [
    "mlp = MLPClassifier(alpha=0.025, hidden_layer_sizes=(50,), max_iter=300,random_state=123).fit(X_res, y_res)"
   ]
  },
  {
   "cell_type": "code",
   "execution_count": 181,
   "metadata": {},
   "outputs": [
    {
     "name": "stdout",
     "output_type": "stream",
     "text": [
      "test data set accuracy score: 83.33%\n",
      "test data set precision score 91.59%\n",
      "test data set recall score: 80.99%\n",
      "\n",
      "-------------------------------\n",
      "classification report\n",
      "              precision    recall  f1-score   support\n",
      "\n",
      "           0       0.73      0.87      0.79        71\n",
      "           1       0.92      0.81      0.86       121\n",
      "\n",
      "    accuracy                           0.83       192\n",
      "   macro avg       0.82      0.84      0.83       192\n",
      "weighted avg       0.85      0.83      0.84       192\n",
      "\n",
      "-------------------------------\n",
      "\n",
      "confusion matrix\n",
      "[[62  9]\n",
      " [23 98]]\n",
      "\n",
      "test data set model metrics\n",
      "---------------------------------\n",
      "True positive rate for the model is 80.99%\n",
      "False positive rate for the model is  12.68%\n",
      "True negative rate for the model is 87.32%\n",
      "False negative rate for the model is 19.01%\n",
      "\n"
     ]
    }
   ],
   "source": [
    "evaluate.run_metrics(X_test, y_test, mlp, 'test')"
   ]
  },
  {
   "cell_type": "markdown",
   "metadata": {},
   "source": [
    "### Run test on random forest"
   ]
  },
  {
   "cell_type": "code",
   "execution_count": 182,
   "metadata": {},
   "outputs": [],
   "source": [
    "rfc = RandomForestClassifier(max_depth=8, min_samples_leaf=3, min_samples_split=10,\n",
    "                       random_state=123).fit(X_test,y_test)"
   ]
  },
  {
   "cell_type": "code",
   "execution_count": 183,
   "metadata": {},
   "outputs": [
    {
     "name": "stdout",
     "output_type": "stream",
     "text": [
      "test data set accuracy score: 85.94%\n",
      "test data set precision score 93.52%\n",
      "test data set recall score: 83.47%\n",
      "\n",
      "-------------------------------\n",
      "classification report\n",
      "              precision    recall  f1-score   support\n",
      "\n",
      "           0       0.76      0.90      0.83        71\n",
      "           1       0.94      0.83      0.88       121\n",
      "\n",
      "    accuracy                           0.86       192\n",
      "   macro avg       0.85      0.87      0.85       192\n",
      "weighted avg       0.87      0.86      0.86       192\n",
      "\n",
      "-------------------------------\n",
      "\n",
      "confusion matrix\n",
      "[[ 64   7]\n",
      " [ 20 101]]\n",
      "\n",
      "test data set model metrics\n",
      "---------------------------------\n",
      "True positive rate for the model is 83.47%\n",
      "False positive rate for the model is  9.86%\n",
      "True negative rate for the model is 90.14%\n",
      "False negative rate for the model is 16.53%\n",
      "\n"
     ]
    }
   ],
   "source": [
    "evaluate.run_metrics(X_test, y_test, rfc, 'test')"
   ]
  },
  {
   "cell_type": "markdown",
   "metadata": {},
   "source": [
    "## Feature Importance"
   ]
  },
  {
   "cell_type": "code",
   "execution_count": 184,
   "metadata": {},
   "outputs": [],
   "source": [
    "import pprint"
   ]
  },
  {
   "cell_type": "code",
   "execution_count": 185,
   "metadata": {},
   "outputs": [],
   "source": [
    "import eli5\n",
    "from eli5.sklearn import PermutationImportance"
   ]
  },
  {
   "cell_type": "code",
   "execution_count": 186,
   "metadata": {},
   "outputs": [
    {
     "data": {
      "text/html": [
       "\n",
       "    <style>\n",
       "    table.eli5-weights tr:hover {\n",
       "        filter: brightness(85%);\n",
       "    }\n",
       "</style>\n",
       "\n",
       "\n",
       "\n",
       "    \n",
       "\n",
       "    \n",
       "\n",
       "    \n",
       "\n",
       "    \n",
       "\n",
       "    \n",
       "\n",
       "    \n",
       "\n",
       "\n",
       "    \n",
       "\n",
       "    \n",
       "\n",
       "    \n",
       "\n",
       "    \n",
       "\n",
       "    \n",
       "\n",
       "    \n",
       "\n",
       "\n",
       "    \n",
       "\n",
       "    \n",
       "\n",
       "    \n",
       "\n",
       "    \n",
       "\n",
       "    \n",
       "        <table class=\"eli5-weights eli5-feature-importances\" style=\"border-collapse: collapse; border: none; margin-top: 0em; table-layout: auto;\">\n",
       "    <thead>\n",
       "    <tr style=\"border: none;\">\n",
       "        <th style=\"padding: 0 1em 0 0.5em; text-align: right; border: none;\">Weight</th>\n",
       "        <th style=\"padding: 0 0.5em 0 0.5em; text-align: left; border: none;\">Feature</th>\n",
       "    </tr>\n",
       "    </thead>\n",
       "    <tbody>\n",
       "    \n",
       "        <tr style=\"background-color: hsl(120, 100.00%, 80.00%); border: none;\">\n",
       "            <td style=\"padding: 0 1em 0 0.5em; text-align: right; border: none;\">\n",
       "                0.2948\n",
       "                \n",
       "                    &plusmn; 0.0557\n",
       "                \n",
       "            </td>\n",
       "            <td style=\"padding: 0 0.5em 0 0.5em; text-align: left; border: none;\">\n",
       "                x1\n",
       "            </td>\n",
       "        </tr>\n",
       "    \n",
       "        <tr style=\"background-color: hsl(120, 100.00%, 96.24%); border: none;\">\n",
       "            <td style=\"padding: 0 1em 0 0.5em; text-align: right; border: none;\">\n",
       "                0.0271\n",
       "                \n",
       "                    &plusmn; 0.0275\n",
       "                \n",
       "            </td>\n",
       "            <td style=\"padding: 0 0.5em 0 0.5em; text-align: left; border: none;\">\n",
       "                x8\n",
       "            </td>\n",
       "        </tr>\n",
       "    \n",
       "        <tr style=\"background-color: hsl(120, 100.00%, 97.21%); border: none;\">\n",
       "            <td style=\"padding: 0 1em 0 0.5em; text-align: right; border: none;\">\n",
       "                0.0177\n",
       "                \n",
       "                    &plusmn; 0.0106\n",
       "                \n",
       "            </td>\n",
       "            <td style=\"padding: 0 0.5em 0 0.5em; text-align: left; border: none;\">\n",
       "                x0\n",
       "            </td>\n",
       "        </tr>\n",
       "    \n",
       "        <tr style=\"background-color: hsl(120, 100.00%, 97.69%); border: none;\">\n",
       "            <td style=\"padding: 0 1em 0 0.5em; text-align: right; border: none;\">\n",
       "                0.0135\n",
       "                \n",
       "                    &plusmn; 0.0224\n",
       "                \n",
       "            </td>\n",
       "            <td style=\"padding: 0 0.5em 0 0.5em; text-align: left; border: none;\">\n",
       "                x7\n",
       "            </td>\n",
       "        </tr>\n",
       "    \n",
       "        <tr style=\"background-color: hsl(120, 100.00%, 98.35%); border: none;\">\n",
       "            <td style=\"padding: 0 1em 0 0.5em; text-align: right; border: none;\">\n",
       "                0.0083\n",
       "                \n",
       "                    &plusmn; 0.0083\n",
       "                \n",
       "            </td>\n",
       "            <td style=\"padding: 0 0.5em 0 0.5em; text-align: left; border: none;\">\n",
       "                x12\n",
       "            </td>\n",
       "        </tr>\n",
       "    \n",
       "        <tr style=\"background-color: hsl(120, 100.00%, 98.81%); border: none;\">\n",
       "            <td style=\"padding: 0 1em 0 0.5em; text-align: right; border: none;\">\n",
       "                0.0052\n",
       "                \n",
       "                    &plusmn; 0.0147\n",
       "                \n",
       "            </td>\n",
       "            <td style=\"padding: 0 0.5em 0 0.5em; text-align: left; border: none;\">\n",
       "                x5\n",
       "            </td>\n",
       "        </tr>\n",
       "    \n",
       "        <tr style=\"background-color: hsl(120, 100.00%, 99.38%); border: none;\">\n",
       "            <td style=\"padding: 0 1em 0 0.5em; text-align: right; border: none;\">\n",
       "                0.0021\n",
       "                \n",
       "                    &plusmn; 0.0083\n",
       "                \n",
       "            </td>\n",
       "            <td style=\"padding: 0 0.5em 0 0.5em; text-align: left; border: none;\">\n",
       "                x4\n",
       "            </td>\n",
       "        </tr>\n",
       "    \n",
       "        <tr style=\"background-color: hsl(120, 100.00%, 99.38%); border: none;\">\n",
       "            <td style=\"padding: 0 1em 0 0.5em; text-align: right; border: none;\">\n",
       "                0.0021\n",
       "                \n",
       "                    &plusmn; 0.0083\n",
       "                \n",
       "            </td>\n",
       "            <td style=\"padding: 0 0.5em 0 0.5em; text-align: left; border: none;\">\n",
       "                x17\n",
       "            </td>\n",
       "        </tr>\n",
       "    \n",
       "        <tr style=\"background-color: hsl(120, 100.00%, 99.62%); border: none;\">\n",
       "            <td style=\"padding: 0 1em 0 0.5em; text-align: right; border: none;\">\n",
       "                0.0010\n",
       "                \n",
       "                    &plusmn; 0.0202\n",
       "                \n",
       "            </td>\n",
       "            <td style=\"padding: 0 0.5em 0 0.5em; text-align: left; border: none;\">\n",
       "                x11\n",
       "            </td>\n",
       "        </tr>\n",
       "    \n",
       "        <tr style=\"background-color: hsl(120, 100.00%, 99.62%); border: none;\">\n",
       "            <td style=\"padding: 0 1em 0 0.5em; text-align: right; border: none;\">\n",
       "                0.0010\n",
       "                \n",
       "                    &plusmn; 0.0042\n",
       "                \n",
       "            </td>\n",
       "            <td style=\"padding: 0 0.5em 0 0.5em; text-align: left; border: none;\">\n",
       "                x15\n",
       "            </td>\n",
       "        </tr>\n",
       "    \n",
       "        <tr style=\"background-color: hsl(0, 100.00%, 100.00%); border: none;\">\n",
       "            <td style=\"padding: 0 1em 0 0.5em; text-align: right; border: none;\">\n",
       "                0\n",
       "                \n",
       "                    &plusmn; 0.0000\n",
       "                \n",
       "            </td>\n",
       "            <td style=\"padding: 0 0.5em 0 0.5em; text-align: left; border: none;\">\n",
       "                x6\n",
       "            </td>\n",
       "        </tr>\n",
       "    \n",
       "        <tr style=\"background-color: hsl(0, 100.00%, 100.00%); border: none;\">\n",
       "            <td style=\"padding: 0 1em 0 0.5em; text-align: right; border: none;\">\n",
       "                0\n",
       "                \n",
       "                    &plusmn; 0.0000\n",
       "                \n",
       "            </td>\n",
       "            <td style=\"padding: 0 0.5em 0 0.5em; text-align: left; border: none;\">\n",
       "                x2\n",
       "            </td>\n",
       "        </tr>\n",
       "    \n",
       "        <tr style=\"background-color: hsl(0, 100.00%, 99.62%); border: none;\">\n",
       "            <td style=\"padding: 0 1em 0 0.5em; text-align: right; border: none;\">\n",
       "                -0.0010\n",
       "                \n",
       "                    &plusmn; 0.0042\n",
       "                \n",
       "            </td>\n",
       "            <td style=\"padding: 0 0.5em 0 0.5em; text-align: left; border: none;\">\n",
       "                x3\n",
       "            </td>\n",
       "        </tr>\n",
       "    \n",
       "        <tr style=\"background-color: hsl(0, 100.00%, 98.99%); border: none;\">\n",
       "            <td style=\"padding: 0 1em 0 0.5em; text-align: right; border: none;\">\n",
       "                -0.0042\n",
       "                \n",
       "                    &plusmn; 0.0042\n",
       "                \n",
       "            </td>\n",
       "            <td style=\"padding: 0 0.5em 0 0.5em; text-align: left; border: none;\">\n",
       "                x13\n",
       "            </td>\n",
       "        </tr>\n",
       "    \n",
       "        <tr style=\"background-color: hsl(0, 100.00%, 98.81%); border: none;\">\n",
       "            <td style=\"padding: 0 1em 0 0.5em; text-align: right; border: none;\">\n",
       "                -0.0052\n",
       "                \n",
       "                    &plusmn; 0.0147\n",
       "                \n",
       "            </td>\n",
       "            <td style=\"padding: 0 0.5em 0 0.5em; text-align: left; border: none;\">\n",
       "                x9\n",
       "            </td>\n",
       "        </tr>\n",
       "    \n",
       "        <tr style=\"background-color: hsl(0, 100.00%, 98.65%); border: none;\">\n",
       "            <td style=\"padding: 0 1em 0 0.5em; text-align: right; border: none;\">\n",
       "                -0.0062\n",
       "                \n",
       "                    &plusmn; 0.0042\n",
       "                \n",
       "            </td>\n",
       "            <td style=\"padding: 0 0.5em 0 0.5em; text-align: left; border: none;\">\n",
       "                x14\n",
       "            </td>\n",
       "        </tr>\n",
       "    \n",
       "        <tr style=\"background-color: hsl(0, 100.00%, 98.65%); border: none;\">\n",
       "            <td style=\"padding: 0 1em 0 0.5em; text-align: right; border: none;\">\n",
       "                -0.0062\n",
       "                \n",
       "                    &plusmn; 0.0078\n",
       "                \n",
       "            </td>\n",
       "            <td style=\"padding: 0 0.5em 0 0.5em; text-align: left; border: none;\">\n",
       "                x10\n",
       "            </td>\n",
       "        </tr>\n",
       "    \n",
       "        <tr style=\"background-color: hsl(0, 100.00%, 98.50%); border: none;\">\n",
       "            <td style=\"padding: 0 1em 0 0.5em; text-align: right; border: none;\">\n",
       "                -0.0073\n",
       "                \n",
       "                    &plusmn; 0.0051\n",
       "                \n",
       "            </td>\n",
       "            <td style=\"padding: 0 0.5em 0 0.5em; text-align: left; border: none;\">\n",
       "                x16\n",
       "            </td>\n",
       "        </tr>\n",
       "    \n",
       "    \n",
       "    </tbody>\n",
       "</table>\n",
       "    \n",
       "\n",
       "    \n",
       "\n",
       "\n",
       "    \n",
       "\n",
       "    \n",
       "\n",
       "    \n",
       "\n",
       "    \n",
       "\n",
       "    \n",
       "\n",
       "    \n",
       "\n",
       "\n",
       "\n"
      ],
      "text/plain": [
       "Explanation(estimator='PermutationImportance(estimator=MLPClassifier(alpha=0.025,\\n                                              hidden_layer_sizes=(50,),\\n                                              max_iter=300, random_state=123))', description=\"\\nFeature importances, computed as a decrease in score when feature\\nvalues are permuted (i.e. become noise). This is also known as \\npermutation importance.\\n\\nIf feature importances are computed on the same data as used for training, \\nthey don't reflect importance of features for generalization. Use a held-out\\ndataset if you want generalization feature importances.\\n\", error=None, method='feature importances', is_regression=False, targets=None, feature_importances=FeatureImportances(importances=[FeatureWeight(feature='x1', weight=0.2947916666666667, std=0.02787310033387428, value=None), FeatureWeight(feature='x8', weight=0.027083333333333393, std=0.01374052703986764, value=None), FeatureWeight(feature='x0', weight=0.01770833333333337, std=0.005311478659992491, value=None), FeatureWeight(feature='x7', weight=0.013541666666666697, std=0.011219093348196879, value=None), FeatureWeight(feature='x12', weight=0.00833333333333337, std=0.004166666666666657, value=None), FeatureWeight(feature='x5', weight=0.00520833333333337, std=0.0073656956373598596, value=None), FeatureWeight(feature='x4', weight=0.00208333333333337, std=0.004166666666666657, value=None), FeatureWeight(feature='x17', weight=0.00208333333333337, std=0.004166666666666657, value=None), FeatureWeight(feature='x11', weight=0.001041666666666674, std=0.010099333036284021, value=None), FeatureWeight(feature='x15', weight=0.001041666666666674, std=0.0020833333333333476, value=None), FeatureWeight(feature='x6', weight=0.0, std=0.0, value=None), FeatureWeight(feature='x2', weight=0.0, std=0.0, value=None), FeatureWeight(feature='x3', weight=-0.001041666666666652, std=0.002083333333333304, value=None), FeatureWeight(feature='x13', weight=-0.004166666666666608, std=0.002083333333333304, value=None), FeatureWeight(feature='x9', weight=-0.0052083333333333036, std=0.007365695637359875, value=None), FeatureWeight(feature='x14', weight=-0.0062499999999999336, std=0.002083333333333348, value=None), FeatureWeight(feature='x10', weight=-0.006249999999999955, std=0.003897559777889514, value=None), FeatureWeight(feature='x16', weight=-0.007291666666666608, std=0.0025515518153991622, value=None)], remaining=0), decision_tree=None, highlight_spaces=None, transition_features=None, image=None)"
      ]
     },
     "execution_count": 186,
     "metadata": {},
     "output_type": "execute_result"
    }
   ],
   "source": [
    "perm = PermutationImportance(mlp).fit(X_test, y_test)\n",
    "eli5.explain_weights(perm)"
   ]
  },
  {
   "cell_type": "code",
   "execution_count": 187,
   "metadata": {},
   "outputs": [
    {
     "data": {
      "text/plain": [
       "Index(['family_history', 'treatment', 'mental_health_interview_1',\n",
       "       'mental_health_interview_2', 'care_options_1', 'care_options_2',\n",
       "       'supervisor_1', 'supervisor_2', 'mental_health_consequence_1',\n",
       "       'mental_health_consequence_2', 'leave_1', 'leave_2', 'leave_3',\n",
       "       'leave_4', 'benefits_1', 'benefits_2', 'gender_1', 'gender_2'],\n",
       "      dtype='object')"
      ]
     },
     "execution_count": 187,
     "metadata": {},
     "output_type": "execute_result"
    }
   ],
   "source": [
    "X_test.columns"
   ]
  },
  {
   "cell_type": "code",
   "execution_count": 188,
   "metadata": {},
   "outputs": [
    {
     "name": "stdout",
     "output_type": "stream",
     "text": [
      "Elapsed time to compute the importances: 0.008 seconds\n"
     ]
    }
   ],
   "source": [
    "import time\n",
    "import numpy as np\n",
    "\n",
    "start_time = time.time()\n",
    "importances = rfc.feature_importances_\n",
    "std = np.std([\n",
    "    x.feature_importances_ for x in rfc.estimators_], axis=0)\n",
    "elapsed_time = time.time() - start_time\n",
    "\n",
    "print(f\"Elapsed time to compute the importances: \"\n",
    "      f\"{elapsed_time:.3f} seconds\")"
   ]
  },
  {
   "cell_type": "code",
   "execution_count": 189,
   "metadata": {},
   "outputs": [],
   "source": [
    "feature_names = [f'feature {i}' for i in range(X_res.shape[1])]"
   ]
  },
  {
   "cell_type": "code",
   "execution_count": 298,
   "metadata": {},
   "outputs": [
    {
     "ename": "ValueError",
     "evalue": "Length of passed values is 9, index implies 18.",
     "output_type": "error",
     "traceback": [
      "\u001b[0;31m---------------------------------------------------------------------------\u001b[0m",
      "\u001b[0;31mValueError\u001b[0m                                Traceback (most recent call last)",
      "\u001b[0;32m<ipython-input-298-faa1abd87302>\u001b[0m in \u001b[0;36m<module>\u001b[0;34m\u001b[0m\n\u001b[0;32m----> 1\u001b[0;31m \u001b[0mforest_importances\u001b[0m \u001b[0;34m=\u001b[0m \u001b[0mpd\u001b[0m\u001b[0;34m.\u001b[0m\u001b[0mSeries\u001b[0m\u001b[0;34m(\u001b[0m\u001b[0mimportances\u001b[0m\u001b[0;34m,\u001b[0m \u001b[0mindex\u001b[0m\u001b[0;34m=\u001b[0m\u001b[0mfeature_names\u001b[0m\u001b[0;34m)\u001b[0m\u001b[0;34m\u001b[0m\u001b[0;34m\u001b[0m\u001b[0m\n\u001b[0m\u001b[1;32m      2\u001b[0m \u001b[0mfig\u001b[0m\u001b[0;34m,\u001b[0m \u001b[0max\u001b[0m \u001b[0;34m=\u001b[0m \u001b[0mplt\u001b[0m\u001b[0;34m.\u001b[0m\u001b[0msubplots\u001b[0m\u001b[0;34m(\u001b[0m\u001b[0;34m)\u001b[0m\u001b[0;34m\u001b[0m\u001b[0;34m\u001b[0m\u001b[0m\n\u001b[1;32m      3\u001b[0m \u001b[0mforest_importances\u001b[0m\u001b[0;34m.\u001b[0m\u001b[0mplot\u001b[0m\u001b[0;34m.\u001b[0m\u001b[0mbar\u001b[0m\u001b[0;34m(\u001b[0m\u001b[0myerr\u001b[0m\u001b[0;34m=\u001b[0m\u001b[0mstd\u001b[0m\u001b[0;34m,\u001b[0m \u001b[0max\u001b[0m\u001b[0;34m=\u001b[0m\u001b[0max\u001b[0m\u001b[0;34m)\u001b[0m\u001b[0;34m\u001b[0m\u001b[0;34m\u001b[0m\u001b[0m\n\u001b[1;32m      4\u001b[0m \u001b[0max\u001b[0m\u001b[0;34m.\u001b[0m\u001b[0mset_title\u001b[0m\u001b[0;34m(\u001b[0m\u001b[0;34m\"Feature importances using MDI\"\u001b[0m\u001b[0;34m)\u001b[0m\u001b[0;34m\u001b[0m\u001b[0;34m\u001b[0m\u001b[0m\n\u001b[1;32m      5\u001b[0m \u001b[0max\u001b[0m\u001b[0;34m.\u001b[0m\u001b[0mset_xlabel\u001b[0m\u001b[0;34m(\u001b[0m\u001b[0;34m\"Mean decrease in impurity\"\u001b[0m\u001b[0;34m)\u001b[0m\u001b[0;34m\u001b[0m\u001b[0;34m\u001b[0m\u001b[0m\n",
      "\u001b[0;32m~/opt/anaconda3/lib/python3.8/site-packages/pandas/core/series.py\u001b[0m in \u001b[0;36m__init__\u001b[0;34m(self, data, index, dtype, name, copy, fastpath)\u001b[0m\n\u001b[1;32m    311\u001b[0m                 \u001b[0;32mtry\u001b[0m\u001b[0;34m:\u001b[0m\u001b[0;34m\u001b[0m\u001b[0;34m\u001b[0m\u001b[0m\n\u001b[1;32m    312\u001b[0m                     \u001b[0;32mif\u001b[0m \u001b[0mlen\u001b[0m\u001b[0;34m(\u001b[0m\u001b[0mindex\u001b[0m\u001b[0;34m)\u001b[0m \u001b[0;34m!=\u001b[0m \u001b[0mlen\u001b[0m\u001b[0;34m(\u001b[0m\u001b[0mdata\u001b[0m\u001b[0;34m)\u001b[0m\u001b[0;34m:\u001b[0m\u001b[0;34m\u001b[0m\u001b[0;34m\u001b[0m\u001b[0m\n\u001b[0;32m--> 313\u001b[0;31m                         raise ValueError(\n\u001b[0m\u001b[1;32m    314\u001b[0m                             \u001b[0;34mf\"Length of passed values is {len(data)}, \"\u001b[0m\u001b[0;34m\u001b[0m\u001b[0;34m\u001b[0m\u001b[0m\n\u001b[1;32m    315\u001b[0m                             \u001b[0;34mf\"index implies {len(index)}.\"\u001b[0m\u001b[0;34m\u001b[0m\u001b[0;34m\u001b[0m\u001b[0m\n",
      "\u001b[0;31mValueError\u001b[0m: Length of passed values is 9, index implies 18."
     ]
    }
   ],
   "source": [
    "forest_importances = pd.Series(importances, index=feature_names)\n",
    "fig, ax = plt.subplots()\n",
    "forest_importances.plot.bar(yerr=std, ax=ax)\n",
    "ax.set_title(\"Feature importances using MDI\")\n",
    "ax.set_xlabel(\"Mean decrease in impurity\")\n",
    "fig.tight_layout()"
   ]
  },
  {
   "cell_type": "code",
   "execution_count": 191,
   "metadata": {},
   "outputs": [
    {
     "data": {
      "text/plain": [
       "Index(['family_history', 'treatment', 'mental_health_interview_1',\n",
       "       'mental_health_interview_2', 'care_options_1', 'care_options_2',\n",
       "       'supervisor_1', 'supervisor_2', 'mental_health_consequence_1',\n",
       "       'mental_health_consequence_2', 'leave_1', 'leave_2', 'leave_3',\n",
       "       'leave_4', 'benefits_1', 'benefits_2', 'gender_1', 'gender_2'],\n",
       "      dtype='object')"
      ]
     },
     "execution_count": 191,
     "metadata": {},
     "output_type": "execute_result"
    }
   ],
   "source": [
    "X_res.columns"
   ]
  },
  {
   "cell_type": "markdown",
   "metadata": {},
   "source": [
    "### lets try to redo feature importance"
   ]
  },
  {
   "cell_type": "code",
   "execution_count": 247,
   "metadata": {},
   "outputs": [],
   "source": [
    "from sklearn.inspection import permutation_importance"
   ]
  },
  {
   "cell_type": "code",
   "execution_count": 248,
   "metadata": {},
   "outputs": [],
   "source": [
    "string_df = pd.read_csv('~/desktop/codeup-data-science/tech-blues-capstone/survey.csv')"
   ]
  },
  {
   "cell_type": "code",
   "execution_count": 249,
   "metadata": {},
   "outputs": [],
   "source": [
    "import wrangle"
   ]
  },
  {
   "cell_type": "code",
   "execution_count": 250,
   "metadata": {},
   "outputs": [],
   "source": [
    "string_df = wrangle.prep_the_strings(string_df)"
   ]
  },
  {
   "cell_type": "code",
   "execution_count": 251,
   "metadata": {},
   "outputs": [],
   "source": [
    "list_ = ['gender', 'self_employed','benefits',\n",
    "        'leave', 'mental_health_consequence','supervisor', 'family_history',\n",
    "        'care_options', 'work_interfere', 'mental_health_interview']"
   ]
  },
  {
   "cell_type": "code",
   "execution_count": 252,
   "metadata": {},
   "outputs": [],
   "source": [
    "#string_df = string_df[list_]"
   ]
  },
  {
   "cell_type": "code",
   "execution_count": 253,
   "metadata": {},
   "outputs": [
    {
     "name": "stdout",
     "output_type": "stream",
     "text": [
      "<class 'pandas.core.frame.DataFrame'>\n",
      "Int64Index: 957 entries, 0 to 1258\n",
      "Data columns (total 25 columns):\n",
      " #   Column                     Non-Null Count  Dtype         \n",
      "---  ------                     --------------  -----         \n",
      " 0   timestamp                  957 non-null    datetime64[ns]\n",
      " 1   age                        957 non-null    int64         \n",
      " 2   gender                     957 non-null    object        \n",
      " 3   country                    957 non-null    object        \n",
      " 4   self_employed              957 non-null    object        \n",
      " 5   family_history             957 non-null    object        \n",
      " 6   treatment                  957 non-null    object        \n",
      " 7   work_interfere             957 non-null    object        \n",
      " 8   no_employees               957 non-null    object        \n",
      " 9   remote_work                957 non-null    object        \n",
      " 10  tech_company               957 non-null    object        \n",
      " 11  benefits                   957 non-null    object        \n",
      " 12  care_options               957 non-null    object        \n",
      " 13  wellness_program           957 non-null    object        \n",
      " 14  seek_help                  957 non-null    object        \n",
      " 15  anonymity                  957 non-null    object        \n",
      " 16  leave                      957 non-null    object        \n",
      " 17  mental_health_consequence  957 non-null    object        \n",
      " 18  phys_health_consequence    957 non-null    object        \n",
      " 19  coworkers                  957 non-null    object        \n",
      " 20  supervisor                 957 non-null    object        \n",
      " 21  mental_health_interview    957 non-null    object        \n",
      " 22  phys_health_interview      957 non-null    object        \n",
      " 23  mental_vs_physical         957 non-null    object        \n",
      " 24  obs_consequence            957 non-null    object        \n",
      "dtypes: datetime64[ns](1), int64(1), object(23)\n",
      "memory usage: 194.4+ KB\n"
     ]
    }
   ],
   "source": [
    "string_df.info()"
   ]
  },
  {
   "cell_type": "code",
   "execution_count": 254,
   "metadata": {},
   "outputs": [],
   "source": [
    "encoded_df = wrangle.prep_encode(string_df)"
   ]
  },
  {
   "cell_type": "code",
   "execution_count": 255,
   "metadata": {},
   "outputs": [
    {
     "data": {
      "text/plain": [
       "0       1\n",
       "1       1\n",
       "2       1\n",
       "4       0\n",
       "5       1\n",
       "       ..\n",
       "1253    1\n",
       "1255    1\n",
       "1256    1\n",
       "1257    0\n",
       "1258    1\n",
       "Name: work_interfere, Length: 957, dtype: int64"
      ]
     },
     "execution_count": 255,
     "metadata": {},
     "output_type": "execute_result"
    }
   ],
   "source": [
    "encoded_df.work_interfere"
   ]
  },
  {
   "cell_type": "code",
   "execution_count": 256,
   "metadata": {},
   "outputs": [],
   "source": [
    "encoded_df = encoded_df[list_]"
   ]
  },
  {
   "cell_type": "code",
   "execution_count": 257,
   "metadata": {},
   "outputs": [
    {
     "data": {
      "text/html": [
       "<div>\n",
       "<style scoped>\n",
       "    .dataframe tbody tr th:only-of-type {\n",
       "        vertical-align: middle;\n",
       "    }\n",
       "\n",
       "    .dataframe tbody tr th {\n",
       "        vertical-align: top;\n",
       "    }\n",
       "\n",
       "    .dataframe thead th {\n",
       "        text-align: right;\n",
       "    }\n",
       "</style>\n",
       "<table border=\"1\" class=\"dataframe\">\n",
       "  <thead>\n",
       "    <tr style=\"text-align: right;\">\n",
       "      <th></th>\n",
       "      <th>gender</th>\n",
       "      <th>self_employed</th>\n",
       "      <th>benefits</th>\n",
       "      <th>leave</th>\n",
       "      <th>mental_health_consequence</th>\n",
       "      <th>supervisor</th>\n",
       "      <th>family_history</th>\n",
       "      <th>care_options</th>\n",
       "      <th>work_interfere</th>\n",
       "      <th>mental_health_interview</th>\n",
       "    </tr>\n",
       "  </thead>\n",
       "  <tbody>\n",
       "    <tr>\n",
       "      <th>0</th>\n",
       "      <td>1</td>\n",
       "      <td>0</td>\n",
       "      <td>1</td>\n",
       "      <td>3</td>\n",
       "      <td>0</td>\n",
       "      <td>1</td>\n",
       "      <td>0</td>\n",
       "      <td>2</td>\n",
       "      <td>1</td>\n",
       "      <td>0</td>\n",
       "    </tr>\n",
       "    <tr>\n",
       "      <th>1</th>\n",
       "      <td>0</td>\n",
       "      <td>0</td>\n",
       "      <td>2</td>\n",
       "      <td>2</td>\n",
       "      <td>2</td>\n",
       "      <td>0</td>\n",
       "      <td>0</td>\n",
       "      <td>0</td>\n",
       "      <td>1</td>\n",
       "      <td>0</td>\n",
       "    </tr>\n",
       "    <tr>\n",
       "      <th>2</th>\n",
       "      <td>0</td>\n",
       "      <td>0</td>\n",
       "      <td>0</td>\n",
       "      <td>1</td>\n",
       "      <td>0</td>\n",
       "      <td>1</td>\n",
       "      <td>0</td>\n",
       "      <td>0</td>\n",
       "      <td>1</td>\n",
       "      <td>1</td>\n",
       "    </tr>\n",
       "    <tr>\n",
       "      <th>4</th>\n",
       "      <td>0</td>\n",
       "      <td>0</td>\n",
       "      <td>1</td>\n",
       "      <td>2</td>\n",
       "      <td>0</td>\n",
       "      <td>1</td>\n",
       "      <td>0</td>\n",
       "      <td>0</td>\n",
       "      <td>0</td>\n",
       "      <td>1</td>\n",
       "    </tr>\n",
       "    <tr>\n",
       "      <th>5</th>\n",
       "      <td>0</td>\n",
       "      <td>0</td>\n",
       "      <td>1</td>\n",
       "      <td>2</td>\n",
       "      <td>0</td>\n",
       "      <td>1</td>\n",
       "      <td>1</td>\n",
       "      <td>2</td>\n",
       "      <td>1</td>\n",
       "      <td>0</td>\n",
       "    </tr>\n",
       "    <tr>\n",
       "      <th>...</th>\n",
       "      <td>...</td>\n",
       "      <td>...</td>\n",
       "      <td>...</td>\n",
       "      <td>...</td>\n",
       "      <td>...</td>\n",
       "      <td>...</td>\n",
       "      <td>...</td>\n",
       "      <td>...</td>\n",
       "      <td>...</td>\n",
       "      <td>...</td>\n",
       "    </tr>\n",
       "    <tr>\n",
       "      <th>1253</th>\n",
       "      <td>0</td>\n",
       "      <td>0</td>\n",
       "      <td>2</td>\n",
       "      <td>3</td>\n",
       "      <td>2</td>\n",
       "      <td>2</td>\n",
       "      <td>1</td>\n",
       "      <td>0</td>\n",
       "      <td>1</td>\n",
       "      <td>0</td>\n",
       "    </tr>\n",
       "    <tr>\n",
       "      <th>1255</th>\n",
       "      <td>0</td>\n",
       "      <td>0</td>\n",
       "      <td>1</td>\n",
       "      <td>1</td>\n",
       "      <td>0</td>\n",
       "      <td>1</td>\n",
       "      <td>1</td>\n",
       "      <td>1</td>\n",
       "      <td>1</td>\n",
       "      <td>0</td>\n",
       "    </tr>\n",
       "    <tr>\n",
       "      <th>1256</th>\n",
       "      <td>0</td>\n",
       "      <td>0</td>\n",
       "      <td>1</td>\n",
       "      <td>1</td>\n",
       "      <td>1</td>\n",
       "      <td>0</td>\n",
       "      <td>1</td>\n",
       "      <td>1</td>\n",
       "      <td>1</td>\n",
       "      <td>0</td>\n",
       "    </tr>\n",
       "    <tr>\n",
       "      <th>1257</th>\n",
       "      <td>1</td>\n",
       "      <td>0</td>\n",
       "      <td>0</td>\n",
       "      <td>2</td>\n",
       "      <td>1</td>\n",
       "      <td>0</td>\n",
       "      <td>0</td>\n",
       "      <td>1</td>\n",
       "      <td>0</td>\n",
       "      <td>0</td>\n",
       "    </tr>\n",
       "    <tr>\n",
       "      <th>1258</th>\n",
       "      <td>0</td>\n",
       "      <td>0</td>\n",
       "      <td>1</td>\n",
       "      <td>2</td>\n",
       "      <td>2</td>\n",
       "      <td>0</td>\n",
       "      <td>1</td>\n",
       "      <td>1</td>\n",
       "      <td>1</td>\n",
       "      <td>0</td>\n",
       "    </tr>\n",
       "  </tbody>\n",
       "</table>\n",
       "<p>957 rows × 10 columns</p>\n",
       "</div>"
      ],
      "text/plain": [
       "      gender  self_employed  benefits  leave  mental_health_consequence  \\\n",
       "0          1              0         1      3                          0   \n",
       "1          0              0         2      2                          2   \n",
       "2          0              0         0      1                          0   \n",
       "4          0              0         1      2                          0   \n",
       "5          0              0         1      2                          0   \n",
       "...      ...            ...       ...    ...                        ...   \n",
       "1253       0              0         2      3                          2   \n",
       "1255       0              0         1      1                          0   \n",
       "1256       0              0         1      1                          1   \n",
       "1257       1              0         0      2                          1   \n",
       "1258       0              0         1      2                          2   \n",
       "\n",
       "      supervisor  family_history  care_options  work_interfere  \\\n",
       "0              1               0             2               1   \n",
       "1              0               0             0               1   \n",
       "2              1               0             0               1   \n",
       "4              1               0             0               0   \n",
       "5              1               1             2               1   \n",
       "...          ...             ...           ...             ...   \n",
       "1253           2               1             0               1   \n",
       "1255           1               1             1               1   \n",
       "1256           0               1             1               1   \n",
       "1257           0               0             1               0   \n",
       "1258           0               1             1               1   \n",
       "\n",
       "      mental_health_interview  \n",
       "0                           0  \n",
       "1                           0  \n",
       "2                           1  \n",
       "4                           1  \n",
       "5                           0  \n",
       "...                       ...  \n",
       "1253                        0  \n",
       "1255                        0  \n",
       "1256                        0  \n",
       "1257                        0  \n",
       "1258                        0  \n",
       "\n",
       "[957 rows x 10 columns]"
      ]
     },
     "execution_count": 257,
     "metadata": {},
     "output_type": "execute_result"
    }
   ],
   "source": [
    "encoded_df"
   ]
  },
  {
   "cell_type": "code",
   "execution_count": 258,
   "metadata": {},
   "outputs": [],
   "source": [
    "X_train, y_train, X_validate, y_validate, X_test, y_test = explore.full_split(encoded_df, 'work_interfere')"
   ]
  },
  {
   "cell_type": "code",
   "execution_count": 259,
   "metadata": {},
   "outputs": [],
   "source": [
    "rfc = RandomForestClassifier(max_depth=8, min_samples_leaf=3, min_samples_split=10,\n",
    "                       random_state=123)"
   ]
  },
  {
   "cell_type": "code",
   "execution_count": 260,
   "metadata": {},
   "outputs": [],
   "source": [
    "X_res, y_res = ros.fit_resample(X_train, y_train)"
   ]
  },
  {
   "cell_type": "code",
   "execution_count": 261,
   "metadata": {},
   "outputs": [
    {
     "data": {
      "text/plain": [
       "RandomForestClassifier(max_depth=8, min_samples_leaf=3, min_samples_split=10,\n",
       "                       random_state=123)"
      ]
     },
     "execution_count": 261,
     "metadata": {},
     "output_type": "execute_result"
    }
   ],
   "source": [
    "rfc.fit(X_res,y_res)"
   ]
  },
  {
   "cell_type": "code",
   "execution_count": 262,
   "metadata": {},
   "outputs": [],
   "source": [
    "result = permutation_importance(rfc, X_res, y_res, scoring=None, n_repeats=10, n_jobs=4, random_state=123)"
   ]
  },
  {
   "cell_type": "code",
   "execution_count": 263,
   "metadata": {},
   "outputs": [
    {
     "data": {
      "image/png": "[encoded data removed]",
      "text/plain": [
       "<Figure size 432x288 with 1 Axes>"
      ]
     },
     "metadata": {
      "needs_background": "light"
     },
     "output_type": "display_data"
    }
   ],
   "source": [
    "sorted_idx = result.importances_mean.argsort()\n",
    "\n",
    "fig, ax = plt.subplots()\n",
    "ax.boxplot(result.importances[sorted_idx].T,\n",
    "           vert=False, labels=X_train.columns[sorted_idx])\n",
    "ax.set_title(\"Permutation Importances (train set)\")\n",
    "fig.tight_layout()\n",
    "plt.show()"
   ]
  },
  {
   "cell_type": "code",
   "execution_count": 264,
   "metadata": {},
   "outputs": [],
   "source": [
    "results = permutation_importance(rfc, X_test, y_test, scoring=None, n_repeats=10, n_jobs=4, random_state=123)"
   ]
  },
  {
   "cell_type": "code",
   "execution_count": 265,
   "metadata": {},
   "outputs": [
    {
     "data": {
      "image/png": "[encoded data removed]",
      "text/plain": [
       "<Figure size 432x288 with 1 Axes>"
      ]
     },
     "metadata": {
      "needs_background": "light"
     },
     "output_type": "display_data"
    }
   ],
   "source": [
    "sorted_idx = result.importances_mean.argsort()\n",
    "\n",
    "fig, ax = plt.subplots()\n",
    "ax.boxplot(result.importances[sorted_idx].T,\n",
    "           vert=False, labels=X_test.columns[sorted_idx])\n",
    "ax.set_title(\"Permutation Importances (test set)\")\n",
    "fig.tight_layout()\n",
    "plt.show()"
   ]
  },
  {
   "cell_type": "code",
   "execution_count": 266,
   "metadata": {},
   "outputs": [
    {
     "name": "stdout",
     "output_type": "stream",
     "text": [
      "train data set accuracy score: 79.14%\n",
      "train data set precision score 81.27%\n",
      "train data set recall score: 75.74%\n",
      "\n",
      "-------------------------------\n",
      "classification report\n",
      "              precision    recall  f1-score   support\n",
      "\n",
      "           0       0.77      0.83      0.80       338\n",
      "           1       0.81      0.76      0.78       338\n",
      "\n",
      "    accuracy                           0.79       676\n",
      "   macro avg       0.79      0.79      0.79       676\n",
      "weighted avg       0.79      0.79      0.79       676\n",
      "\n",
      "-------------------------------\n",
      "\n",
      "confusion matrix\n",
      "[[279  59]\n",
      " [ 82 256]]\n",
      "\n",
      "train data set model metrics\n",
      "---------------------------------\n",
      "True positive rate for the model is 75.74%\n",
      "False positive rate for the model is  17.46%\n",
      "True negative rate for the model is 82.54%\n",
      "False negative rate for the model is 24.26%\n",
      "\n"
     ]
    }
   ],
   "source": [
    "evaluate.run_metrics(X_res, y_res, rfc, 'train')"
   ]
  },
  {
   "cell_type": "code",
   "execution_count": 267,
   "metadata": {},
   "outputs": [
    {
     "name": "stdout",
     "output_type": "stream",
     "text": [
      "train data set accuracy score: 68.70%\n",
      "train data set precision score 77.44%\n",
      "train data set recall score: 71.03%\n",
      "\n",
      "-------------------------------\n",
      "classification report\n",
      "              precision    recall  f1-score   support\n",
      "\n",
      "           0       0.57      0.65      0.60        85\n",
      "           1       0.77      0.71      0.74       145\n",
      "\n",
      "    accuracy                           0.69       230\n",
      "   macro avg       0.67      0.68      0.67       230\n",
      "weighted avg       0.70      0.69      0.69       230\n",
      "\n",
      "-------------------------------\n",
      "\n",
      "confusion matrix\n",
      "[[ 55  30]\n",
      " [ 42 103]]\n",
      "\n",
      "train data set model metrics\n",
      "---------------------------------\n",
      "True positive rate for the model is 71.03%\n",
      "False positive rate for the model is  35.29%\n",
      "True negative rate for the model is 64.71%\n",
      "False negative rate for the model is 28.97%\n",
      "\n"
     ]
    }
   ],
   "source": [
    "evaluate.run_metrics(X_validate, y_validate, rfc, 'train')"
   ]
  },
  {
   "cell_type": "code",
   "execution_count": 317,
   "metadata": {},
   "outputs": [],
   "source": [
    "def get_importances(model):\n",
    "    '''This function takes in a tree based model and returns an array \n",
    "       of feature weights and the standard deviation between each tree\n",
    "       in the forest'''\n",
    "    # get start time\n",
    "    start_time = time.time()\n",
    "    # pull out feature importances\n",
    "    importances = model.feature_importances_\n",
    "    # find the standard deviation of feature importances for each tree in the random forest\n",
    "    std = np.std([\n",
    "        x.feature_importances_ for x in model.estimators_], axis=0)\n",
    "    # calculate the elapsed time for analysis\n",
    "    elapsed_time = time.time() - start_time\n",
    "    print(f\"Elapsed time to compute the importances: \"\n",
    "          f\"{elapsed_time:.3f} seconds\")\n",
    "    return importances, std"
   ]
  },
  {
   "cell_type": "code",
   "execution_count": 269,
   "metadata": {},
   "outputs": [
    {
     "name": "stdout",
     "output_type": "stream",
     "text": [
      "Elapsed time to compute the importances: 0.026 seconds\n"
     ]
    }
   ],
   "source": [
    "importances, std = get_importances(rfc)"
   ]
  },
  {
   "cell_type": "code",
   "execution_count": 312,
   "metadata": {},
   "outputs": [],
   "source": [
    "def graph_importances(data, importances, std): \n",
    "    '''Takes in the X_train for data, array of feature importance, and\n",
    "       standard deviation of estimators in the forest. Returns a graph\n",
    "       plotting mean decrease in impurity for each feature'''\n",
    "    # create feature names for x label of the chart\n",
    "    feature_names = [f'{i}' for i in X_res.columns]\n",
    "    # get importances for each feature\n",
    "    forest_importances = pd.Series(importances, index=feature_names)\n",
    "    fig, ax = plt.subplots()\n",
    "    # Use std for errorbars, place each feautre importance on the chart\n",
    "    forest_importances.plot.barh(xerr=std, ax=ax)\n",
    "    ax.set_title(\"Feature importances using MDI\")\n",
    "    ax.set_label('Features')\n",
    "    ax.set_xlabel(\"Mean decrease in impurity\")\n",
    "    return fig.tight_layout()"
   ]
  },
  {
   "cell_type": "code",
   "execution_count": 313,
   "metadata": {},
   "outputs": [
    {
     "data": {
      "image/png": "[encoded data removed]",
      "text/plain": [
       "<Figure size 432x288 with 1 Axes>"
      ]
     },
     "metadata": {
      "needs_background": "light"
     },
     "output_type": "display_data"
    }
   ],
   "source": [
    "graph_importances(X_res, importances, std)"
   ]
  },
  {
   "cell_type": "code",
   "execution_count": 331,
   "metadata": {},
   "outputs": [],
   "source": [
    "from sklearn.tree import export_graphviz\n",
    "import graphviz\n",
    "from sklearn.tree import plot_tree"
   ]
  },
  {
   "cell_type": "code",
   "execution_count": 296,
   "metadata": {},
   "outputs": [],
   "source": [
    "dot = export_graphviz(rfc.estimators_[99],\n",
    "                feature_names=X_res.columns,\n",
    "                filled=True,\n",
    "                rounded=True)\n",
    "graph = graphviz.Source(dot, format='png')"
   ]
  },
  {
   "cell_type": "code",
   "execution_count": 297,
   "metadata": {},
   "outputs": [
    {
     "data": {
      "text/plain": [
       "'graph.png.png'"
      ]
     },
     "execution_count": 297,
     "metadata": {},
     "output_type": "execute_result"
    }
   ],
   "source": [
    "graph.render(filename = 'graph.)"
   ]
  },
  {
   "cell_type": "code",
   "execution_count": 326,
   "metadata": {},
   "outputs": [],
   "source": [
    "tree1 = DecisionTreeClassifier(max_depth=3, min_samples_leaf=3, min_samples_split=3)"
   ]
  },
  {
   "cell_type": "code",
   "execution_count": 327,
   "metadata": {},
   "outputs": [
    {
     "data": {
      "text/plain": [
       "DecisionTreeClassifier(max_depth=3, min_samples_leaf=3, min_samples_split=3)"
      ]
     },
     "execution_count": 327,
     "metadata": {},
     "output_type": "execute_result"
    }
   ],
   "source": [
    "tree1.fit(X_res, y_res)"
   ]
  },
  {
   "cell_type": "code",
   "execution_count": 328,
   "metadata": {},
   "outputs": [
    {
     "data": {
      "text/plain": [
       "array([0.        , 0.        , 0.        , 0.0823626 , 0.05871165,\n",
       "       0.05019685, 0.68746224, 0.04676646, 0.07450021])"
      ]
     },
     "execution_count": 328,
     "metadata": {},
     "output_type": "execute_result"
    }
   ],
   "source": [
    "tree.feature_importances_"
   ]
  },
  {
   "cell_type": "code",
   "execution_count": 332,
   "metadata": {},
   "outputs": [
    {
     "data": {
      "text/plain": [
       "[Text(167.4, 190.26, 'X[6] <= 0.5\\ngini = 0.5\\nsamples = 676\\nvalue = [338, 338]'),\n",
       " Text(83.7, 135.9, 'X[8] <= 1.5\\ngini = 0.455\\nsamples = 422\\nvalue = [274, 148]'),\n",
       " Text(41.85, 81.53999999999999, 'X[3] <= 1.5\\ngini = 0.477\\nsamples = 331\\nvalue = [201, 130]'),\n",
       " Text(20.925, 27.180000000000007, 'gini = 0.485\\nsamples = 41\\nvalue = [17, 24]'),\n",
       " Text(62.775000000000006, 27.180000000000007, 'gini = 0.464\\nsamples = 290\\nvalue = [184, 106]'),\n",
       " Text(125.55000000000001, 81.53999999999999, 'X[5] <= 1.5\\ngini = 0.317\\nsamples = 91\\nvalue = [73, 18]'),\n",
       " Text(104.625, 27.180000000000007, 'gini = 0.219\\nsamples = 72\\nvalue = [63, 9]'),\n",
       " Text(146.475, 27.180000000000007, 'gini = 0.499\\nsamples = 19\\nvalue = [10, 9]'),\n",
       " Text(251.10000000000002, 135.9, 'X[7] <= 0.5\\ngini = 0.377\\nsamples = 254\\nvalue = [64, 190]'),\n",
       " Text(209.25, 81.53999999999999, 'X[4] <= 0.5\\ngini = 0.46\\nsamples = 95\\nvalue = [34, 61]'),\n",
       " Text(188.32500000000002, 27.180000000000007, 'gini = 0.493\\nsamples = 34\\nvalue = [19, 15]'),\n",
       " Text(230.175, 27.180000000000007, 'gini = 0.371\\nsamples = 61\\nvalue = [15, 46]'),\n",
       " Text(292.95, 81.53999999999999, 'X[3] <= 1.5\\ngini = 0.306\\nsamples = 159\\nvalue = [30, 129]'),\n",
       " Text(272.02500000000003, 27.180000000000007, 'gini = 0.0\\nsamples = 29\\nvalue = [0, 29]'),\n",
       " Text(313.875, 27.180000000000007, 'gini = 0.355\\nsamples = 130\\nvalue = [30, 100]')]"
      ]
     },
     "execution_count": 332,
     "metadata": {},
     "output_type": "execute_result"
    },
    {
     "data": {
      "image/png": "[encoded data removed]",
      "text/plain": [
       "<Figure size 432x288 with 1 Axes>"
      ]
     },
     "metadata": {
      "needs_background": "light"
     },
     "output_type": "display_data"
    }
   ],
   "source": [
    "plot_tree(tree1)"
   ]
  },
  {
   "cell_type": "code",
   "execution_count": 336,
   "metadata": {},
   "outputs": [
    {
     "data": {
      "text/plain": [
       "[Text(465.0, 792.75, 'family_history <= 0.5\\ngini = 0.5\\nsamples = 676\\nvalue = [338, 338]\\nclass = no'),\n",
       " Text(232.5, 566.25, 'mental_health_interview <= 1.5\\ngini = 0.455\\nsamples = 422\\nvalue = [274, 148]\\nclass = no'),\n",
       " Text(116.25, 339.75, 'leave <= 1.5\\ngini = 0.477\\nsamples = 331\\nvalue = [201, 130]\\nclass = no'),\n",
       " Text(58.125, 113.25, 'gini = 0.485\\nsamples = 41\\nvalue = [17, 24]\\nclass = yes'),\n",
       " Text(174.375, 113.25, 'gini = 0.464\\nsamples = 290\\nvalue = [184, 106]\\nclass = no'),\n",
       " Text(348.75, 339.75, 'supervisor <= 1.5\\ngini = 0.317\\nsamples = 91\\nvalue = [73, 18]\\nclass = no'),\n",
       " Text(290.625, 113.25, 'gini = 0.219\\nsamples = 72\\nvalue = [63, 9]\\nclass = no'),\n",
       " Text(406.875, 113.25, 'gini = 0.499\\nsamples = 19\\nvalue = [10, 9]\\nclass = no'),\n",
       " Text(697.5, 566.25, 'care_options <= 0.5\\ngini = 0.377\\nsamples = 254\\nvalue = [64, 190]\\nclass = yes'),\n",
       " Text(581.25, 339.75, 'mental_health_consequence <= 0.5\\ngini = 0.46\\nsamples = 95\\nvalue = [34, 61]\\nclass = yes'),\n",
       " Text(523.125, 113.25, 'gini = 0.493\\nsamples = 34\\nvalue = [19, 15]\\nclass = no'),\n",
       " Text(639.375, 113.25, 'gini = 0.371\\nsamples = 61\\nvalue = [15, 46]\\nclass = yes'),\n",
       " Text(813.75, 339.75, 'leave <= 1.5\\ngini = 0.306\\nsamples = 159\\nvalue = [30, 129]\\nclass = yes'),\n",
       " Text(755.625, 113.25, 'gini = 0.0\\nsamples = 29\\nvalue = [0, 29]\\nclass = yes'),\n",
       " Text(871.875, 113.25, 'gini = 0.355\\nsamples = 130\\nvalue = [30, 100]\\nclass = yes')]"
      ]
     },
     "execution_count": 336,
     "metadata": {},
     "output_type": "execute_result"
    },
    {
     "data": {
      "image/png": "[encoded data removed]",
      "text/plain": [
       "<Figure size 1200x1200 with 1 Axes>"
      ]
     },
     "metadata": {
      "needs_background": "light"
     },
     "output_type": "display_data"
    }
   ],
   "source": [
    "fig, axes = plt.subplots(nrows = 1,ncols = 1,figsize = (4,4), dpi=300)\n",
    "plot_tree(tree1,\n",
    "       feature_names = list(X_res.columns), \n",
    "       class_names=['no', 'yes'],\n",
    "       filled = True)"
   ]
  },
  {
   "cell_type": "code",
   "execution_count": 338,
   "metadata": {},
   "outputs": [
    {
     "data": {
      "text/plain": [
       "0      2\n",
       "1      3\n",
       "2      3\n",
       "3      4\n",
       "4      3\n",
       "      ..\n",
       "671    2\n",
       "672    2\n",
       "673    2\n",
       "674    2\n",
       "675    2\n",
       "Name: leave, Length: 676, dtype: int64"
      ]
     },
     "execution_count": 338,
     "metadata": {},
     "output_type": "execute_result"
    }
   ],
   "source": [
    "X_res.leave"
   ]
  },
  {
   "cell_type": "code",
   "execution_count": null,
   "metadata": {},
   "outputs": [],
   "source": []
  },
  {
   "cell_type": "code",
   "execution_count": null,
   "metadata": {},
   "outputs": [],
   "source": []
  },
  {
   "cell_type": "code",
   "execution_count": null,
   "metadata": {},
   "outputs": [],
   "source": []
  },
  {
   "cell_type": "code",
   "execution_count": null,
   "metadata": {},
   "outputs": [],
   "source": []
  },
  {
   "cell_type": "code",
   "execution_count": null,
   "metadata": {},
   "outputs": [],
   "source": []
  },
  {
   "cell_type": "code",
   "execution_count": null,
   "metadata": {},
   "outputs": [],
   "source": []
  },
  {
   "cell_type": "code",
   "execution_count": null,
   "metadata": {},
   "outputs": [],
   "source": []
  },
  {
   "cell_type": "markdown",
   "metadata": {},
   "source": [
    "### Catboost"
   ]
  },
  {
   "cell_type": "code",
   "execution_count": null,
   "metadata": {},
   "outputs": [],
   "source": [
    "from catboost import CatBoostClassifier"
   ]
  },
  {
   "cell_type": "code",
   "execution_count": null,
   "metadata": {},
   "outputs": [],
   "source": [
    "tX_train, y_train, X_validate, y_validate, X_test, y_test = explore.full_split(string_df, 'work_inerfere')"
   ]
  },
  {
   "cell_type": "code",
   "execution_count": null,
   "metadata": {},
   "outputs": [],
   "source": [
    "ros = over_sampling.RandomOverSampler(random_state = 123)\n",
    "X_res, y_res = ros.fit_resample(X_train, y_train)"
   ]
  },
  {
   "cell_type": "code",
   "execution_count": null,
   "metadata": {},
   "outputs": [],
   "source": [
    "y_res.unique()"
   ]
  },
  {
   "cell_type": "code",
   "execution_count": null,
   "metadata": {},
   "outputs": [],
   "source": [
    "y_res = y_res.map({'Never':'No','Not applicable':'No','Rarely':'Yes','Often':'Yes','Sometimes':'Yes'})\n",
    "y_validate = y_validate.map({'Never':'No','Not applicable':'No','Rarely':'Yes','Often':'Yes','Sometimes':'Yes'})\n",
    "y_test = y_test.map({'Never':'No','Not applicable':'No','Rarely':'Yes','Often':'Yes','Sometimes':'Yes'})"
   ]
  },
  {
   "cell_type": "code",
   "execution_count": null,
   "metadata": {},
   "outputs": [],
   "source": [
    "cboost = CatBoostClassifier(iterations=50,\n",
    "                           depth=8,\n",
    "                           learning_rate=1,\n",
    "                           loss_function='Logloss',\n",
    "                           verbose=True,\n",
    "                           cat_features = list(X_res.columns))"
   ]
  },
  {
   "cell_type": "code",
   "execution_count": null,
   "metadata": {},
   "outputs": [],
   "source": [
    "cboost.fit(X_res, y_res)"
   ]
  },
  {
   "cell_type": "code",
   "execution_count": null,
   "metadata": {},
   "outputs": [],
   "source": [
    "evaluate.run_metrics(X_res, y_res, cboost, 'Train')"
   ]
  },
  {
   "cell_type": "code",
   "execution_count": null,
   "metadata": {},
   "outputs": [],
   "source": [
    "evaluate.run_metrics(X_validate, y_validate, cboost, 'Validate')"
   ]
  },
  {
   "cell_type": "code",
   "execution_count": null,
   "metadata": {},
   "outputs": [],
   "source": [
    "parameters = {\n",
    "    'hidden_layer_sizes': [(20,),(50,),(100,)],\n",
    "    'activation': ['tanh', 'relu', 'logistic'],\n",
    "    'solver': ['sgd', 'adam','lbfgs'],\n",
    "    'alpha': [0.0001, 0.05, .025, .01, .005],\n",
    "    'learning_rate': ['constant','adaptive'],\n",
    "}"
   ]
  },
  {
   "cell_type": "code",
   "execution_count": null,
   "metadata": {},
   "outputs": [],
   "source": [
    "grid1 = GridSearchCV(cboost, parameters, n_jobs=-1, cv=5)\n",
    "grid1.fit(X_res, y_res)"
   ]
  }
 ],
 "metadata": {
  "kernelspec": {
   "display_name": "Python 3",
   "language": "python",
   "name": "python3"
  },
  "language_info": {
   "codemirror_mode": {
    "name": "ipython",
    "version": 3
   },
   "file_extension": ".py",
   "mimetype": "text/x-python",
   "name": "python",
   "nbconvert_exporter": "python",
   "pygments_lexer": "ipython3",
   "version": "3.8.5"
  }
 },
 "nbformat": 4,
 "nbformat_minor": 4
}
